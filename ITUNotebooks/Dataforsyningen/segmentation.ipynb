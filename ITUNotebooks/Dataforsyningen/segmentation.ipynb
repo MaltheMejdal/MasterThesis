{
 "cells": [
  {
   "cell_type": "markdown",
   "metadata": {},
   "source": [
    "## Segmentation of 1 Aarhus location for comparison\n",
    "\n",
    "Using dataforsyningen tiles and Tile2Net"
   ]
  },
  {
   "cell_type": "code",
   "execution_count": 1,
   "metadata": {},
   "outputs": [],
   "source": [
    "from tile2net import Raster"
   ]
  },
  {
   "cell_type": "markdown",
   "metadata": {},
   "source": [
    "# Aarhus Location 1"
   ]
  },
  {
   "cell_type": "code",
   "execution_count": 2,
   "metadata": {},
   "outputs": [
    {
     "name": "stdout",
     "output_type": "stream",
     "text": [
      "{'x': 0}\n",
      "{}\n"
     ]
    },
    {
     "data": {
      "text/plain": [
       "Aarhus1Dataforsyningen Data Constructor. \n",
       "Coordinate reference system (CRS): 4326 \n",
       "Tile size (pixel): 256 \n",
       "Zoom level: 20 \n",
       "Number of columns: 11 \n",
       "Number of rows: 6 \n",
       "Total tiles: 66 \n",
       "Number of tiles inside the boundary: 66 (100.0%) "
      ]
     },
     "execution_count": 2,
     "metadata": {},
     "output_type": "execute_result"
    }
   ],
   "source": [
    "min_lat = 56.155180\n",
    "min_lon = 10.193435\n",
    "max_lat = 56.154192\n",
    "max_lon = 10.196928\n",
    "location = f\"{min_lat}, {min_lon}, {max_lat}, {max_lon}\"\n",
    "\n",
    "raster = Raster(\n",
    "    name=\"Aarhus1Dataforsyningen\",\n",
    "    location=location,\n",
    "    input_dir=r'../../ITUData\\dataforsyningen\\tiles\\static\\256_20\\x_y.png',\n",
    "    zoom=20,\n",
    "    base_tilesize=256,\n",
    ")\n",
    "\n",
    "raster\n",
    "#11 and 6"
   ]
  },
  {
   "cell_type": "code",
   "execution_count": 3,
   "metadata": {},
   "outputs": [
    {
     "data": {
      "text/plain": [
       "array([[Tile(xtile=553978, ytile=325709, idd=0, position=(0, 0), extension='png'),\n",
       "        Tile(xtile=553978, ytile=325710, idd=1, position=(0, 1), extension='png'),\n",
       "        Tile(xtile=553978, ytile=325711, idd=2, position=(0, 2), extension='png'),\n",
       "        Tile(xtile=553978, ytile=325712, idd=3, position=(0, 3), extension='png'),\n",
       "        Tile(xtile=553978, ytile=325713, idd=4, position=(0, 4), extension='png'),\n",
       "        Tile(xtile=553978, ytile=325714, idd=5, position=(0, 5), extension='png')],\n",
       "       [Tile(xtile=553979, ytile=325709, idd=6, position=(1, 0), extension='png'),\n",
       "        Tile(xtile=553979, ytile=325710, idd=7, position=(1, 1), extension='png'),\n",
       "        Tile(xtile=553979, ytile=325711, idd=8, position=(1, 2), extension='png'),\n",
       "        Tile(xtile=553979, ytile=325712, idd=9, position=(1, 3), extension='png'),\n",
       "        Tile(xtile=553979, ytile=325713, idd=10, position=(1, 4), extension='png'),\n",
       "        Tile(xtile=553979, ytile=325714, idd=11, position=(1, 5), extension='png')],\n",
       "       [Tile(xtile=553980, ytile=325709, idd=12, position=(2, 0), extension='png'),\n",
       "        Tile(xtile=553980, ytile=325710, idd=13, position=(2, 1), extension='png'),\n",
       "        Tile(xtile=553980, ytile=325711, idd=14, position=(2, 2), extension='png'),\n",
       "        Tile(xtile=553980, ytile=325712, idd=15, position=(2, 3), extension='png'),\n",
       "        Tile(xtile=553980, ytile=325713, idd=16, position=(2, 4), extension='png'),\n",
       "        Tile(xtile=553980, ytile=325714, idd=17, position=(2, 5), extension='png')],\n",
       "       [Tile(xtile=553981, ytile=325709, idd=18, position=(3, 0), extension='png'),\n",
       "        Tile(xtile=553981, ytile=325710, idd=19, position=(3, 1), extension='png'),\n",
       "        Tile(xtile=553981, ytile=325711, idd=20, position=(3, 2), extension='png'),\n",
       "        Tile(xtile=553981, ytile=325712, idd=21, position=(3, 3), extension='png'),\n",
       "        Tile(xtile=553981, ytile=325713, idd=22, position=(3, 4), extension='png'),\n",
       "        Tile(xtile=553981, ytile=325714, idd=23, position=(3, 5), extension='png')],\n",
       "       [Tile(xtile=553982, ytile=325709, idd=24, position=(4, 0), extension='png'),\n",
       "        Tile(xtile=553982, ytile=325710, idd=25, position=(4, 1), extension='png'),\n",
       "        Tile(xtile=553982, ytile=325711, idd=26, position=(4, 2), extension='png'),\n",
       "        Tile(xtile=553982, ytile=325712, idd=27, position=(4, 3), extension='png'),\n",
       "        Tile(xtile=553982, ytile=325713, idd=28, position=(4, 4), extension='png'),\n",
       "        Tile(xtile=553982, ytile=325714, idd=29, position=(4, 5), extension='png')],\n",
       "       [Tile(xtile=553983, ytile=325709, idd=30, position=(5, 0), extension='png'),\n",
       "        Tile(xtile=553983, ytile=325710, idd=31, position=(5, 1), extension='png'),\n",
       "        Tile(xtile=553983, ytile=325711, idd=32, position=(5, 2), extension='png'),\n",
       "        Tile(xtile=553983, ytile=325712, idd=33, position=(5, 3), extension='png'),\n",
       "        Tile(xtile=553983, ytile=325713, idd=34, position=(5, 4), extension='png'),\n",
       "        Tile(xtile=553983, ytile=325714, idd=35, position=(5, 5), extension='png')],\n",
       "       [Tile(xtile=553984, ytile=325709, idd=36, position=(6, 0), extension='png'),\n",
       "        Tile(xtile=553984, ytile=325710, idd=37, position=(6, 1), extension='png'),\n",
       "        Tile(xtile=553984, ytile=325711, idd=38, position=(6, 2), extension='png'),\n",
       "        Tile(xtile=553984, ytile=325712, idd=39, position=(6, 3), extension='png'),\n",
       "        Tile(xtile=553984, ytile=325713, idd=40, position=(6, 4), extension='png'),\n",
       "        Tile(xtile=553984, ytile=325714, idd=41, position=(6, 5), extension='png')],\n",
       "       [Tile(xtile=553985, ytile=325709, idd=42, position=(7, 0), extension='png'),\n",
       "        Tile(xtile=553985, ytile=325710, idd=43, position=(7, 1), extension='png'),\n",
       "        Tile(xtile=553985, ytile=325711, idd=44, position=(7, 2), extension='png'),\n",
       "        Tile(xtile=553985, ytile=325712, idd=45, position=(7, 3), extension='png'),\n",
       "        Tile(xtile=553985, ytile=325713, idd=46, position=(7, 4), extension='png'),\n",
       "        Tile(xtile=553985, ytile=325714, idd=47, position=(7, 5), extension='png')],\n",
       "       [Tile(xtile=553986, ytile=325709, idd=48, position=(8, 0), extension='png'),\n",
       "        Tile(xtile=553986, ytile=325710, idd=49, position=(8, 1), extension='png'),\n",
       "        Tile(xtile=553986, ytile=325711, idd=50, position=(8, 2), extension='png'),\n",
       "        Tile(xtile=553986, ytile=325712, idd=51, position=(8, 3), extension='png'),\n",
       "        Tile(xtile=553986, ytile=325713, idd=52, position=(8, 4), extension='png'),\n",
       "        Tile(xtile=553986, ytile=325714, idd=53, position=(8, 5), extension='png')],\n",
       "       [Tile(xtile=553987, ytile=325709, idd=54, position=(9, 0), extension='png'),\n",
       "        Tile(xtile=553987, ytile=325710, idd=55, position=(9, 1), extension='png'),\n",
       "        Tile(xtile=553987, ytile=325711, idd=56, position=(9, 2), extension='png'),\n",
       "        Tile(xtile=553987, ytile=325712, idd=57, position=(9, 3), extension='png'),\n",
       "        Tile(xtile=553987, ytile=325713, idd=58, position=(9, 4), extension='png'),\n",
       "        Tile(xtile=553987, ytile=325714, idd=59, position=(9, 5), extension='png')],\n",
       "       [Tile(xtile=553988, ytile=325709, idd=60, position=(10, 0), extension='png'),\n",
       "        Tile(xtile=553988, ytile=325710, idd=61, position=(10, 1), extension='png'),\n",
       "        Tile(xtile=553988, ytile=325711, idd=62, position=(10, 2), extension='png'),\n",
       "        Tile(xtile=553988, ytile=325712, idd=63, position=(10, 3), extension='png'),\n",
       "        Tile(xtile=553988, ytile=325713, idd=64, position=(10, 4), extension='png'),\n",
       "        Tile(xtile=553988, ytile=325714, idd=65, position=(10, 5), extension='png')]],\n",
       "      dtype=object)"
      ]
     },
     "execution_count": 3,
     "metadata": {},
     "output_type": "execute_result"
    }
   ],
   "source": [
    "raster.tiles"
   ]
  },
  {
   "cell_type": "code",
   "execution_count": 4,
   "metadata": {},
   "outputs": [
    {
     "data": {
      "text/plain": [
       "{\n",
       "    \"config\": \"C:\\\\Users\\\\Nielsen\\\\Desktop\\\\tile2net\\\\tile2net-main\\\\src\\\\tile2net\\\\tileseg\\\\config.py\",\n",
       "    \"assets\": {\n",
       "        \"weights\": {\n",
       "            \"satellite_2021\": \"C:\\\\Users\\\\Nielsen\\\\Desktop\\\\tile2net\\\\tile2net-main\\\\src\\\\tile2net\\\\raster\\\\resources\\\\assets\\\\weights\\\\satellite_2021.pth\",\n",
       "            \"hrnetv2_w48_imagenet_pretrained\": \"C:\\\\Users\\\\Nielsen\\\\Desktop\\\\tile2net\\\\tile2net-main\\\\src\\\\tile2net\\\\raster\\\\resources\\\\assets\\\\weights\\\\hrnetv2_w48_imagenet_pretrained.pth\"\n",
       "        }\n",
       "    },\n",
       "    \"segmentation\": \"C:\\\\Users\\\\Nielsen\\\\AppData\\\\Local\\\\Temp\\\\tile2net\\\\Aarhus1Dataforsyningen\\\\segmentation\\\\Aarhus1Dataforsyningen\\\\256_20_1\",\n",
       "    \"tiles\": {\n",
       "        \"info\": \"C:\\\\Users\\\\Nielsen\\\\AppData\\\\Local\\\\Temp\\\\tile2net\\\\Aarhus1Dataforsyningen\\\\tiles\\\\Aarhus1Dataforsyningen_256_info.json\",\n",
       "        \"static\": \"../..\",\n",
       "        \"stitched\": \"C:\\\\Users\\\\Nielsen\\\\AppData\\\\Local\\\\Temp\\\\tile2net\\\\Aarhus1Dataforsyningen\\\\tiles\\\\stitched\\\\256_20_1\"\n",
       "    },\n",
       "    \"polygons\": \"C:\\\\Users\\\\Nielsen\\\\AppData\\\\Local\\\\Temp\\\\tile2net\\\\Aarhus1Dataforsyningen\\\\polygons\",\n",
       "    \"network\": \"C:\\\\Users\\\\Nielsen\\\\AppData\\\\Local\\\\Temp\\\\tile2net\\\\Aarhus1Dataforsyningen\\\\network\",\n",
       "    \"name\": \"Aarhus1Dataforsyningen\"\n",
       "}"
      ]
     },
     "execution_count": 4,
     "metadata": {},
     "output_type": "execute_result"
    }
   ],
   "source": [
    "raster.project"
   ]
  },
  {
   "cell_type": "code",
   "execution_count": 23,
   "metadata": {},
   "outputs": [
    {
     "data": {
      "text/plain": [
       "[56.1541552364, 56.1549200974, 10.1932525635, 10.1956558228]"
      ]
     },
     "execution_count": 23,
     "metadata": {},
     "output_type": "execute_result"
    }
   ],
   "source": [
    "raster.bbox"
   ]
  },
  {
   "cell_type": "code",
   "execution_count": 5,
   "metadata": {},
   "outputs": [
    {
     "data": {
      "text/plain": [
       "<bound method Grid.update_tiles of Aarhus1Dataforsyningen Data Constructor. \n",
       "Coordinate reference system (CRS): 4326 \n",
       "Tile size (pixel): 256 \n",
       "Zoom level: 20 \n",
       "Number of columns: 11 \n",
       "Number of rows: 6 \n",
       "Total tiles: 66 \n",
       "Number of tiles inside the boundary: 66 (100.0%) \n",
       ">"
      ]
     },
     "execution_count": 5,
     "metadata": {},
     "output_type": "execute_result"
    }
   ],
   "source": [
    "raster.update_tiles"
   ]
  },
  {
   "cell_type": "code",
   "execution_count": 6,
   "metadata": {},
   "outputs": [
    {
     "name": "stderr",
     "output_type": "stream",
     "text": [
      "INFO       Stitching 11 tiles...\n",
      "INFO       All tiles already stitched.\n",
      "INFO       Dumping to C:\\Users\\Nielsen\\AppData\\Local\\Temp\\tile2net\\Aarhus1Dataforsyningen\\tiles\\Aarhus1Dataforsyningen_256_info.json\n"
     ]
    },
    {
     "name": "stdout",
     "output_type": "stream",
     "text": [
      "{\n",
      "    \"config\": \"C:\\\\Users\\\\Nielsen\\\\Desktop\\\\tile2net\\\\tile2net-main\\\\src\\\\tile2net\\\\tileseg\\\\config.py\",\n",
      "    \"assets\": {\n",
      "        \"weights\": {\n",
      "            \"satellite_2021\": \"C:\\\\Users\\\\Nielsen\\\\Desktop\\\\tile2net\\\\tile2net-main\\\\src\\\\tile2net\\\\raster\\\\resources\\\\assets\\\\weights\\\\satellite_2021.pth\",\n",
      "            \"hrnetv2_w48_imagenet_pretrained\": \"C:\\\\Users\\\\Nielsen\\\\Desktop\\\\tile2net\\\\tile2net-main\\\\src\\\\tile2net\\\\raster\\\\resources\\\\assets\\\\weights\\\\hrnetv2_w48_imagenet_pretrained.pth\"\n",
      "        }\n",
      "    },\n",
      "    \"segmentation\": \"C:\\\\Users\\\\Nielsen\\\\AppData\\\\Local\\\\Temp\\\\tile2net\\\\Aarhus1Dataforsyningen\\\\segmentation\\\\Aarhus1Dataforsyningen\\\\256_20_2\",\n",
      "    \"tiles\": {\n",
      "        \"info\": \"C:\\\\Users\\\\Nielsen\\\\AppData\\\\Local\\\\Temp\\\\tile2net\\\\Aarhus1Dataforsyningen\\\\tiles\\\\Aarhus1Dataforsyningen_256_info.json\",\n",
      "        \"static\": \"../..\",\n",
      "        \"stitched\": \"C:\\\\Users\\\\Nielsen\\\\AppData\\\\Local\\\\Temp\\\\tile2net\\\\Aarhus1Dataforsyningen\\\\tiles\\\\stitched\\\\256_20_2\"\n",
      "    },\n",
      "    \"polygons\": \"C:\\\\Users\\\\Nielsen\\\\AppData\\\\Local\\\\Temp\\\\tile2net\\\\Aarhus1Dataforsyningen\\\\polygons\",\n",
      "    \"network\": \"C:\\\\Users\\\\Nielsen\\\\AppData\\\\Local\\\\Temp\\\\tile2net\\\\Aarhus1Dataforsyningen\\\\network\",\n",
      "    \"name\": \"Aarhus1Dataforsyningen\"\n",
      "}"
     ]
    }
   ],
   "source": [
    "raster.generate(2)"
   ]
  },
  {
   "cell_type": "code",
   "execution_count": 7,
   "metadata": {},
   "outputs": [
    {
     "name": "stderr",
     "output_type": "stream",
     "text": [
      "INFO       Running ['python', '-m', 'tile2net', 'inference', '--city_info', 'C:\\\\Users\\\\Nielsen\\\\AppData\\\\Local\\\\Temp\\\\tile2net\\\\Aarhus1Dataforsyningen\\\\tiles\\\\Aarhus1Dataforsyningen_256_info.json', '--interactive', '--dump_percent', '0']\n"
     ]
    }
   ],
   "source": [
    "raster.inference()"
   ]
  }
 ],
 "metadata": {
  "kernelspec": {
   "display_name": "mitTest",
   "language": "python",
   "name": "python3"
  },
  "language_info": {
   "codemirror_mode": {
    "name": "ipython",
    "version": 3
   },
   "file_extension": ".py",
   "mimetype": "text/x-python",
   "name": "python",
   "nbconvert_exporter": "python",
   "pygments_lexer": "ipython3",
   "version": "3.10.9"
  }
 },
 "nbformat": 4,
 "nbformat_minor": 2
}
