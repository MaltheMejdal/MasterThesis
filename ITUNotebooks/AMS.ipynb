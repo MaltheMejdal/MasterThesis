{
 "cells": [
  {
   "cell_type": "markdown",
   "metadata": {},
   "source": [
    "##  Administrative Map Segmentation"
   ]
  },
  {
   "cell_type": "code",
   "execution_count": 1,
   "metadata": {},
   "outputs": [],
   "source": [
    "from helperFunctions.AMS import API\n",
    "from helperFunctions.AMS import segmentation as SEG"
   ]
  },
  {
   "cell_type": "markdown",
   "metadata": {},
   "source": [
    "### Aarhus 1"
   ]
  },
  {
   "cell_type": "code",
   "execution_count": 36,
   "metadata": {},
   "outputs": [],
   "source": [
    "pathMaps = \"../ITUData/Dataforsyningen/Maps/Aarhus1\"\n",
    "pathResult=\"../ITUData/AM_segmented/Aarhus1\"\n",
    "pathResultNoStructures=\"../ITUData/AM_segmented/Aarhus1/noStructures\"\n",
    "\n",
    "#Area and resolution specifications:\n",
    "min_lat = 56.15460857439466\n",
    "min_lon = 10.192037972762382\n",
    "max_lat = 56.15581114830297\n",
    "max_lon = 10.199668652079422\n",
    "width = 4650\n",
    "height = 1315\n"
   ]
  },
  {
   "cell_type": "code",
   "execution_count": 3,
   "metadata": {},
   "outputs": [],
   "source": [
    "#Getting maps\n",
    "API.getAMDetailed(min_lat,min_lon,max_lat,max_lon,width,height,pathMaps)\n",
    "API.getAMWithRoads(min_lat,min_lon,max_lat,max_lon,width,height,pathMaps)\n",
    "API.getBoundaries(min_lat,min_lon,max_lat,max_lon,width,height,pathMaps)\n",
    "API.getRoutes(min_lat,min_lon,max_lat,max_lon,width,height,pathMaps)\n",
    "API.getSatellite(min_lat,min_lon,max_lat,max_lon,width,height,pathMaps)"
   ]
  },
  {
   "cell_type": "code",
   "execution_count": 4,
   "metadata": {},
   "outputs": [
    {
     "data": {
      "text/plain": [
       "<function helperFunctions.AMS.segmentation.segmentAM(amBaseMap, am_withRoads, boundariesImage, routesImage, satellite, pathResult)>"
      ]
     },
     "execution_count": 4,
     "metadata": {},
     "output_type": "execute_result"
    }
   ],
   "source": [
    "#Loading all maps\n",
    "am_withRoads, boundaries, routes, amBaseMap, satellite = SEG.loadImages(pathMaps)\n",
    "\n",
    "#Segmenting without buildings and structures.\n",
    "SEG.segmentAM(amBaseMap,am_withRoads,boundaries, routes,satellite,pathResult)\n",
    "\n",
    "#Segmenting with buildings and structures\n",
    "SEG.segmentAM_noStructures(amBaseMap,am_withRoads,boundaries, routes,satellite,pathResultNoStructures)\n"
   ]
  },
  {
   "cell_type": "markdown",
   "metadata": {},
   "source": [
    "### Aarhus 2"
   ]
  },
  {
   "cell_type": "code",
   "execution_count": 5,
   "metadata": {},
   "outputs": [],
   "source": [
    "pathMaps = \"../ITUData/Dataforsyningen/Maps/Aarhus2\"\n",
    "pathResult=\"../ITUData/AM_segmented/Aarhus2\"\n",
    "pathResultNoStructures=\"../ITUData/AM_segmented/Aarhus2/noStructures\"\n",
    "\n",
    "#Area and resolution specifications:\n",
    "min_lat = 56.156187\n",
    "min_lon = 10.205695\n",
    "max_lat = 56.158453\n",
    "max_lon = 10.215011\n",
    "width = 4650\n",
    "height = 2030"
   ]
  },
  {
   "cell_type": "code",
   "execution_count": 6,
   "metadata": {},
   "outputs": [],
   "source": [
    "#Getting maps\n",
    "API.getAMDetailed(min_lat,min_lon,max_lat,max_lon,width,height,pathMaps)\n",
    "API.getAMWithRoads(min_lat,min_lon,max_lat,max_lon,width,height,pathMaps)\n",
    "API.getBoundaries(min_lat,min_lon,max_lat,max_lon,width,height,pathMaps)\n",
    "API.getRoutes(min_lat,min_lon,max_lat,max_lon,width,height,pathMaps)\n",
    "API.getSatellite(min_lat,min_lon,max_lat,max_lon,width,height,pathMaps)"
   ]
  },
  {
   "cell_type": "code",
   "execution_count": 7,
   "metadata": {},
   "outputs": [
    {
     "data": {
      "text/plain": [
       "<function helperFunctions.AMS.segmentation.segmentAM(amBaseMap, am_withRoads, boundariesImage, routesImage, satellite, pathResult)>"
      ]
     },
     "execution_count": 7,
     "metadata": {},
     "output_type": "execute_result"
    }
   ],
   "source": [
    "#Loading all maps\n",
    "am_withRoads, boundaries, routes, amBaseMap, satellite = SEG.loadImages(pathMaps)\n",
    "\n",
    "#Segmenting without buildings and structures.\n",
    "SEG.segmentAM(amBaseMap,am_withRoads,boundaries, routes,satellite,pathResult)\n",
    "\n",
    "#Segmenting with buildings and structures\n",
    "SEG.segmentAM_noStructures(amBaseMap,am_withRoads,boundaries, routes,satellite,pathResultNoStructures)"
   ]
  },
  {
   "cell_type": "markdown",
   "metadata": {},
   "source": [
    "### Aarhus 3"
   ]
  },
  {
   "cell_type": "code",
   "execution_count": 8,
   "metadata": {},
   "outputs": [],
   "source": [
    "pathMaps = \"../ITUData/Dataforsyningen/Maps/Aarhus3\"\n",
    "pathResult=\"../ITUData/AM_segmented/Aarhus3\"\n",
    "pathResultNoStructures=\"../ITUData/AM_segmented/Aarhus3/noStructures\"\n",
    "\n",
    "#Area and resolution specifications:\n",
    "min_lat = 56.150489\n",
    "min_lon = 10.200536\n",
    "max_lat = 56.153002\n",
    "max_lon = 10.203170\n",
    "width = 2697\n",
    "height = 4620\n"
   ]
  },
  {
   "cell_type": "code",
   "execution_count": 9,
   "metadata": {},
   "outputs": [],
   "source": [
    "#Getting maps\n",
    "API.getAMDetailed(min_lat,min_lon,max_lat,max_lon,width,height,pathMaps)\n",
    "API.getAMWithRoads(min_lat,min_lon,max_lat,max_lon,width,height,pathMaps)\n",
    "API.getBoundaries(min_lat,min_lon,max_lat,max_lon,width,height,pathMaps)\n",
    "API.getRoutes(min_lat,min_lon,max_lat,max_lon,width,height,pathMaps)\n",
    "API.getSatellite(min_lat,min_lon,max_lat,max_lon,width,height,pathMaps)"
   ]
  },
  {
   "cell_type": "code",
   "execution_count": 10,
   "metadata": {},
   "outputs": [
    {
     "data": {
      "text/plain": [
       "<function helperFunctions.AMS.segmentation.segmentAM(amBaseMap, am_withRoads, boundariesImage, routesImage, satellite, pathResult)>"
      ]
     },
     "execution_count": 10,
     "metadata": {},
     "output_type": "execute_result"
    }
   ],
   "source": [
    "#Loading all maps\n",
    "am_withRoads, boundaries, routes, amBaseMap, satellite = SEG.loadImages(pathMaps)\n",
    "\n",
    "#Segmenting without buildings and structures.\n",
    "SEG.segmentAM(amBaseMap,am_withRoads,boundaries, routes,satellite,pathResult)\n",
    "\n",
    "#Segmenting with buildings and structures\n",
    "SEG.segmentAM_noStructures(amBaseMap,am_withRoads,boundaries, routes,satellite,pathResultNoStructures)"
   ]
  },
  {
   "cell_type": "markdown",
   "metadata": {},
   "source": [
    "### Aarhus 4"
   ]
  },
  {
   "cell_type": "code",
   "execution_count": 37,
   "metadata": {},
   "outputs": [],
   "source": [
    "pathMaps = \"../ITUData/Dataforsyningen/Maps/Aarhus4\"\n",
    "pathResult=\"../ITUData/AM_segmented/Aarhus4\"\n",
    "pathResultNoStructures=\"../ITUData/AM_segmented/Aarhus4/noStructures\"\n",
    "\n",
    "#Area and resolution specifications:\n",
    "min_lat = 56.118386\n",
    "min_lon = 10.164849\n",
    "max_lat = 56.120276\n",
    "max_lon = 10.170586\n",
    "width = 4650\n",
    "height = 2747\n"
   ]
  },
  {
   "cell_type": "code",
   "execution_count": 38,
   "metadata": {},
   "outputs": [],
   "source": [
    "#Getting maps\n",
    "API.getAMDetailed(min_lat,min_lon,max_lat,max_lon,width,height,pathMaps)\n",
    "API.getAMWithRoads(min_lat,min_lon,max_lat,max_lon,width,height,pathMaps)\n",
    "API.getBoundaries(min_lat,min_lon,max_lat,max_lon,width,height,pathMaps)\n",
    "API.getRoutes(min_lat,min_lon,max_lat,max_lon,width,height,pathMaps)\n",
    "API.getSatellite(min_lat,min_lon,max_lat,max_lon,width,height,pathMaps)\n"
   ]
  },
  {
   "cell_type": "code",
   "execution_count": 12,
   "metadata": {},
   "outputs": [
    {
     "data": {
      "text/plain": [
       "<function helperFunctions.AMS.segmentation.segmentAM(amBaseMap, am_withRoads, boundariesImage, routesImage, satellite, pathResult)>"
      ]
     },
     "execution_count": 12,
     "metadata": {},
     "output_type": "execute_result"
    }
   ],
   "source": [
    "#Loading all maps\n",
    "am_withRoads, boundaries, routes, amBaseMap, satellite = SEG.loadImages(pathMaps)\n",
    "\n",
    "#Segmenting without buildings and structures.\n",
    "SEG.segmentAM(amBaseMap,am_withRoads,boundaries, routes,satellite,pathResult)\n",
    "\n",
    "#Segmenting with buildings and structures\n",
    "SEG.segmentAM_noStructures(amBaseMap,am_withRoads,boundaries, routes,satellite,pathResultNoStructures)"
   ]
  },
  {
   "cell_type": "markdown",
   "metadata": {},
   "source": [
    "### Aarhus 5"
   ]
  },
  {
   "cell_type": "code",
   "execution_count": 39,
   "metadata": {},
   "outputs": [],
   "source": [
    "pathMaps = \"../ITUData/Dataforsyningen/Maps/Aarhus5\"\n",
    "pathResult=\"../ITUData/AM_segmented/Aarhus5\"\n",
    "pathResultNoStructures=\"../ITUData/AM_segmented/Aarhus5/noStructures\"\n",
    "\n",
    "#Area and resolution specifications:\n",
    "min_lat = 56.163398782270036\n",
    "min_lon = 10.198736640761304\n",
    "max_lat = 56.1647425825998\n",
    "max_lon = 10.204391561692129\n",
    "width = 4650\n",
    "height = 1984"
   ]
  },
  {
   "cell_type": "code",
   "execution_count": 40,
   "metadata": {},
   "outputs": [],
   "source": [
    "#Getting maps\n",
    "API.getAMDetailed(min_lat,min_lon,max_lat,max_lon,width,height,pathMaps)\n",
    "API.getAMWithRoads(min_lat,min_lon,max_lat,max_lon,width,height,pathMaps)\n",
    "API.getBoundaries(min_lat,min_lon,max_lat,max_lon,width,height,pathMaps)\n",
    "API.getRoutes(min_lat,min_lon,max_lat,max_lon,width,height,pathMaps)\n",
    "API.getSatellite(min_lat,min_lon,max_lat,max_lon,width,height,pathMaps)\n"
   ]
  },
  {
   "cell_type": "code",
   "execution_count": 14,
   "metadata": {},
   "outputs": [
    {
     "data": {
      "text/plain": [
       "<function helperFunctions.AMS.segmentation.segmentAM(amBaseMap, am_withRoads, boundariesImage, routesImage, satellite, pathResult)>"
      ]
     },
     "execution_count": 14,
     "metadata": {},
     "output_type": "execute_result"
    }
   ],
   "source": [
    "#Loading all maps\n",
    "am_withRoads, boundaries, routes, amBaseMap, satellite = SEG.loadImages(pathMaps)\n",
    "\n",
    "#Segmenting without buildings and structures.\n",
    "SEG.segmentAM(amBaseMap,am_withRoads,boundaries, routes,satellite,pathResult)\n",
    "\n",
    "#Segmenting with buildings and structures\n",
    "SEG.segmentAM_noStructures(amBaseMap,am_withRoads,boundaries, routes,satellite,pathResultNoStructures)"
   ]
  },
  {
   "cell_type": "markdown",
   "metadata": {},
   "source": [
    "### Aarhus 6"
   ]
  },
  {
   "cell_type": "code",
   "execution_count": 41,
   "metadata": {},
   "outputs": [],
   "source": [
    "pathMaps = \"../ITUData/Dataforsyningen/Maps/Aarhus6\"\n",
    "pathResult=\"../ITUData/AM_segmented/Aarhus6\"\n",
    "pathResultNoStructures=\"../ITUData/AM_segmented/Aarhus6/noStructures\"\n",
    "\n",
    "#Area and resolution specifications:\n",
    "min_lat = 56.152007478084\n",
    "min_lon = 10.174611799198795\n",
    "max_lat = 56.1526169327911\n",
    "max_lon = 10.178922904780872\n",
    "width = 4650\n",
    "height = 1180\n"
   ]
  },
  {
   "cell_type": "code",
   "execution_count": 42,
   "metadata": {},
   "outputs": [],
   "source": [
    "#Getting maps\n",
    "API.getAMDetailed(min_lat,min_lon,max_lat,max_lon,width,height,pathMaps)\n",
    "API.getAMWithRoads(min_lat,min_lon,max_lat,max_lon,width,height,pathMaps)\n",
    "API.getBoundaries(min_lat,min_lon,max_lat,max_lon,width,height,pathMaps)\n",
    "API.getRoutes(min_lat,min_lon,max_lat,max_lon,width,height,pathMaps)\n",
    "API.getSatellite(min_lat,min_lon,max_lat,max_lon,width,height,pathMaps)\n"
   ]
  },
  {
   "cell_type": "code",
   "execution_count": 16,
   "metadata": {},
   "outputs": [
    {
     "data": {
      "text/plain": [
       "<function helperFunctions.AMS.segmentation.segmentAM(amBaseMap, am_withRoads, boundariesImage, routesImage, satellite, pathResult)>"
      ]
     },
     "execution_count": 16,
     "metadata": {},
     "output_type": "execute_result"
    }
   ],
   "source": [
    "#Loading all maps\n",
    "am_withRoads, boundaries, routes, amBaseMap, satellite = SEG.loadImages(pathMaps)\n",
    "\n",
    "#Segmenting without buildings and structures.\n",
    "SEG.segmentAM(amBaseMap,am_withRoads,boundaries, routes,satellite,pathResult)\n",
    "\n",
    "#Segmenting with buildings and structures\n",
    "SEG.segmentAM_noStructures(amBaseMap,am_withRoads,boundaries, routes,satellite,pathResultNoStructures)"
   ]
  },
  {
   "cell_type": "markdown",
   "metadata": {},
   "source": [
    "### Aarhus 7"
   ]
  },
  {
   "cell_type": "code",
   "execution_count": 43,
   "metadata": {},
   "outputs": [],
   "source": [
    "#paths:\n",
    "pathMaps = \"../ITUData/Dataforsyningen/Maps/Aarhus7\"\n",
    "pathResult=\"../ITUData/AM_segmented/Aarhus7\"\n",
    "pathResultNoStructures=\"../ITUData/AM_segmented/Aarhus7/noStructures\"\n",
    "\n",
    "#Area and resolution specifications:\n",
    "min_lat = 56.148271024352155\n",
    "min_lon = 10.19649253706056\n",
    "max_lat = 56.149863137461246\n",
    "max_lon = 10.199021330423378\n",
    "width = 4087\n",
    "height = 4620\n"
   ]
  },
  {
   "cell_type": "code",
   "execution_count": 44,
   "metadata": {},
   "outputs": [],
   "source": [
    "#Getting maps\n",
    "API.getAMDetailed(min_lat,min_lon,max_lat,max_lon,width,height,pathMaps)\n",
    "API.getAMWithRoads(min_lat,min_lon,max_lat,max_lon,width,height,pathMaps)\n",
    "API.getBoundaries(min_lat,min_lon,max_lat,max_lon,width,height,pathMaps)\n",
    "API.getRoutes(min_lat,min_lon,max_lat,max_lon,width,height,pathMaps)\n",
    "API.getSatellite(min_lat,min_lon,max_lat,max_lon,width,height,pathMaps)\n"
   ]
  },
  {
   "cell_type": "code",
   "execution_count": 18,
   "metadata": {},
   "outputs": [
    {
     "data": {
      "text/plain": [
       "<function helperFunctions.AMS.segmentation.segmentAM(amBaseMap, am_withRoads, boundariesImage, routesImage, satellite, pathResult)>"
      ]
     },
     "execution_count": 18,
     "metadata": {},
     "output_type": "execute_result"
    }
   ],
   "source": [
    "#Loading all maps\n",
    "am_withRoads, boundaries, routes, amBaseMap, satellite = SEG.loadImages(pathMaps)\n",
    "\n",
    "#Segmenting without buildings and structures.\n",
    "SEG.segmentAM(amBaseMap,am_withRoads,boundaries, routes,satellite,pathResult)\n",
    "\n",
    "#Segmenting with buildings and structures\n",
    "SEG.segmentAM_noStructures(amBaseMap,am_withRoads,boundaries, routes,satellite,pathResultNoStructures)"
   ]
  },
  {
   "cell_type": "markdown",
   "metadata": {},
   "source": [
    "### Aarhus 8"
   ]
  },
  {
   "cell_type": "code",
   "execution_count": 28,
   "metadata": {},
   "outputs": [],
   "source": [
    "pathMaps = \"../ITUData/Dataforsyningen/Maps/Aarhus8\"\n",
    "pathResult=\"../ITUData/AM_segmented/Aarhus8\"\n",
    "pathResultNoStructures=\"../ITUData/AM_segmented/Aarhus8/noStructures\"\n",
    "\n",
    "#Area and resolution specifications:\n",
    "min_lat = 56.15360096906168\n",
    "min_lon = 10.206846771775682\n",
    "max_lat = 56.15567952555418\n",
    "max_lon = 10.211953549016059\n",
    "width = 4650\n",
    "height = 3398"
   ]
  },
  {
   "cell_type": "code",
   "execution_count": 31,
   "metadata": {},
   "outputs": [],
   "source": [
    "#Getting maps\n",
    "API.getAMDetailed(min_lat,min_lon,max_lat,max_lon,width,height,pathMaps)\n",
    "API.getAMWithRoads(min_lat,min_lon,max_lat,max_lon,width,height,pathMaps)\n",
    "API.getBoundaries(min_lat,min_lon,max_lat,max_lon,width,height,pathMaps)\n",
    "API.getRoutes(min_lat,min_lon,max_lat,max_lon,width,height,pathMaps)\n",
    "API.getSatellite(min_lat,min_lon,max_lat,max_lon,width,height,pathMaps)"
   ]
  },
  {
   "cell_type": "code",
   "execution_count": 32,
   "metadata": {},
   "outputs": [
    {
     "data": {
      "text/plain": [
       "<function helperFunctions.AMS.segmentation.segmentAM(amBaseMap, am_withRoads, boundariesImage, routesImage, satellite, pathResult)>"
      ]
     },
     "execution_count": 32,
     "metadata": {},
     "output_type": "execute_result"
    }
   ],
   "source": [
    "#Loading all maps\n",
    "am_withRoads, boundaries, routes, amBaseMap, satellite = SEG.loadImages(pathMaps)\n",
    "\n",
    "#Segmenting without buildings and structures.\n",
    "SEG.segmentAM(amBaseMap,am_withRoads,boundaries, routes,satellite,pathResult)\n",
    "\n",
    "#Segmenting with buildings and structures\n",
    "SEG.segmentAM_noStructures(amBaseMap,am_withRoads,boundaries, routes,satellite,pathResultNoStructures)"
   ]
  },
  {
   "cell_type": "markdown",
   "metadata": {},
   "source": [
    "### Aarhus 9"
   ]
  },
  {
   "cell_type": "code",
   "execution_count": 47,
   "metadata": {},
   "outputs": [],
   "source": [
    "pathMaps = \"../ITUData/Dataforsyningen/Maps/Aarhus9\"\n",
    "pathResult=\"../ITUData/AM_segmented/Aarhus9\"\n",
    "pathResultNoStructures=\"../ITUData/AM_segmented/Aarhus9/noStructures\"\n",
    "\n",
    "#Area and resolution specifications:\n",
    "min_lat = 56.160607081288674\n",
    "min_lon = 10.187318637760086\n",
    "max_lat = 56.16451973269344\n",
    "max_lon = 10.191431201754146\n",
    "width = 2704\n",
    "height = 4620\n"
   ]
  },
  {
   "cell_type": "code",
   "execution_count": 48,
   "metadata": {},
   "outputs": [],
   "source": [
    "#Getting maps\n",
    "API.getAMDetailed(min_lat,min_lon,max_lat,max_lon,width,height,pathMaps)\n",
    "API.getAMWithRoads(min_lat,min_lon,max_lat,max_lon,width,height,pathMaps)\n",
    "API.getBoundaries(min_lat,min_lon,max_lat,max_lon,width,height,pathMaps)\n",
    "API.getRoutes(min_lat,min_lon,max_lat,max_lon,width,height,pathMaps)\n",
    "API.getSatellite(min_lat,min_lon,max_lat,max_lon,width,height,pathMaps)\n"
   ]
  },
  {
   "cell_type": "code",
   "execution_count": 25,
   "metadata": {},
   "outputs": [
    {
     "data": {
      "text/plain": [
       "<function helperFunctions.AMS.segmentation.segmentAM(amBaseMap, am_withRoads, boundariesImage, routesImage, satellite, pathResult)>"
      ]
     },
     "execution_count": 25,
     "metadata": {},
     "output_type": "execute_result"
    }
   ],
   "source": [
    "#Loading all maps\n",
    "am_withRoads, boundaries, routes, amBaseMap, satellite = SEG.loadImages(pathMaps)\n",
    "\n",
    "#Segmenting without buildings and structures.\n",
    "SEG.segmentAM(amBaseMap,am_withRoads,boundaries, routes,satellite,pathResult)\n",
    "\n",
    "#Segmenting with buildings and structures\n",
    "SEG.segmentAM_noStructures(amBaseMap,am_withRoads,boundaries, routes,satellite,pathResultNoStructures)"
   ]
  },
  {
   "cell_type": "markdown",
   "metadata": {},
   "source": [
    "### Aarhus 10"
   ]
  },
  {
   "cell_type": "code",
   "execution_count": 33,
   "metadata": {},
   "outputs": [],
   "source": [
    "pathMaps = \"../ITUData/Dataforsyningen/Maps/Aarhus10\"\n",
    "pathResult=\"../ITUData/AM_segmented/Aarhus10\"\n",
    "pathResultNoStructures=\"../ITUData/AM_segmented/Aarhus10/noStructures\"\n",
    "\n",
    "#Area and resolution specifications:\n",
    "min_lat = 56.16994914071068\n",
    "min_lon = 10.201318214312574\n",
    "max_lat = 56.1725284201622\n",
    "max_lon = 10.20817583862707\n",
    "width = 4650\n",
    "height = 3141\n"
   ]
  },
  {
   "cell_type": "code",
   "execution_count": 34,
   "metadata": {},
   "outputs": [],
   "source": [
    "#Getting maps\n",
    "API.getAMDetailed(min_lat,min_lon,max_lat,max_lon,width,height,pathMaps)\n",
    "API.getAMWithRoads(min_lat,min_lon,max_lat,max_lon,width,height,pathMaps)\n",
    "API.getBoundaries(min_lat,min_lon,max_lat,max_lon,width,height,pathMaps)\n",
    "API.getRoutes(min_lat,min_lon,max_lat,max_lon,width,height,pathMaps)\n",
    "API.getSatellite(min_lat,min_lon,max_lat,max_lon,width,height,pathMaps)"
   ]
  },
  {
   "cell_type": "code",
   "execution_count": 35,
   "metadata": {},
   "outputs": [
    {
     "data": {
      "text/plain": [
       "<function helperFunctions.AMS.segmentation.segmentAM(amBaseMap, am_withRoads, boundariesImage, routesImage, satellite, pathResult)>"
      ]
     },
     "execution_count": 35,
     "metadata": {},
     "output_type": "execute_result"
    }
   ],
   "source": [
    "#Loading all maps\n",
    "am_withRoads, boundaries, routes, amBaseMap, satellite = SEG.loadImages(pathMaps)\n",
    "\n",
    "#Segmenting without buildings and structures.\n",
    "SEG.segmentAM(amBaseMap,am_withRoads,boundaries, routes,satellite,pathResult)\n",
    "\n",
    "#Segmenting with buildings and structures\n",
    "SEG.segmentAM_noStructures(amBaseMap,am_withRoads,boundaries, routes,satellite,pathResultNoStructures)"
   ]
  }
 ],
 "metadata": {
  "kernelspec": {
   "display_name": ".venv",
   "language": "python",
   "name": "python3"
  },
  "language_info": {
   "codemirror_mode": {
    "name": "ipython",
    "version": 3
   },
   "file_extension": ".py",
   "mimetype": "text/x-python",
   "name": "python",
   "nbconvert_exporter": "python",
   "pygments_lexer": "ipython3",
   "version": "3.11.9"
  }
 },
 "nbformat": 4,
 "nbformat_minor": 2
}
