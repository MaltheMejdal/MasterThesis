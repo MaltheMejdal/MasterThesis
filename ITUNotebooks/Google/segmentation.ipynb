{
 "cells": [
  {
   "cell_type": "markdown",
   "metadata": {},
   "source": [
    "## Segmentation of 10 Aarhus locations\n",
    "\n",
    "Using Google Maps tiles and Tile2Net"
   ]
  },
  {
   "cell_type": "code",
   "execution_count": 15,
   "metadata": {},
   "outputs": [],
   "source": [
    "from tile2net import Raster"
   ]
  },
  {
   "cell_type": "markdown",
   "metadata": {},
   "source": [
    "### Aarhus Location 1"
   ]
  },
  {
   "cell_type": "code",
   "execution_count": 11,
   "metadata": {},
   "outputs": [],
   "source": [
    "#Defining bounding box\n",
    "min_lat = 56.15460857439466\n",
    "min_lon = 10.192037972762382\n",
    "max_lat = 56.15581114830297\n",
    "max_lon = 10.199668652079422\n",
    "location = f\"{min_lat}, {min_lon}, {max_lat}, {max_lon}\""
   ]
  },
  {
   "cell_type": "code",
   "execution_count": 12,
   "metadata": {},
   "outputs": [
    {
     "name": "stdout",
     "output_type": "stream",
     "text": [
      "{'x': 0}\n",
      "{}\n"
     ]
    },
    {
     "data": {
      "text/plain": [
       "Aarhus1Google18 Data Constructor. \n",
       "Coordinate reference system (CRS): 4326 \n",
       "Tile size (pixel): 256 \n",
       "Zoom level: 18 \n",
       "Number of columns: 7 \n",
       "Number of rows: 3 \n",
       "Total tiles: 21 \n",
       "Number of tiles inside the boundary: 21 (100.0%) "
      ]
     },
     "execution_count": 12,
     "metadata": {},
     "output_type": "execute_result"
    }
   ],
   "source": [
    "#Creating raster object\n",
    "raster = Raster(\n",
    "    name=\"Aarhus1Google\",\n",
    "    location=location,\n",
    "    input_dir=r'../../ITUData/Google/tiles/Aarhus1/tiles/static/256_20/x_y.png',\n",
    "    zoom=20,\n",
    "    base_tilesize=256\n",
    ")\n",
    "\n",
    "raster"
   ]
  },
  {
   "cell_type": "code",
   "execution_count": 13,
   "metadata": {},
   "outputs": [
    {
     "name": "stderr",
     "output_type": "stream",
     "text": [
      "INFO       Stitching 7 tiles...\n"
     ]
    },
    {
     "name": "stdout",
     "output_type": "stream",
     "text": [
      "list:infiles: [[WindowsPath('../../ITUData/Google/tiles/Aarhus1/tiles/static/256_18/138493_81426.png')], [WindowsPath('../../ITUData/Google/tiles/Aarhus1/tiles/static/256_18/138493_81427.png')], [WindowsPath('../../ITUData/Google/tiles/Aarhus1/tiles/static/256_18/138493_81428.png')], [WindowsPath('../../ITUData/Google/tiles/Aarhus1/tiles/static/256_18/138494_81426.png')], [WindowsPath('../../ITUData/Google/tiles/Aarhus1/tiles/static/256_18/138494_81427.png')], [WindowsPath('../../ITUData/Google/tiles/Aarhus1/tiles/static/256_18/138494_81428.png')], [WindowsPath('../../ITUData/Google/tiles/Aarhus1/tiles/static/256_18/138495_81426.png')], [WindowsPath('../../ITUData/Google/tiles/Aarhus1/tiles/static/256_18/138495_81427.png')], [WindowsPath('../../ITUData/Google/tiles/Aarhus1/tiles/static/256_18/138495_81428.png')], [WindowsPath('../../ITUData/Google/tiles/Aarhus1/tiles/static/256_18/138496_81426.png')], [WindowsPath('../../ITUData/Google/tiles/Aarhus1/tiles/static/256_18/138496_81427.png')], [WindowsPath('../../ITUData/Google/tiles/Aarhus1/tiles/static/256_18/138496_81428.png')], [WindowsPath('../../ITUData/Google/tiles/Aarhus1/tiles/static/256_18/138497_81426.png')], [WindowsPath('../../ITUData/Google/tiles/Aarhus1/tiles/static/256_18/138497_81427.png')], [WindowsPath('../../ITUData/Google/tiles/Aarhus1/tiles/static/256_18/138497_81428.png')], [WindowsPath('../../ITUData/Google/tiles/Aarhus1/tiles/static/256_18/138498_81426.png')], [WindowsPath('../../ITUData/Google/tiles/Aarhus1/tiles/static/256_18/138498_81427.png')], [WindowsPath('../../ITUData/Google/tiles/Aarhus1/tiles/static/256_18/138498_81428.png')], [WindowsPath('../../ITUData/Google/tiles/Aarhus1/tiles/static/256_18/138499_81426.png')], [WindowsPath('../../ITUData/Google/tiles/Aarhus1/tiles/static/256_18/138499_81427.png')], [WindowsPath('../../ITUData/Google/tiles/Aarhus1/tiles/static/256_18/138499_81428.png')]]\n"
     ]
    },
    {
     "name": "stderr",
     "output_type": "stream",
     "text": [
      "           Stitching 21 tiles...                  : 100%|██████████| 21/21 [00:00<00:00, 52.76it/s]\n",
      "INFO       Dumping to C:\\Users\\Nielsen\\AppData\\Local\\Temp\\tile2net\\Aarhus1Google18\\tiles\\Aarhus1Google18_256_info.json\n"
     ]
    },
    {
     "name": "stdout",
     "output_type": "stream",
     "text": [
      "{\n",
      "    \"config\": \"C:\\\\Users\\\\Nielsen\\\\Desktop\\\\tile2net\\\\tile2net-main\\\\src\\\\tile2net\\\\tileseg\\\\config.py\",\n",
      "    \"assets\": {\n",
      "        \"weights\": {\n",
      "            \"satellite_2021\": \"C:\\\\Users\\\\Nielsen\\\\Desktop\\\\tile2net\\\\tile2net-main\\\\src\\\\tile2net\\\\raster\\\\resources\\\\assets\\\\weights\\\\satellite_2021.pth\",\n",
      "            \"hrnetv2_w48_imagenet_pretrained\": \"C:\\\\Users\\\\Nielsen\\\\Desktop\\\\tile2net\\\\tile2net-main\\\\src\\\\tile2net\\\\raster\\\\resources\\\\assets\\\\weights\\\\hrnetv2_w48_imagenet_pretrained.pth\"\n",
      "        }\n",
      "    },\n",
      "    \"segmentation\": \"C:\\\\Users\\\\Nielsen\\\\AppData\\\\Local\\\\Temp\\\\tile2net\\\\Aarhus1Google18\\\\segmentation\\\\Aarhus1Google18\\\\256_18_1\",\n",
      "    \"tiles\": {\n",
      "        \"info\": \"C:\\\\Users\\\\Nielsen\\\\AppData\\\\Local\\\\Temp\\\\tile2net\\\\Aarhus1Google18\\\\tiles\\\\Aarhus1Google18_256_info.json\",\n",
      "        \"static\": \"../../ITUData/Google/tiles/Aarhus1/tiles/static/256_18\",\n",
      "        \"stitched\": \"C:\\\\Users\\\\Nielsen\\\\AppData\\\\Local\\\\Temp\\\\tile2net\\\\Aarhus1Google18\\\\tiles\\\\stitched\\\\256_18_1\"\n",
      "    },\n",
      "    \"polygons\": \"C:\\\\Users\\\\Nielsen\\\\AppData\\\\Local\\\\Temp\\\\tile2net\\\\Aarhus1Google18\\\\polygons\",\n",
      "    \"network\": \"C:\\\\Users\\\\Nielsen\\\\AppData\\\\Local\\\\Temp\\\\tile2net\\\\Aarhus1Google18\\\\network\",\n",
      "    \"name\": \"Aarhus1Google18\"\n",
      "}"
     ]
    }
   ],
   "source": [
    "#Stitching tiles \n",
    "raster.generate(1)"
   ]
  },
  {
   "cell_type": "code",
   "execution_count": 14,
   "metadata": {},
   "outputs": [
    {
     "name": "stderr",
     "output_type": "stream",
     "text": [
      "INFO       Running ['python', '-m', 'tile2net', 'inference', '--city_info', 'C:\\\\Users\\\\Nielsen\\\\AppData\\\\Local\\\\Temp\\\\tile2net\\\\Aarhus1Google18\\\\tiles\\\\Aarhus1Google18_256_info.json', '--interactive', '--dump_percent', '0']\n"
     ]
    }
   ],
   "source": [
    "#Segmentation\n",
    "raster.inference()"
   ]
  },
  {
   "cell_type": "markdown",
   "metadata": {},
   "source": [
    "### Aarhus Location 2"
   ]
  },
  {
   "cell_type": "code",
   "execution_count": null,
   "metadata": {},
   "outputs": [],
   "source": [
    "#Defining bounding box\n",
    "min_lat = 56.156187\n",
    "min_lon = 10.205695\n",
    "max_lat = 56.158453\n",
    "max_lon = 10.215011\n",
    "location = f\"{min_lat}, {min_lon}, {max_lat}, {max_lon}\""
   ]
  },
  {
   "cell_type": "code",
   "execution_count": null,
   "metadata": {},
   "outputs": [
    {
     "name": "stdout",
     "output_type": "stream",
     "text": [
      "{'x': 0}\n",
      "{}\n"
     ]
    },
    {
     "data": {
      "text/plain": [
       "Aarhus2 Data Constructor. \n",
       "Coordinate reference system (CRS): 4326 \n",
       "Tile size (pixel): 256 \n",
       "Zoom level: 20 \n",
       "Number of columns: 28 \n",
       "Number of rows: 13 \n",
       "Total tiles: 364 \n",
       "Number of tiles inside the boundary: 364 (100.0%) "
      ]
     },
     "metadata": {},
     "output_type": "display_data"
    }
   ],
   "source": [
    "#Creating raster object\n",
    "raster = Raster(\n",
    "    name=\"Aarhus2\",\n",
    "    location=location,\n",
    "    input_dir=r'..\\..\\ITUData/Google/tiles/Aarhus2/tiles/static/256_20/x_y.png',\n",
    "    zoom=20,\n",
    ")\n",
    "\n",
    "raster"
   ]
  },
  {
   "cell_type": "code",
   "execution_count": null,
   "metadata": {},
   "outputs": [
    {
     "name": "stderr",
     "output_type": "stream",
     "text": [
      "INFO       Stitching 28 tiles...\n"
     ]
    },
    {
     "name": "stdout",
     "output_type": "stream",
     "text": [
      "list:infiles: [[WindowsPath('../ITUData/Aarhus2/tiles/static/256_20/554014_325692.png')], [WindowsPath('../ITUData/Aarhus2/tiles/static/256_20/554014_325693.png')], [WindowsPath('../ITUData/Aarhus2/tiles/static/256_20/554014_325694.png')], [WindowsPath('../ITUData/Aarhus2/tiles/static/256_20/554014_325695.png')], [WindowsPath('../ITUData/Aarhus2/tiles/static/256_20/554014_325696.png')], [WindowsPath('../ITUData/Aarhus2/tiles/static/256_20/554014_325697.png')], [WindowsPath('../ITUData/Aarhus2/tiles/static/256_20/554014_325698.png')], [WindowsPath('../ITUData/Aarhus2/tiles/static/256_20/554014_325699.png')], [WindowsPath('../ITUData/Aarhus2/tiles/static/256_20/554014_325700.png')], [WindowsPath('../ITUData/Aarhus2/tiles/static/256_20/554014_325701.png')], [WindowsPath('../ITUData/Aarhus2/tiles/static/256_20/554014_325702.png')], [WindowsPath('../ITUData/Aarhus2/tiles/static/256_20/554014_325703.png')], [WindowsPath('../ITUData/Aarhus2/tiles/static/256_20/554014_325704.png')], [WindowsPath('../ITUData/Aarhus2/tiles/static/256_20/554015_325692.png')], [WindowsPath('../ITUData/Aarhus2/tiles/static/256_20/554015_325693.png')], [WindowsPath('../ITUData/Aarhus2/tiles/static/256_20/554015_325694.png')], [WindowsPath('../ITUData/Aarhus2/tiles/static/256_20/554015_325695.png')], [WindowsPath('../ITUData/Aarhus2/tiles/static/256_20/554015_325696.png')], [WindowsPath('../ITUData/Aarhus2/tiles/static/256_20/554015_325697.png')], [WindowsPath('../ITUData/Aarhus2/tiles/static/256_20/554015_325698.png')], [WindowsPath('../ITUData/Aarhus2/tiles/static/256_20/554015_325699.png')], [WindowsPath('../ITUData/Aarhus2/tiles/static/256_20/554015_325700.png')], [WindowsPath('../ITUData/Aarhus2/tiles/static/256_20/554015_325701.png')], [WindowsPath('../ITUData/Aarhus2/tiles/static/256_20/554015_325702.png')], [WindowsPath('../ITUData/Aarhus2/tiles/static/256_20/554015_325703.png')], [WindowsPath('../ITUData/Aarhus2/tiles/static/256_20/554015_325704.png')], [WindowsPath('../ITUData/Aarhus2/tiles/static/256_20/554016_325692.png')], [WindowsPath('../ITUData/Aarhus2/tiles/static/256_20/554016_325693.png')], [WindowsPath('../ITUData/Aarhus2/tiles/static/256_20/554016_325694.png')], [WindowsPath('../ITUData/Aarhus2/tiles/static/256_20/554016_325695.png')], [WindowsPath('../ITUData/Aarhus2/tiles/static/256_20/554016_325696.png')], [WindowsPath('../ITUData/Aarhus2/tiles/static/256_20/554016_325697.png')], [WindowsPath('../ITUData/Aarhus2/tiles/static/256_20/554016_325698.png')], [WindowsPath('../ITUData/Aarhus2/tiles/static/256_20/554016_325699.png')], [WindowsPath('../ITUData/Aarhus2/tiles/static/256_20/554016_325700.png')], [WindowsPath('../ITUData/Aarhus2/tiles/static/256_20/554016_325701.png')], [WindowsPath('../ITUData/Aarhus2/tiles/static/256_20/554016_325702.png')], [WindowsPath('../ITUData/Aarhus2/tiles/static/256_20/554016_325703.png')], [WindowsPath('../ITUData/Aarhus2/tiles/static/256_20/554016_325704.png')], [WindowsPath('../ITUData/Aarhus2/tiles/static/256_20/554017_325692.png')], [WindowsPath('../ITUData/Aarhus2/tiles/static/256_20/554017_325693.png')], [WindowsPath('../ITUData/Aarhus2/tiles/static/256_20/554017_325694.png')], [WindowsPath('../ITUData/Aarhus2/tiles/static/256_20/554017_325695.png')], [WindowsPath('../ITUData/Aarhus2/tiles/static/256_20/554017_325696.png')], [WindowsPath('../ITUData/Aarhus2/tiles/static/256_20/554017_325697.png')], [WindowsPath('../ITUData/Aarhus2/tiles/static/256_20/554017_325698.png')], [WindowsPath('../ITUData/Aarhus2/tiles/static/256_20/554017_325699.png')], [WindowsPath('../ITUData/Aarhus2/tiles/static/256_20/554017_325700.png')], [WindowsPath('../ITUData/Aarhus2/tiles/static/256_20/554017_325701.png')], [WindowsPath('../ITUData/Aarhus2/tiles/static/256_20/554017_325702.png')], [WindowsPath('../ITUData/Aarhus2/tiles/static/256_20/554017_325703.png')], [WindowsPath('../ITUData/Aarhus2/tiles/static/256_20/554017_325704.png')], [WindowsPath('../ITUData/Aarhus2/tiles/static/256_20/554018_325692.png')], [WindowsPath('../ITUData/Aarhus2/tiles/static/256_20/554018_325693.png')], [WindowsPath('../ITUData/Aarhus2/tiles/static/256_20/554018_325694.png')], [WindowsPath('../ITUData/Aarhus2/tiles/static/256_20/554018_325695.png')], [WindowsPath('../ITUData/Aarhus2/tiles/static/256_20/554018_325696.png')], [WindowsPath('../ITUData/Aarhus2/tiles/static/256_20/554018_325697.png')], [WindowsPath('../ITUData/Aarhus2/tiles/static/256_20/554018_325698.png')], [WindowsPath('../ITUData/Aarhus2/tiles/static/256_20/554018_325699.png')], [WindowsPath('../ITUData/Aarhus2/tiles/static/256_20/554018_325700.png')], [WindowsPath('../ITUData/Aarhus2/tiles/static/256_20/554018_325701.png')], [WindowsPath('../ITUData/Aarhus2/tiles/static/256_20/554018_325702.png')], [WindowsPath('../ITUData/Aarhus2/tiles/static/256_20/554018_325703.png')], [WindowsPath('../ITUData/Aarhus2/tiles/static/256_20/554018_325704.png')], [WindowsPath('../ITUData/Aarhus2/tiles/static/256_20/554019_325692.png')], [WindowsPath('../ITUData/Aarhus2/tiles/static/256_20/554019_325693.png')], [WindowsPath('../ITUData/Aarhus2/tiles/static/256_20/554019_325694.png')], [WindowsPath('../ITUData/Aarhus2/tiles/static/256_20/554019_325695.png')], [WindowsPath('../ITUData/Aarhus2/tiles/static/256_20/554019_325696.png')], [WindowsPath('../ITUData/Aarhus2/tiles/static/256_20/554019_325697.png')], [WindowsPath('../ITUData/Aarhus2/tiles/static/256_20/554019_325698.png')], [WindowsPath('../ITUData/Aarhus2/tiles/static/256_20/554019_325699.png')], [WindowsPath('../ITUData/Aarhus2/tiles/static/256_20/554019_325700.png')], [WindowsPath('../ITUData/Aarhus2/tiles/static/256_20/554019_325701.png')], [WindowsPath('../ITUData/Aarhus2/tiles/static/256_20/554019_325702.png')], [WindowsPath('../ITUData/Aarhus2/tiles/static/256_20/554019_325703.png')], [WindowsPath('../ITUData/Aarhus2/tiles/static/256_20/554019_325704.png')], [WindowsPath('../ITUData/Aarhus2/tiles/static/256_20/554020_325692.png')], [WindowsPath('../ITUData/Aarhus2/tiles/static/256_20/554020_325693.png')], [WindowsPath('../ITUData/Aarhus2/tiles/static/256_20/554020_325694.png')], [WindowsPath('../ITUData/Aarhus2/tiles/static/256_20/554020_325695.png')], [WindowsPath('../ITUData/Aarhus2/tiles/static/256_20/554020_325696.png')], [WindowsPath('../ITUData/Aarhus2/tiles/static/256_20/554020_325697.png')], [WindowsPath('../ITUData/Aarhus2/tiles/static/256_20/554020_325698.png')], [WindowsPath('../ITUData/Aarhus2/tiles/static/256_20/554020_325699.png')], [WindowsPath('../ITUData/Aarhus2/tiles/static/256_20/554020_325700.png')], [WindowsPath('../ITUData/Aarhus2/tiles/static/256_20/554020_325701.png')], [WindowsPath('../ITUData/Aarhus2/tiles/static/256_20/554020_325702.png')], [WindowsPath('../ITUData/Aarhus2/tiles/static/256_20/554020_325703.png')], [WindowsPath('../ITUData/Aarhus2/tiles/static/256_20/554020_325704.png')], [WindowsPath('../ITUData/Aarhus2/tiles/static/256_20/554021_325692.png')], [WindowsPath('../ITUData/Aarhus2/tiles/static/256_20/554021_325693.png')], [WindowsPath('../ITUData/Aarhus2/tiles/static/256_20/554021_325694.png')], [WindowsPath('../ITUData/Aarhus2/tiles/static/256_20/554021_325695.png')], [WindowsPath('../ITUData/Aarhus2/tiles/static/256_20/554021_325696.png')], [WindowsPath('../ITUData/Aarhus2/tiles/static/256_20/554021_325697.png')], [WindowsPath('../ITUData/Aarhus2/tiles/static/256_20/554021_325698.png')], [WindowsPath('../ITUData/Aarhus2/tiles/static/256_20/554021_325699.png')], [WindowsPath('../ITUData/Aarhus2/tiles/static/256_20/554021_325700.png')], [WindowsPath('../ITUData/Aarhus2/tiles/static/256_20/554021_325701.png')], [WindowsPath('../ITUData/Aarhus2/tiles/static/256_20/554021_325702.png')], [WindowsPath('../ITUData/Aarhus2/tiles/static/256_20/554021_325703.png')], [WindowsPath('../ITUData/Aarhus2/tiles/static/256_20/554021_325704.png')], [WindowsPath('../ITUData/Aarhus2/tiles/static/256_20/554022_325692.png')], [WindowsPath('../ITUData/Aarhus2/tiles/static/256_20/554022_325693.png')], [WindowsPath('../ITUData/Aarhus2/tiles/static/256_20/554022_325694.png')], [WindowsPath('../ITUData/Aarhus2/tiles/static/256_20/554022_325695.png')], [WindowsPath('../ITUData/Aarhus2/tiles/static/256_20/554022_325696.png')], [WindowsPath('../ITUData/Aarhus2/tiles/static/256_20/554022_325697.png')], [WindowsPath('../ITUData/Aarhus2/tiles/static/256_20/554022_325698.png')], [WindowsPath('../ITUData/Aarhus2/tiles/static/256_20/554022_325699.png')], [WindowsPath('../ITUData/Aarhus2/tiles/static/256_20/554022_325700.png')], [WindowsPath('../ITUData/Aarhus2/tiles/static/256_20/554022_325701.png')], [WindowsPath('../ITUData/Aarhus2/tiles/static/256_20/554022_325702.png')], [WindowsPath('../ITUData/Aarhus2/tiles/static/256_20/554022_325703.png')], [WindowsPath('../ITUData/Aarhus2/tiles/static/256_20/554022_325704.png')], [WindowsPath('../ITUData/Aarhus2/tiles/static/256_20/554023_325692.png')], [WindowsPath('../ITUData/Aarhus2/tiles/static/256_20/554023_325693.png')], [WindowsPath('../ITUData/Aarhus2/tiles/static/256_20/554023_325694.png')], [WindowsPath('../ITUData/Aarhus2/tiles/static/256_20/554023_325695.png')], [WindowsPath('../ITUData/Aarhus2/tiles/static/256_20/554023_325696.png')], [WindowsPath('../ITUData/Aarhus2/tiles/static/256_20/554023_325697.png')], [WindowsPath('../ITUData/Aarhus2/tiles/static/256_20/554023_325698.png')], [WindowsPath('../ITUData/Aarhus2/tiles/static/256_20/554023_325699.png')], [WindowsPath('../ITUData/Aarhus2/tiles/static/256_20/554023_325700.png')], [WindowsPath('../ITUData/Aarhus2/tiles/static/256_20/554023_325701.png')], [WindowsPath('../ITUData/Aarhus2/tiles/static/256_20/554023_325702.png')], [WindowsPath('../ITUData/Aarhus2/tiles/static/256_20/554023_325703.png')], [WindowsPath('../ITUData/Aarhus2/tiles/static/256_20/554023_325704.png')], [WindowsPath('../ITUData/Aarhus2/tiles/static/256_20/554024_325692.png')], [WindowsPath('../ITUData/Aarhus2/tiles/static/256_20/554024_325693.png')], [WindowsPath('../ITUData/Aarhus2/tiles/static/256_20/554024_325694.png')], [WindowsPath('../ITUData/Aarhus2/tiles/static/256_20/554024_325695.png')], [WindowsPath('../ITUData/Aarhus2/tiles/static/256_20/554024_325696.png')], [WindowsPath('../ITUData/Aarhus2/tiles/static/256_20/554024_325697.png')], [WindowsPath('../ITUData/Aarhus2/tiles/static/256_20/554024_325698.png')], [WindowsPath('../ITUData/Aarhus2/tiles/static/256_20/554024_325699.png')], [WindowsPath('../ITUData/Aarhus2/tiles/static/256_20/554024_325700.png')], [WindowsPath('../ITUData/Aarhus2/tiles/static/256_20/554024_325701.png')], [WindowsPath('../ITUData/Aarhus2/tiles/static/256_20/554024_325702.png')], [WindowsPath('../ITUData/Aarhus2/tiles/static/256_20/554024_325703.png')], [WindowsPath('../ITUData/Aarhus2/tiles/static/256_20/554024_325704.png')], [WindowsPath('../ITUData/Aarhus2/tiles/static/256_20/554025_325692.png')], [WindowsPath('../ITUData/Aarhus2/tiles/static/256_20/554025_325693.png')], [WindowsPath('../ITUData/Aarhus2/tiles/static/256_20/554025_325694.png')], [WindowsPath('../ITUData/Aarhus2/tiles/static/256_20/554025_325695.png')], [WindowsPath('../ITUData/Aarhus2/tiles/static/256_20/554025_325696.png')], [WindowsPath('../ITUData/Aarhus2/tiles/static/256_20/554025_325697.png')], [WindowsPath('../ITUData/Aarhus2/tiles/static/256_20/554025_325698.png')], [WindowsPath('../ITUData/Aarhus2/tiles/static/256_20/554025_325699.png')], [WindowsPath('../ITUData/Aarhus2/tiles/static/256_20/554025_325700.png')], [WindowsPath('../ITUData/Aarhus2/tiles/static/256_20/554025_325701.png')], [WindowsPath('../ITUData/Aarhus2/tiles/static/256_20/554025_325702.png')], [WindowsPath('../ITUData/Aarhus2/tiles/static/256_20/554025_325703.png')], [WindowsPath('../ITUData/Aarhus2/tiles/static/256_20/554025_325704.png')], [WindowsPath('../ITUData/Aarhus2/tiles/static/256_20/554026_325692.png')], [WindowsPath('../ITUData/Aarhus2/tiles/static/256_20/554026_325693.png')], [WindowsPath('../ITUData/Aarhus2/tiles/static/256_20/554026_325694.png')], [WindowsPath('../ITUData/Aarhus2/tiles/static/256_20/554026_325695.png')], [WindowsPath('../ITUData/Aarhus2/tiles/static/256_20/554026_325696.png')], [WindowsPath('../ITUData/Aarhus2/tiles/static/256_20/554026_325697.png')], [WindowsPath('../ITUData/Aarhus2/tiles/static/256_20/554026_325698.png')], [WindowsPath('../ITUData/Aarhus2/tiles/static/256_20/554026_325699.png')], [WindowsPath('../ITUData/Aarhus2/tiles/static/256_20/554026_325700.png')], [WindowsPath('../ITUData/Aarhus2/tiles/static/256_20/554026_325701.png')], [WindowsPath('../ITUData/Aarhus2/tiles/static/256_20/554026_325702.png')], [WindowsPath('../ITUData/Aarhus2/tiles/static/256_20/554026_325703.png')], [WindowsPath('../ITUData/Aarhus2/tiles/static/256_20/554026_325704.png')], [WindowsPath('../ITUData/Aarhus2/tiles/static/256_20/554027_325692.png')], [WindowsPath('../ITUData/Aarhus2/tiles/static/256_20/554027_325693.png')], [WindowsPath('../ITUData/Aarhus2/tiles/static/256_20/554027_325694.png')], [WindowsPath('../ITUData/Aarhus2/tiles/static/256_20/554027_325695.png')], [WindowsPath('../ITUData/Aarhus2/tiles/static/256_20/554027_325696.png')], [WindowsPath('../ITUData/Aarhus2/tiles/static/256_20/554027_325697.png')], [WindowsPath('../ITUData/Aarhus2/tiles/static/256_20/554027_325698.png')], [WindowsPath('../ITUData/Aarhus2/tiles/static/256_20/554027_325699.png')], [WindowsPath('../ITUData/Aarhus2/tiles/static/256_20/554027_325700.png')], [WindowsPath('../ITUData/Aarhus2/tiles/static/256_20/554027_325701.png')], [WindowsPath('../ITUData/Aarhus2/tiles/static/256_20/554027_325702.png')], [WindowsPath('../ITUData/Aarhus2/tiles/static/256_20/554027_325703.png')], [WindowsPath('../ITUData/Aarhus2/tiles/static/256_20/554027_325704.png')], [WindowsPath('../ITUData/Aarhus2/tiles/static/256_20/554028_325692.png')], [WindowsPath('../ITUData/Aarhus2/tiles/static/256_20/554028_325693.png')], [WindowsPath('../ITUData/Aarhus2/tiles/static/256_20/554028_325694.png')], [WindowsPath('../ITUData/Aarhus2/tiles/static/256_20/554028_325695.png')], [WindowsPath('../ITUData/Aarhus2/tiles/static/256_20/554028_325696.png')], [WindowsPath('../ITUData/Aarhus2/tiles/static/256_20/554028_325697.png')], [WindowsPath('../ITUData/Aarhus2/tiles/static/256_20/554028_325698.png')], [WindowsPath('../ITUData/Aarhus2/tiles/static/256_20/554028_325699.png')], [WindowsPath('../ITUData/Aarhus2/tiles/static/256_20/554028_325700.png')], [WindowsPath('../ITUData/Aarhus2/tiles/static/256_20/554028_325701.png')], [WindowsPath('../ITUData/Aarhus2/tiles/static/256_20/554028_325702.png')], [WindowsPath('../ITUData/Aarhus2/tiles/static/256_20/554028_325703.png')], [WindowsPath('../ITUData/Aarhus2/tiles/static/256_20/554028_325704.png')], [WindowsPath('../ITUData/Aarhus2/tiles/static/256_20/554029_325692.png')], [WindowsPath('../ITUData/Aarhus2/tiles/static/256_20/554029_325693.png')], [WindowsPath('../ITUData/Aarhus2/tiles/static/256_20/554029_325694.png')], [WindowsPath('../ITUData/Aarhus2/tiles/static/256_20/554029_325695.png')], [WindowsPath('../ITUData/Aarhus2/tiles/static/256_20/554029_325696.png')], [WindowsPath('../ITUData/Aarhus2/tiles/static/256_20/554029_325697.png')], [WindowsPath('../ITUData/Aarhus2/tiles/static/256_20/554029_325698.png')], [WindowsPath('../ITUData/Aarhus2/tiles/static/256_20/554029_325699.png')], [WindowsPath('../ITUData/Aarhus2/tiles/static/256_20/554029_325700.png')], [WindowsPath('../ITUData/Aarhus2/tiles/static/256_20/554029_325701.png')], [WindowsPath('../ITUData/Aarhus2/tiles/static/256_20/554029_325702.png')], [WindowsPath('../ITUData/Aarhus2/tiles/static/256_20/554029_325703.png')], [WindowsPath('../ITUData/Aarhus2/tiles/static/256_20/554029_325704.png')], [WindowsPath('../ITUData/Aarhus2/tiles/static/256_20/554030_325692.png')], [WindowsPath('../ITUData/Aarhus2/tiles/static/256_20/554030_325693.png')], [WindowsPath('../ITUData/Aarhus2/tiles/static/256_20/554030_325694.png')], [WindowsPath('../ITUData/Aarhus2/tiles/static/256_20/554030_325695.png')], [WindowsPath('../ITUData/Aarhus2/tiles/static/256_20/554030_325696.png')], [WindowsPath('../ITUData/Aarhus2/tiles/static/256_20/554030_325697.png')], [WindowsPath('../ITUData/Aarhus2/tiles/static/256_20/554030_325698.png')], [WindowsPath('../ITUData/Aarhus2/tiles/static/256_20/554030_325699.png')], [WindowsPath('../ITUData/Aarhus2/tiles/static/256_20/554030_325700.png')], [WindowsPath('../ITUData/Aarhus2/tiles/static/256_20/554030_325701.png')], [WindowsPath('../ITUData/Aarhus2/tiles/static/256_20/554030_325702.png')], [WindowsPath('../ITUData/Aarhus2/tiles/static/256_20/554030_325703.png')], [WindowsPath('../ITUData/Aarhus2/tiles/static/256_20/554030_325704.png')], [WindowsPath('../ITUData/Aarhus2/tiles/static/256_20/554031_325692.png')], [WindowsPath('../ITUData/Aarhus2/tiles/static/256_20/554031_325693.png')], [WindowsPath('../ITUData/Aarhus2/tiles/static/256_20/554031_325694.png')], [WindowsPath('../ITUData/Aarhus2/tiles/static/256_20/554031_325695.png')], [WindowsPath('../ITUData/Aarhus2/tiles/static/256_20/554031_325696.png')], [WindowsPath('../ITUData/Aarhus2/tiles/static/256_20/554031_325697.png')], [WindowsPath('../ITUData/Aarhus2/tiles/static/256_20/554031_325698.png')], [WindowsPath('../ITUData/Aarhus2/tiles/static/256_20/554031_325699.png')], [WindowsPath('../ITUData/Aarhus2/tiles/static/256_20/554031_325700.png')], [WindowsPath('../ITUData/Aarhus2/tiles/static/256_20/554031_325701.png')], [WindowsPath('../ITUData/Aarhus2/tiles/static/256_20/554031_325702.png')], [WindowsPath('../ITUData/Aarhus2/tiles/static/256_20/554031_325703.png')], [WindowsPath('../ITUData/Aarhus2/tiles/static/256_20/554031_325704.png')], [WindowsPath('../ITUData/Aarhus2/tiles/static/256_20/554032_325692.png')], [WindowsPath('../ITUData/Aarhus2/tiles/static/256_20/554032_325693.png')], [WindowsPath('../ITUData/Aarhus2/tiles/static/256_20/554032_325694.png')], [WindowsPath('../ITUData/Aarhus2/tiles/static/256_20/554032_325695.png')], [WindowsPath('../ITUData/Aarhus2/tiles/static/256_20/554032_325696.png')], [WindowsPath('../ITUData/Aarhus2/tiles/static/256_20/554032_325697.png')], [WindowsPath('../ITUData/Aarhus2/tiles/static/256_20/554032_325698.png')], [WindowsPath('../ITUData/Aarhus2/tiles/static/256_20/554032_325699.png')], [WindowsPath('../ITUData/Aarhus2/tiles/static/256_20/554032_325700.png')], [WindowsPath('../ITUData/Aarhus2/tiles/static/256_20/554032_325701.png')], [WindowsPath('../ITUData/Aarhus2/tiles/static/256_20/554032_325702.png')], [WindowsPath('../ITUData/Aarhus2/tiles/static/256_20/554032_325703.png')], [WindowsPath('../ITUData/Aarhus2/tiles/static/256_20/554032_325704.png')], [WindowsPath('../ITUData/Aarhus2/tiles/static/256_20/554033_325692.png')], [WindowsPath('../ITUData/Aarhus2/tiles/static/256_20/554033_325693.png')], [WindowsPath('../ITUData/Aarhus2/tiles/static/256_20/554033_325694.png')], [WindowsPath('../ITUData/Aarhus2/tiles/static/256_20/554033_325695.png')], [WindowsPath('../ITUData/Aarhus2/tiles/static/256_20/554033_325696.png')], [WindowsPath('../ITUData/Aarhus2/tiles/static/256_20/554033_325697.png')], [WindowsPath('../ITUData/Aarhus2/tiles/static/256_20/554033_325698.png')], [WindowsPath('../ITUData/Aarhus2/tiles/static/256_20/554033_325699.png')], [WindowsPath('../ITUData/Aarhus2/tiles/static/256_20/554033_325700.png')], [WindowsPath('../ITUData/Aarhus2/tiles/static/256_20/554033_325701.png')], [WindowsPath('../ITUData/Aarhus2/tiles/static/256_20/554033_325702.png')], [WindowsPath('../ITUData/Aarhus2/tiles/static/256_20/554033_325703.png')], [WindowsPath('../ITUData/Aarhus2/tiles/static/256_20/554033_325704.png')], [WindowsPath('../ITUData/Aarhus2/tiles/static/256_20/554034_325692.png')], [WindowsPath('../ITUData/Aarhus2/tiles/static/256_20/554034_325693.png')], [WindowsPath('../ITUData/Aarhus2/tiles/static/256_20/554034_325694.png')], [WindowsPath('../ITUData/Aarhus2/tiles/static/256_20/554034_325695.png')], [WindowsPath('../ITUData/Aarhus2/tiles/static/256_20/554034_325696.png')], [WindowsPath('../ITUData/Aarhus2/tiles/static/256_20/554034_325697.png')], [WindowsPath('../ITUData/Aarhus2/tiles/static/256_20/554034_325698.png')], [WindowsPath('../ITUData/Aarhus2/tiles/static/256_20/554034_325699.png')], [WindowsPath('../ITUData/Aarhus2/tiles/static/256_20/554034_325700.png')], [WindowsPath('../ITUData/Aarhus2/tiles/static/256_20/554034_325701.png')], [WindowsPath('../ITUData/Aarhus2/tiles/static/256_20/554034_325702.png')], [WindowsPath('../ITUData/Aarhus2/tiles/static/256_20/554034_325703.png')], [WindowsPath('../ITUData/Aarhus2/tiles/static/256_20/554034_325704.png')], [WindowsPath('../ITUData/Aarhus2/tiles/static/256_20/554035_325692.png')], [WindowsPath('../ITUData/Aarhus2/tiles/static/256_20/554035_325693.png')], [WindowsPath('../ITUData/Aarhus2/tiles/static/256_20/554035_325694.png')], [WindowsPath('../ITUData/Aarhus2/tiles/static/256_20/554035_325695.png')], [WindowsPath('../ITUData/Aarhus2/tiles/static/256_20/554035_325696.png')], [WindowsPath('../ITUData/Aarhus2/tiles/static/256_20/554035_325697.png')], [WindowsPath('../ITUData/Aarhus2/tiles/static/256_20/554035_325698.png')], [WindowsPath('../ITUData/Aarhus2/tiles/static/256_20/554035_325699.png')], [WindowsPath('../ITUData/Aarhus2/tiles/static/256_20/554035_325700.png')], [WindowsPath('../ITUData/Aarhus2/tiles/static/256_20/554035_325701.png')], [WindowsPath('../ITUData/Aarhus2/tiles/static/256_20/554035_325702.png')], [WindowsPath('../ITUData/Aarhus2/tiles/static/256_20/554035_325703.png')], [WindowsPath('../ITUData/Aarhus2/tiles/static/256_20/554035_325704.png')], [WindowsPath('../ITUData/Aarhus2/tiles/static/256_20/554036_325692.png')], [WindowsPath('../ITUData/Aarhus2/tiles/static/256_20/554036_325693.png')], [WindowsPath('../ITUData/Aarhus2/tiles/static/256_20/554036_325694.png')], [WindowsPath('../ITUData/Aarhus2/tiles/static/256_20/554036_325695.png')], [WindowsPath('../ITUData/Aarhus2/tiles/static/256_20/554036_325696.png')], [WindowsPath('../ITUData/Aarhus2/tiles/static/256_20/554036_325697.png')], [WindowsPath('../ITUData/Aarhus2/tiles/static/256_20/554036_325698.png')], [WindowsPath('../ITUData/Aarhus2/tiles/static/256_20/554036_325699.png')], [WindowsPath('../ITUData/Aarhus2/tiles/static/256_20/554036_325700.png')], [WindowsPath('../ITUData/Aarhus2/tiles/static/256_20/554036_325701.png')], [WindowsPath('../ITUData/Aarhus2/tiles/static/256_20/554036_325702.png')], [WindowsPath('../ITUData/Aarhus2/tiles/static/256_20/554036_325703.png')], [WindowsPath('../ITUData/Aarhus2/tiles/static/256_20/554036_325704.png')], [WindowsPath('../ITUData/Aarhus2/tiles/static/256_20/554037_325692.png')], [WindowsPath('../ITUData/Aarhus2/tiles/static/256_20/554037_325693.png')], [WindowsPath('../ITUData/Aarhus2/tiles/static/256_20/554037_325694.png')], [WindowsPath('../ITUData/Aarhus2/tiles/static/256_20/554037_325695.png')], [WindowsPath('../ITUData/Aarhus2/tiles/static/256_20/554037_325696.png')], [WindowsPath('../ITUData/Aarhus2/tiles/static/256_20/554037_325697.png')], [WindowsPath('../ITUData/Aarhus2/tiles/static/256_20/554037_325698.png')], [WindowsPath('../ITUData/Aarhus2/tiles/static/256_20/554037_325699.png')], [WindowsPath('../ITUData/Aarhus2/tiles/static/256_20/554037_325700.png')], [WindowsPath('../ITUData/Aarhus2/tiles/static/256_20/554037_325701.png')], [WindowsPath('../ITUData/Aarhus2/tiles/static/256_20/554037_325702.png')], [WindowsPath('../ITUData/Aarhus2/tiles/static/256_20/554037_325703.png')], [WindowsPath('../ITUData/Aarhus2/tiles/static/256_20/554037_325704.png')], [WindowsPath('../ITUData/Aarhus2/tiles/static/256_20/554038_325692.png')], [WindowsPath('../ITUData/Aarhus2/tiles/static/256_20/554038_325693.png')], [WindowsPath('../ITUData/Aarhus2/tiles/static/256_20/554038_325694.png')], [WindowsPath('../ITUData/Aarhus2/tiles/static/256_20/554038_325695.png')], [WindowsPath('../ITUData/Aarhus2/tiles/static/256_20/554038_325696.png')], [WindowsPath('../ITUData/Aarhus2/tiles/static/256_20/554038_325697.png')], [WindowsPath('../ITUData/Aarhus2/tiles/static/256_20/554038_325698.png')], [WindowsPath('../ITUData/Aarhus2/tiles/static/256_20/554038_325699.png')], [WindowsPath('../ITUData/Aarhus2/tiles/static/256_20/554038_325700.png')], [WindowsPath('../ITUData/Aarhus2/tiles/static/256_20/554038_325701.png')], [WindowsPath('../ITUData/Aarhus2/tiles/static/256_20/554038_325702.png')], [WindowsPath('../ITUData/Aarhus2/tiles/static/256_20/554038_325703.png')], [WindowsPath('../ITUData/Aarhus2/tiles/static/256_20/554038_325704.png')], [WindowsPath('../ITUData/Aarhus2/tiles/static/256_20/554039_325692.png')], [WindowsPath('../ITUData/Aarhus2/tiles/static/256_20/554039_325693.png')], [WindowsPath('../ITUData/Aarhus2/tiles/static/256_20/554039_325694.png')], [WindowsPath('../ITUData/Aarhus2/tiles/static/256_20/554039_325695.png')], [WindowsPath('../ITUData/Aarhus2/tiles/static/256_20/554039_325696.png')], [WindowsPath('../ITUData/Aarhus2/tiles/static/256_20/554039_325697.png')], [WindowsPath('../ITUData/Aarhus2/tiles/static/256_20/554039_325698.png')], [WindowsPath('../ITUData/Aarhus2/tiles/static/256_20/554039_325699.png')], [WindowsPath('../ITUData/Aarhus2/tiles/static/256_20/554039_325700.png')], [WindowsPath('../ITUData/Aarhus2/tiles/static/256_20/554039_325701.png')], [WindowsPath('../ITUData/Aarhus2/tiles/static/256_20/554039_325702.png')], [WindowsPath('../ITUData/Aarhus2/tiles/static/256_20/554039_325703.png')], [WindowsPath('../ITUData/Aarhus2/tiles/static/256_20/554039_325704.png')], [WindowsPath('../ITUData/Aarhus2/tiles/static/256_20/554040_325692.png')], [WindowsPath('../ITUData/Aarhus2/tiles/static/256_20/554040_325693.png')], [WindowsPath('../ITUData/Aarhus2/tiles/static/256_20/554040_325694.png')], [WindowsPath('../ITUData/Aarhus2/tiles/static/256_20/554040_325695.png')], [WindowsPath('../ITUData/Aarhus2/tiles/static/256_20/554040_325696.png')], [WindowsPath('../ITUData/Aarhus2/tiles/static/256_20/554040_325697.png')], [WindowsPath('../ITUData/Aarhus2/tiles/static/256_20/554040_325698.png')], [WindowsPath('../ITUData/Aarhus2/tiles/static/256_20/554040_325699.png')], [WindowsPath('../ITUData/Aarhus2/tiles/static/256_20/554040_325700.png')], [WindowsPath('../ITUData/Aarhus2/tiles/static/256_20/554040_325701.png')], [WindowsPath('../ITUData/Aarhus2/tiles/static/256_20/554040_325702.png')], [WindowsPath('../ITUData/Aarhus2/tiles/static/256_20/554040_325703.png')], [WindowsPath('../ITUData/Aarhus2/tiles/static/256_20/554040_325704.png')], [WindowsPath('../ITUData/Aarhus2/tiles/static/256_20/554041_325692.png')], [WindowsPath('../ITUData/Aarhus2/tiles/static/256_20/554041_325693.png')], [WindowsPath('../ITUData/Aarhus2/tiles/static/256_20/554041_325694.png')], [WindowsPath('../ITUData/Aarhus2/tiles/static/256_20/554041_325695.png')], [WindowsPath('../ITUData/Aarhus2/tiles/static/256_20/554041_325696.png')], [WindowsPath('../ITUData/Aarhus2/tiles/static/256_20/554041_325697.png')], [WindowsPath('../ITUData/Aarhus2/tiles/static/256_20/554041_325698.png')], [WindowsPath('../ITUData/Aarhus2/tiles/static/256_20/554041_325699.png')], [WindowsPath('../ITUData/Aarhus2/tiles/static/256_20/554041_325700.png')], [WindowsPath('../ITUData/Aarhus2/tiles/static/256_20/554041_325701.png')], [WindowsPath('../ITUData/Aarhus2/tiles/static/256_20/554041_325702.png')], [WindowsPath('../ITUData/Aarhus2/tiles/static/256_20/554041_325703.png')], [WindowsPath('../ITUData/Aarhus2/tiles/static/256_20/554041_325704.png')]]\n"
     ]
    },
    {
     "name": "stderr",
     "output_type": "stream",
     "text": [
      "           Stitching 364 tiles...                 : 100%|██████████| 364/364 [00:04<00:00, 76.94it/s]\n",
      "INFO       Dumping to C:\\Users\\Nielsen\\AppData\\Local\\Temp\\tile2net\\Aarhus2\\tiles\\Aarhus2_256_info.json\n"
     ]
    },
    {
     "name": "stdout",
     "output_type": "stream",
     "text": [
      "{\n",
      "    \"config\": \"C:\\\\Users\\\\Nielsen\\\\Desktop\\\\tile2net\\\\tile2net-main\\\\src\\\\tile2net\\\\tileseg\\\\config.py\",\n",
      "    \"assets\": {\n",
      "        \"weights\": {\n",
      "            \"satellite_2021\": \"C:\\\\Users\\\\Nielsen\\\\Desktop\\\\tile2net\\\\tile2net-main\\\\src\\\\tile2net\\\\raster\\\\resources\\\\assets\\\\weights\\\\satellite_2021.pth\",\n",
      "            \"hrnetv2_w48_imagenet_pretrained\": \"C:\\\\Users\\\\Nielsen\\\\Desktop\\\\tile2net\\\\tile2net-main\\\\src\\\\tile2net\\\\raster\\\\resources\\\\assets\\\\weights\\\\hrnetv2_w48_imagenet_pretrained.pth\"\n",
      "        }\n",
      "    },\n",
      "    \"segmentation\": \"C:\\\\Users\\\\Nielsen\\\\AppData\\\\Local\\\\Temp\\\\tile2net\\\\Aarhus2\\\\segmentation\\\\Aarhus2\\\\256_20_1\",\n",
      "    \"tiles\": {\n",
      "        \"info\": \"C:\\\\Users\\\\Nielsen\\\\AppData\\\\Local\\\\Temp\\\\tile2net\\\\Aarhus2\\\\tiles\\\\Aarhus2_256_info.json\",\n",
      "        \"static\": \"..\\\\ITUData/Aarhus2/tiles/static/256_20\",\n",
      "        \"stitched\": \"C:\\\\Users\\\\Nielsen\\\\AppData\\\\Local\\\\Temp\\\\tile2net\\\\Aarhus2\\\\tiles\\\\stitched\\\\256_20_1\"\n",
      "    },\n",
      "    \"polygons\": \"C:\\\\Users\\\\Nielsen\\\\AppData\\\\Local\\\\Temp\\\\tile2net\\\\Aarhus2\\\\polygons\",\n",
      "    \"network\": \"C:\\\\Users\\\\Nielsen\\\\AppData\\\\Local\\\\Temp\\\\tile2net\\\\Aarhus2\\\\network\",\n",
      "    \"name\": \"Aarhus2\"\n",
      "}"
     ]
    }
   ],
   "source": [
    "#Stitching tiles \n",
    "raster.generate(1)"
   ]
  },
  {
   "cell_type": "code",
   "execution_count": null,
   "metadata": {},
   "outputs": [
    {
     "name": "stderr",
     "output_type": "stream",
     "text": [
      "INFO       Running ['python', '-m', 'tile2net', 'inference', '--city_info', 'C:\\\\Users\\\\Nielsen\\\\AppData\\\\Local\\\\Temp\\\\tile2net\\\\Aarhus2\\\\tiles\\\\Aarhus2_256_info.json', '--interactive', '--dump_percent', '0']\n"
     ]
    }
   ],
   "source": [
    "#Segmentation\n",
    "raster.inference()"
   ]
  },
  {
   "cell_type": "markdown",
   "metadata": {},
   "source": [
    "### Aarhus Location 3"
   ]
  },
  {
   "cell_type": "code",
   "execution_count": 2,
   "metadata": {},
   "outputs": [],
   "source": [
    "#Defining bounding box\n",
    "min_lat = 56.150489\n",
    "min_lon = 10.200536\n",
    "max_lat = 56.153002\n",
    "max_lon = 10.203170\n",
    "location = f\"{min_lat}, {min_lon}, {max_lat}, {max_lon}\""
   ]
  },
  {
   "cell_type": "code",
   "execution_count": 3,
   "metadata": {},
   "outputs": [
    {
     "name": "stdout",
     "output_type": "stream",
     "text": [
      "{'x': 0}\n",
      "{}\n"
     ]
    },
    {
     "data": {
      "text/plain": [
       "Aarhus3 Data Constructor. \n",
       "Coordinate reference system (CRS): 4326 \n",
       "Tile size (pixel): 256 \n",
       "Zoom level: 20 \n",
       "Number of columns: 8 \n",
       "Number of rows: 14 \n",
       "Total tiles: 112 \n",
       "Number of tiles inside the boundary: 112 (100.0%) "
      ]
     },
     "execution_count": 3,
     "metadata": {},
     "output_type": "execute_result"
    }
   ],
   "source": [
    "#Creating raster object\n",
    "raster = Raster(\n",
    "    name=\"Aarhus3\",\n",
    "    location=location,\n",
    "    input_dir=r'..\\..\\ITUData/Google/tiles/Aarhus3/tiles/static/256_20/x_y.png',\n",
    "    zoom=20,\n",
    ")\n",
    "\n",
    "raster"
   ]
  },
  {
   "cell_type": "code",
   "execution_count": 13,
   "metadata": {},
   "outputs": [
    {
     "name": "stderr",
     "output_type": "stream",
     "text": [
      "INFO       Stitching 8 tiles...\n"
     ]
    },
    {
     "name": "stdout",
     "output_type": "stream",
     "text": [
      "list:infiles: [[WindowsPath('../ITUData/Google/tiles/Aarhus3/tiles/static/256_20/553999_325721.png')], [WindowsPath('../ITUData/Google/tiles/Aarhus3/tiles/static/256_20/553999_325722.png')], [WindowsPath('../ITUData/Google/tiles/Aarhus3/tiles/static/256_20/553999_325723.png')], [WindowsPath('../ITUData/Google/tiles/Aarhus3/tiles/static/256_20/553999_325724.png')], [WindowsPath('../ITUData/Google/tiles/Aarhus3/tiles/static/256_20/553999_325725.png')], [WindowsPath('../ITUData/Google/tiles/Aarhus3/tiles/static/256_20/553999_325726.png')], [WindowsPath('../ITUData/Google/tiles/Aarhus3/tiles/static/256_20/553999_325727.png')], [WindowsPath('../ITUData/Google/tiles/Aarhus3/tiles/static/256_20/553999_325728.png')], [WindowsPath('../ITUData/Google/tiles/Aarhus3/tiles/static/256_20/553999_325729.png')], [WindowsPath('../ITUData/Google/tiles/Aarhus3/tiles/static/256_20/553999_325730.png')], [WindowsPath('../ITUData/Google/tiles/Aarhus3/tiles/static/256_20/553999_325731.png')], [WindowsPath('../ITUData/Google/tiles/Aarhus3/tiles/static/256_20/553999_325732.png')], [WindowsPath('../ITUData/Google/tiles/Aarhus3/tiles/static/256_20/553999_325733.png')], [WindowsPath('../ITUData/Google/tiles/Aarhus3/tiles/static/256_20/553999_325734.png')], [WindowsPath('../ITUData/Google/tiles/Aarhus3/tiles/static/256_20/554000_325721.png')], [WindowsPath('../ITUData/Google/tiles/Aarhus3/tiles/static/256_20/554000_325722.png')], [WindowsPath('../ITUData/Google/tiles/Aarhus3/tiles/static/256_20/554000_325723.png')], [WindowsPath('../ITUData/Google/tiles/Aarhus3/tiles/static/256_20/554000_325724.png')], [WindowsPath('../ITUData/Google/tiles/Aarhus3/tiles/static/256_20/554000_325725.png')], [WindowsPath('../ITUData/Google/tiles/Aarhus3/tiles/static/256_20/554000_325726.png')], [WindowsPath('../ITUData/Google/tiles/Aarhus3/tiles/static/256_20/554000_325727.png')], [WindowsPath('../ITUData/Google/tiles/Aarhus3/tiles/static/256_20/554000_325728.png')], [WindowsPath('../ITUData/Google/tiles/Aarhus3/tiles/static/256_20/554000_325729.png')], [WindowsPath('../ITUData/Google/tiles/Aarhus3/tiles/static/256_20/554000_325730.png')], [WindowsPath('../ITUData/Google/tiles/Aarhus3/tiles/static/256_20/554000_325731.png')], [WindowsPath('../ITUData/Google/tiles/Aarhus3/tiles/static/256_20/554000_325732.png')], [WindowsPath('../ITUData/Google/tiles/Aarhus3/tiles/static/256_20/554000_325733.png')], [WindowsPath('../ITUData/Google/tiles/Aarhus3/tiles/static/256_20/554000_325734.png')], [WindowsPath('../ITUData/Google/tiles/Aarhus3/tiles/static/256_20/554001_325721.png')], [WindowsPath('../ITUData/Google/tiles/Aarhus3/tiles/static/256_20/554001_325722.png')], [WindowsPath('../ITUData/Google/tiles/Aarhus3/tiles/static/256_20/554001_325723.png')], [WindowsPath('../ITUData/Google/tiles/Aarhus3/tiles/static/256_20/554001_325724.png')], [WindowsPath('../ITUData/Google/tiles/Aarhus3/tiles/static/256_20/554001_325725.png')], [WindowsPath('../ITUData/Google/tiles/Aarhus3/tiles/static/256_20/554001_325726.png')], [WindowsPath('../ITUData/Google/tiles/Aarhus3/tiles/static/256_20/554001_325727.png')], [WindowsPath('../ITUData/Google/tiles/Aarhus3/tiles/static/256_20/554001_325728.png')], [WindowsPath('../ITUData/Google/tiles/Aarhus3/tiles/static/256_20/554001_325729.png')], [WindowsPath('../ITUData/Google/tiles/Aarhus3/tiles/static/256_20/554001_325730.png')], [WindowsPath('../ITUData/Google/tiles/Aarhus3/tiles/static/256_20/554001_325731.png')], [WindowsPath('../ITUData/Google/tiles/Aarhus3/tiles/static/256_20/554001_325732.png')], [WindowsPath('../ITUData/Google/tiles/Aarhus3/tiles/static/256_20/554001_325733.png')], [WindowsPath('../ITUData/Google/tiles/Aarhus3/tiles/static/256_20/554001_325734.png')], [WindowsPath('../ITUData/Google/tiles/Aarhus3/tiles/static/256_20/554002_325721.png')], [WindowsPath('../ITUData/Google/tiles/Aarhus3/tiles/static/256_20/554002_325722.png')], [WindowsPath('../ITUData/Google/tiles/Aarhus3/tiles/static/256_20/554002_325723.png')], [WindowsPath('../ITUData/Google/tiles/Aarhus3/tiles/static/256_20/554002_325724.png')], [WindowsPath('../ITUData/Google/tiles/Aarhus3/tiles/static/256_20/554002_325725.png')], [WindowsPath('../ITUData/Google/tiles/Aarhus3/tiles/static/256_20/554002_325726.png')], [WindowsPath('../ITUData/Google/tiles/Aarhus3/tiles/static/256_20/554002_325727.png')], [WindowsPath('../ITUData/Google/tiles/Aarhus3/tiles/static/256_20/554002_325728.png')], [WindowsPath('../ITUData/Google/tiles/Aarhus3/tiles/static/256_20/554002_325729.png')], [WindowsPath('../ITUData/Google/tiles/Aarhus3/tiles/static/256_20/554002_325730.png')], [WindowsPath('../ITUData/Google/tiles/Aarhus3/tiles/static/256_20/554002_325731.png')], [WindowsPath('../ITUData/Google/tiles/Aarhus3/tiles/static/256_20/554002_325732.png')], [WindowsPath('../ITUData/Google/tiles/Aarhus3/tiles/static/256_20/554002_325733.png')], [WindowsPath('../ITUData/Google/tiles/Aarhus3/tiles/static/256_20/554002_325734.png')], [WindowsPath('../ITUData/Google/tiles/Aarhus3/tiles/static/256_20/554003_325721.png')], [WindowsPath('../ITUData/Google/tiles/Aarhus3/tiles/static/256_20/554003_325722.png')], [WindowsPath('../ITUData/Google/tiles/Aarhus3/tiles/static/256_20/554003_325723.png')], [WindowsPath('../ITUData/Google/tiles/Aarhus3/tiles/static/256_20/554003_325724.png')], [WindowsPath('../ITUData/Google/tiles/Aarhus3/tiles/static/256_20/554003_325725.png')], [WindowsPath('../ITUData/Google/tiles/Aarhus3/tiles/static/256_20/554003_325726.png')], [WindowsPath('../ITUData/Google/tiles/Aarhus3/tiles/static/256_20/554003_325727.png')], [WindowsPath('../ITUData/Google/tiles/Aarhus3/tiles/static/256_20/554003_325728.png')], [WindowsPath('../ITUData/Google/tiles/Aarhus3/tiles/static/256_20/554003_325729.png')], [WindowsPath('../ITUData/Google/tiles/Aarhus3/tiles/static/256_20/554003_325730.png')], [WindowsPath('../ITUData/Google/tiles/Aarhus3/tiles/static/256_20/554003_325731.png')], [WindowsPath('../ITUData/Google/tiles/Aarhus3/tiles/static/256_20/554003_325732.png')], [WindowsPath('../ITUData/Google/tiles/Aarhus3/tiles/static/256_20/554003_325733.png')], [WindowsPath('../ITUData/Google/tiles/Aarhus3/tiles/static/256_20/554003_325734.png')], [WindowsPath('../ITUData/Google/tiles/Aarhus3/tiles/static/256_20/554004_325721.png')], [WindowsPath('../ITUData/Google/tiles/Aarhus3/tiles/static/256_20/554004_325722.png')], [WindowsPath('../ITUData/Google/tiles/Aarhus3/tiles/static/256_20/554004_325723.png')], [WindowsPath('../ITUData/Google/tiles/Aarhus3/tiles/static/256_20/554004_325724.png')], [WindowsPath('../ITUData/Google/tiles/Aarhus3/tiles/static/256_20/554004_325725.png')], [WindowsPath('../ITUData/Google/tiles/Aarhus3/tiles/static/256_20/554004_325726.png')], [WindowsPath('../ITUData/Google/tiles/Aarhus3/tiles/static/256_20/554004_325727.png')], [WindowsPath('../ITUData/Google/tiles/Aarhus3/tiles/static/256_20/554004_325728.png')], [WindowsPath('../ITUData/Google/tiles/Aarhus3/tiles/static/256_20/554004_325729.png')], [WindowsPath('../ITUData/Google/tiles/Aarhus3/tiles/static/256_20/554004_325730.png')], [WindowsPath('../ITUData/Google/tiles/Aarhus3/tiles/static/256_20/554004_325731.png')], [WindowsPath('../ITUData/Google/tiles/Aarhus3/tiles/static/256_20/554004_325732.png')], [WindowsPath('../ITUData/Google/tiles/Aarhus3/tiles/static/256_20/554004_325733.png')], [WindowsPath('../ITUData/Google/tiles/Aarhus3/tiles/static/256_20/554004_325734.png')], [WindowsPath('../ITUData/Google/tiles/Aarhus3/tiles/static/256_20/554005_325721.png')], [WindowsPath('../ITUData/Google/tiles/Aarhus3/tiles/static/256_20/554005_325722.png')], [WindowsPath('../ITUData/Google/tiles/Aarhus3/tiles/static/256_20/554005_325723.png')], [WindowsPath('../ITUData/Google/tiles/Aarhus3/tiles/static/256_20/554005_325724.png')], [WindowsPath('../ITUData/Google/tiles/Aarhus3/tiles/static/256_20/554005_325725.png')], [WindowsPath('../ITUData/Google/tiles/Aarhus3/tiles/static/256_20/554005_325726.png')], [WindowsPath('../ITUData/Google/tiles/Aarhus3/tiles/static/256_20/554005_325727.png')], [WindowsPath('../ITUData/Google/tiles/Aarhus3/tiles/static/256_20/554005_325728.png')], [WindowsPath('../ITUData/Google/tiles/Aarhus3/tiles/static/256_20/554005_325729.png')], [WindowsPath('../ITUData/Google/tiles/Aarhus3/tiles/static/256_20/554005_325730.png')], [WindowsPath('../ITUData/Google/tiles/Aarhus3/tiles/static/256_20/554005_325731.png')], [WindowsPath('../ITUData/Google/tiles/Aarhus3/tiles/static/256_20/554005_325732.png')], [WindowsPath('../ITUData/Google/tiles/Aarhus3/tiles/static/256_20/554005_325733.png')], [WindowsPath('../ITUData/Google/tiles/Aarhus3/tiles/static/256_20/554005_325734.png')], [WindowsPath('../ITUData/Google/tiles/Aarhus3/tiles/static/256_20/554006_325721.png')], [WindowsPath('../ITUData/Google/tiles/Aarhus3/tiles/static/256_20/554006_325722.png')], [WindowsPath('../ITUData/Google/tiles/Aarhus3/tiles/static/256_20/554006_325723.png')], [WindowsPath('../ITUData/Google/tiles/Aarhus3/tiles/static/256_20/554006_325724.png')], [WindowsPath('../ITUData/Google/tiles/Aarhus3/tiles/static/256_20/554006_325725.png')], [WindowsPath('../ITUData/Google/tiles/Aarhus3/tiles/static/256_20/554006_325726.png')], [WindowsPath('../ITUData/Google/tiles/Aarhus3/tiles/static/256_20/554006_325727.png')], [WindowsPath('../ITUData/Google/tiles/Aarhus3/tiles/static/256_20/554006_325728.png')], [WindowsPath('../ITUData/Google/tiles/Aarhus3/tiles/static/256_20/554006_325729.png')], [WindowsPath('../ITUData/Google/tiles/Aarhus3/tiles/static/256_20/554006_325730.png')], [WindowsPath('../ITUData/Google/tiles/Aarhus3/tiles/static/256_20/554006_325731.png')], [WindowsPath('../ITUData/Google/tiles/Aarhus3/tiles/static/256_20/554006_325732.png')], [WindowsPath('../ITUData/Google/tiles/Aarhus3/tiles/static/256_20/554006_325733.png')], [WindowsPath('../ITUData/Google/tiles/Aarhus3/tiles/static/256_20/554006_325734.png')]]\n"
     ]
    },
    {
     "name": "stderr",
     "output_type": "stream",
     "text": [
      "           Stitching 112 tiles...                 :   0%|          | 0/112 [00:00<?, ?it/s]"
     ]
    },
    {
     "name": "stderr",
     "output_type": "stream",
     "text": [
      "           Stitching 112 tiles...                 : 100%|██████████| 112/112 [00:01<00:00, 79.01it/s]\n",
      "INFO       Dumping to C:\\Users\\Nielsen\\AppData\\Local\\Temp\\tile2net\\Aarhus3\\tiles\\Aarhus3_256_info.json\n"
     ]
    },
    {
     "name": "stdout",
     "output_type": "stream",
     "text": [
      "{\n",
      "    \"config\": \"C:\\\\Users\\\\Nielsen\\\\Desktop\\\\tile2net\\\\tile2net-main\\\\src\\\\tile2net\\\\tileseg\\\\config.py\",\n",
      "    \"assets\": {\n",
      "        \"weights\": {\n",
      "            \"satellite_2021\": \"C:\\\\Users\\\\Nielsen\\\\Desktop\\\\tile2net\\\\tile2net-main\\\\src\\\\tile2net\\\\raster\\\\resources\\\\assets\\\\weights\\\\satellite_2021.pth\",\n",
      "            \"hrnetv2_w48_imagenet_pretrained\": \"C:\\\\Users\\\\Nielsen\\\\Desktop\\\\tile2net\\\\tile2net-main\\\\src\\\\tile2net\\\\raster\\\\resources\\\\assets\\\\weights\\\\hrnetv2_w48_imagenet_pretrained.pth\"\n",
      "        }\n",
      "    },\n",
      "    \"segmentation\": \"C:\\\\Users\\\\Nielsen\\\\AppData\\\\Local\\\\Temp\\\\tile2net\\\\Aarhus3\\\\segmentation\\\\Aarhus3\\\\256_20_1\",\n",
      "    \"tiles\": {\n",
      "        \"info\": \"C:\\\\Users\\\\Nielsen\\\\AppData\\\\Local\\\\Temp\\\\tile2net\\\\Aarhus3\\\\tiles\\\\Aarhus3_256_info.json\",\n",
      "        \"static\": \"..\\\\ITUData/Google/tiles/Aarhus3/tiles/static/256_20\",\n",
      "        \"stitched\": \"C:\\\\Users\\\\Nielsen\\\\AppData\\\\Local\\\\Temp\\\\tile2net\\\\Aarhus3\\\\tiles\\\\stitched\\\\256_20_1\"\n",
      "    },\n",
      "    \"polygons\": \"C:\\\\Users\\\\Nielsen\\\\AppData\\\\Local\\\\Temp\\\\tile2net\\\\Aarhus3\\\\polygons\",\n",
      "    \"network\": \"C:\\\\Users\\\\Nielsen\\\\AppData\\\\Local\\\\Temp\\\\tile2net\\\\Aarhus3\\\\network\",\n",
      "    \"name\": \"Aarhus3\"\n",
      "}"
     ]
    }
   ],
   "source": [
    "#Stitching tiles \n",
    "raster.generate(1)"
   ]
  },
  {
   "cell_type": "code",
   "execution_count": 14,
   "metadata": {},
   "outputs": [
    {
     "name": "stderr",
     "output_type": "stream",
     "text": [
      "INFO       Running ['python', '-m', 'tile2net', 'inference', '--city_info', 'C:\\\\Users\\\\Nielsen\\\\AppData\\\\Local\\\\Temp\\\\tile2net\\\\Aarhus3\\\\tiles\\\\Aarhus3_256_info.json', '--interactive', '--dump_percent', '0']\n"
     ]
    }
   ],
   "source": [
    "#Segmentation\n",
    "raster.inference()"
   ]
  },
  {
   "cell_type": "markdown",
   "metadata": {},
   "source": [
    "### Aarhus Location 4"
   ]
  },
  {
   "cell_type": "code",
   "execution_count": 4,
   "metadata": {},
   "outputs": [],
   "source": [
    "#Defining bounding box\n",
    "min_lat = 56.118386\n",
    "min_lon = 10.164849\n",
    "max_lat = 56.120276\n",
    "max_lon = 10.170586\n",
    "location = f\"{min_lat}, {min_lon}, {max_lat}, {max_lon}\""
   ]
  },
  {
   "cell_type": "code",
   "execution_count": 5,
   "metadata": {},
   "outputs": [
    {
     "name": "stdout",
     "output_type": "stream",
     "text": [
      "{'x': 0}\n",
      "{}\n"
     ]
    },
    {
     "data": {
      "text/plain": [
       "Aarhus4 Data Constructor. \n",
       "Coordinate reference system (CRS): 4326 \n",
       "Tile size (pixel): 256 \n",
       "Zoom level: 20 \n",
       "Number of columns: 17 \n",
       "Number of rows: 10 \n",
       "Total tiles: 170 \n",
       "Number of tiles inside the boundary: 170 (100.0%) "
      ]
     },
     "execution_count": 5,
     "metadata": {},
     "output_type": "execute_result"
    }
   ],
   "source": [
    "#Creating raster object\n",
    "raster = Raster(\n",
    "    name=\"Aarhus4\",\n",
    "    location=location,\n",
    "    input_dir=r'..\\..\\ITUData/Google/tiles/Aarhus4/tiles/static/256_20/x_y.png',\n",
    "    zoom=20,\n",
    ")\n",
    "\n",
    "raster"
   ]
  },
  {
   "cell_type": "code",
   "execution_count": 7,
   "metadata": {},
   "outputs": [
    {
     "name": "stderr",
     "output_type": "stream",
     "text": [
      "INFO       Stitching 17 tiles...\n"
     ]
    },
    {
     "name": "stdout",
     "output_type": "stream",
     "text": [
      "list:infiles: [[WindowsPath('../../ITUData/Google/tiles/Aarhus4/tiles/static/256_20/553895_325892.png')], [WindowsPath('../../ITUData/Google/tiles/Aarhus4/tiles/static/256_20/553895_325893.png')], [WindowsPath('../../ITUData/Google/tiles/Aarhus4/tiles/static/256_20/553895_325894.png')], [WindowsPath('../../ITUData/Google/tiles/Aarhus4/tiles/static/256_20/553895_325895.png')], [WindowsPath('../../ITUData/Google/tiles/Aarhus4/tiles/static/256_20/553895_325896.png')], [WindowsPath('../../ITUData/Google/tiles/Aarhus4/tiles/static/256_20/553895_325897.png')], [WindowsPath('../../ITUData/Google/tiles/Aarhus4/tiles/static/256_20/553895_325898.png')], [WindowsPath('../../ITUData/Google/tiles/Aarhus4/tiles/static/256_20/553895_325899.png')], [WindowsPath('../../ITUData/Google/tiles/Aarhus4/tiles/static/256_20/553895_325900.png')], [WindowsPath('../../ITUData/Google/tiles/Aarhus4/tiles/static/256_20/553895_325901.png')], [WindowsPath('../../ITUData/Google/tiles/Aarhus4/tiles/static/256_20/553896_325892.png')], [WindowsPath('../../ITUData/Google/tiles/Aarhus4/tiles/static/256_20/553896_325893.png')], [WindowsPath('../../ITUData/Google/tiles/Aarhus4/tiles/static/256_20/553896_325894.png')], [WindowsPath('../../ITUData/Google/tiles/Aarhus4/tiles/static/256_20/553896_325895.png')], [WindowsPath('../../ITUData/Google/tiles/Aarhus4/tiles/static/256_20/553896_325896.png')], [WindowsPath('../../ITUData/Google/tiles/Aarhus4/tiles/static/256_20/553896_325897.png')], [WindowsPath('../../ITUData/Google/tiles/Aarhus4/tiles/static/256_20/553896_325898.png')], [WindowsPath('../../ITUData/Google/tiles/Aarhus4/tiles/static/256_20/553896_325899.png')], [WindowsPath('../../ITUData/Google/tiles/Aarhus4/tiles/static/256_20/553896_325900.png')], [WindowsPath('../../ITUData/Google/tiles/Aarhus4/tiles/static/256_20/553896_325901.png')], [WindowsPath('../../ITUData/Google/tiles/Aarhus4/tiles/static/256_20/553897_325892.png')], [WindowsPath('../../ITUData/Google/tiles/Aarhus4/tiles/static/256_20/553897_325893.png')], [WindowsPath('../../ITUData/Google/tiles/Aarhus4/tiles/static/256_20/553897_325894.png')], [WindowsPath('../../ITUData/Google/tiles/Aarhus4/tiles/static/256_20/553897_325895.png')], [WindowsPath('../../ITUData/Google/tiles/Aarhus4/tiles/static/256_20/553897_325896.png')], [WindowsPath('../../ITUData/Google/tiles/Aarhus4/tiles/static/256_20/553897_325897.png')], [WindowsPath('../../ITUData/Google/tiles/Aarhus4/tiles/static/256_20/553897_325898.png')], [WindowsPath('../../ITUData/Google/tiles/Aarhus4/tiles/static/256_20/553897_325899.png')], [WindowsPath('../../ITUData/Google/tiles/Aarhus4/tiles/static/256_20/553897_325900.png')], [WindowsPath('../../ITUData/Google/tiles/Aarhus4/tiles/static/256_20/553897_325901.png')], [WindowsPath('../../ITUData/Google/tiles/Aarhus4/tiles/static/256_20/553898_325892.png')], [WindowsPath('../../ITUData/Google/tiles/Aarhus4/tiles/static/256_20/553898_325893.png')], [WindowsPath('../../ITUData/Google/tiles/Aarhus4/tiles/static/256_20/553898_325894.png')], [WindowsPath('../../ITUData/Google/tiles/Aarhus4/tiles/static/256_20/553898_325895.png')], [WindowsPath('../../ITUData/Google/tiles/Aarhus4/tiles/static/256_20/553898_325896.png')], [WindowsPath('../../ITUData/Google/tiles/Aarhus4/tiles/static/256_20/553898_325897.png')], [WindowsPath('../../ITUData/Google/tiles/Aarhus4/tiles/static/256_20/553898_325898.png')], [WindowsPath('../../ITUData/Google/tiles/Aarhus4/tiles/static/256_20/553898_325899.png')], [WindowsPath('../../ITUData/Google/tiles/Aarhus4/tiles/static/256_20/553898_325900.png')], [WindowsPath('../../ITUData/Google/tiles/Aarhus4/tiles/static/256_20/553898_325901.png')], [WindowsPath('../../ITUData/Google/tiles/Aarhus4/tiles/static/256_20/553899_325892.png')], [WindowsPath('../../ITUData/Google/tiles/Aarhus4/tiles/static/256_20/553899_325893.png')], [WindowsPath('../../ITUData/Google/tiles/Aarhus4/tiles/static/256_20/553899_325894.png')], [WindowsPath('../../ITUData/Google/tiles/Aarhus4/tiles/static/256_20/553899_325895.png')], [WindowsPath('../../ITUData/Google/tiles/Aarhus4/tiles/static/256_20/553899_325896.png')], [WindowsPath('../../ITUData/Google/tiles/Aarhus4/tiles/static/256_20/553899_325897.png')], [WindowsPath('../../ITUData/Google/tiles/Aarhus4/tiles/static/256_20/553899_325898.png')], [WindowsPath('../../ITUData/Google/tiles/Aarhus4/tiles/static/256_20/553899_325899.png')], [WindowsPath('../../ITUData/Google/tiles/Aarhus4/tiles/static/256_20/553899_325900.png')], [WindowsPath('../../ITUData/Google/tiles/Aarhus4/tiles/static/256_20/553899_325901.png')], [WindowsPath('../../ITUData/Google/tiles/Aarhus4/tiles/static/256_20/553900_325892.png')], [WindowsPath('../../ITUData/Google/tiles/Aarhus4/tiles/static/256_20/553900_325893.png')], [WindowsPath('../../ITUData/Google/tiles/Aarhus4/tiles/static/256_20/553900_325894.png')], [WindowsPath('../../ITUData/Google/tiles/Aarhus4/tiles/static/256_20/553900_325895.png')], [WindowsPath('../../ITUData/Google/tiles/Aarhus4/tiles/static/256_20/553900_325896.png')], [WindowsPath('../../ITUData/Google/tiles/Aarhus4/tiles/static/256_20/553900_325897.png')], [WindowsPath('../../ITUData/Google/tiles/Aarhus4/tiles/static/256_20/553900_325898.png')], [WindowsPath('../../ITUData/Google/tiles/Aarhus4/tiles/static/256_20/553900_325899.png')], [WindowsPath('../../ITUData/Google/tiles/Aarhus4/tiles/static/256_20/553900_325900.png')], [WindowsPath('../../ITUData/Google/tiles/Aarhus4/tiles/static/256_20/553900_325901.png')], [WindowsPath('../../ITUData/Google/tiles/Aarhus4/tiles/static/256_20/553901_325892.png')], [WindowsPath('../../ITUData/Google/tiles/Aarhus4/tiles/static/256_20/553901_325893.png')], [WindowsPath('../../ITUData/Google/tiles/Aarhus4/tiles/static/256_20/553901_325894.png')], [WindowsPath('../../ITUData/Google/tiles/Aarhus4/tiles/static/256_20/553901_325895.png')], [WindowsPath('../../ITUData/Google/tiles/Aarhus4/tiles/static/256_20/553901_325896.png')], [WindowsPath('../../ITUData/Google/tiles/Aarhus4/tiles/static/256_20/553901_325897.png')], [WindowsPath('../../ITUData/Google/tiles/Aarhus4/tiles/static/256_20/553901_325898.png')], [WindowsPath('../../ITUData/Google/tiles/Aarhus4/tiles/static/256_20/553901_325899.png')], [WindowsPath('../../ITUData/Google/tiles/Aarhus4/tiles/static/256_20/553901_325900.png')], [WindowsPath('../../ITUData/Google/tiles/Aarhus4/tiles/static/256_20/553901_325901.png')], [WindowsPath('../../ITUData/Google/tiles/Aarhus4/tiles/static/256_20/553902_325892.png')], [WindowsPath('../../ITUData/Google/tiles/Aarhus4/tiles/static/256_20/553902_325893.png')], [WindowsPath('../../ITUData/Google/tiles/Aarhus4/tiles/static/256_20/553902_325894.png')], [WindowsPath('../../ITUData/Google/tiles/Aarhus4/tiles/static/256_20/553902_325895.png')], [WindowsPath('../../ITUData/Google/tiles/Aarhus4/tiles/static/256_20/553902_325896.png')], [WindowsPath('../../ITUData/Google/tiles/Aarhus4/tiles/static/256_20/553902_325897.png')], [WindowsPath('../../ITUData/Google/tiles/Aarhus4/tiles/static/256_20/553902_325898.png')], [WindowsPath('../../ITUData/Google/tiles/Aarhus4/tiles/static/256_20/553902_325899.png')], [WindowsPath('../../ITUData/Google/tiles/Aarhus4/tiles/static/256_20/553902_325900.png')], [WindowsPath('../../ITUData/Google/tiles/Aarhus4/tiles/static/256_20/553902_325901.png')], [WindowsPath('../../ITUData/Google/tiles/Aarhus4/tiles/static/256_20/553903_325892.png')], [WindowsPath('../../ITUData/Google/tiles/Aarhus4/tiles/static/256_20/553903_325893.png')], [WindowsPath('../../ITUData/Google/tiles/Aarhus4/tiles/static/256_20/553903_325894.png')], [WindowsPath('../../ITUData/Google/tiles/Aarhus4/tiles/static/256_20/553903_325895.png')], [WindowsPath('../../ITUData/Google/tiles/Aarhus4/tiles/static/256_20/553903_325896.png')], [WindowsPath('../../ITUData/Google/tiles/Aarhus4/tiles/static/256_20/553903_325897.png')], [WindowsPath('../../ITUData/Google/tiles/Aarhus4/tiles/static/256_20/553903_325898.png')], [WindowsPath('../../ITUData/Google/tiles/Aarhus4/tiles/static/256_20/553903_325899.png')], [WindowsPath('../../ITUData/Google/tiles/Aarhus4/tiles/static/256_20/553903_325900.png')], [WindowsPath('../../ITUData/Google/tiles/Aarhus4/tiles/static/256_20/553903_325901.png')], [WindowsPath('../../ITUData/Google/tiles/Aarhus4/tiles/static/256_20/553904_325892.png')], [WindowsPath('../../ITUData/Google/tiles/Aarhus4/tiles/static/256_20/553904_325893.png')], [WindowsPath('../../ITUData/Google/tiles/Aarhus4/tiles/static/256_20/553904_325894.png')], [WindowsPath('../../ITUData/Google/tiles/Aarhus4/tiles/static/256_20/553904_325895.png')], [WindowsPath('../../ITUData/Google/tiles/Aarhus4/tiles/static/256_20/553904_325896.png')], [WindowsPath('../../ITUData/Google/tiles/Aarhus4/tiles/static/256_20/553904_325897.png')], [WindowsPath('../../ITUData/Google/tiles/Aarhus4/tiles/static/256_20/553904_325898.png')], [WindowsPath('../../ITUData/Google/tiles/Aarhus4/tiles/static/256_20/553904_325899.png')], [WindowsPath('../../ITUData/Google/tiles/Aarhus4/tiles/static/256_20/553904_325900.png')], [WindowsPath('../../ITUData/Google/tiles/Aarhus4/tiles/static/256_20/553904_325901.png')], [WindowsPath('../../ITUData/Google/tiles/Aarhus4/tiles/static/256_20/553905_325892.png')], [WindowsPath('../../ITUData/Google/tiles/Aarhus4/tiles/static/256_20/553905_325893.png')], [WindowsPath('../../ITUData/Google/tiles/Aarhus4/tiles/static/256_20/553905_325894.png')], [WindowsPath('../../ITUData/Google/tiles/Aarhus4/tiles/static/256_20/553905_325895.png')], [WindowsPath('../../ITUData/Google/tiles/Aarhus4/tiles/static/256_20/553905_325896.png')], [WindowsPath('../../ITUData/Google/tiles/Aarhus4/tiles/static/256_20/553905_325897.png')], [WindowsPath('../../ITUData/Google/tiles/Aarhus4/tiles/static/256_20/553905_325898.png')], [WindowsPath('../../ITUData/Google/tiles/Aarhus4/tiles/static/256_20/553905_325899.png')], [WindowsPath('../../ITUData/Google/tiles/Aarhus4/tiles/static/256_20/553905_325900.png')], [WindowsPath('../../ITUData/Google/tiles/Aarhus4/tiles/static/256_20/553905_325901.png')], [WindowsPath('../../ITUData/Google/tiles/Aarhus4/tiles/static/256_20/553906_325892.png')], [WindowsPath('../../ITUData/Google/tiles/Aarhus4/tiles/static/256_20/553906_325893.png')], [WindowsPath('../../ITUData/Google/tiles/Aarhus4/tiles/static/256_20/553906_325894.png')], [WindowsPath('../../ITUData/Google/tiles/Aarhus4/tiles/static/256_20/553906_325895.png')], [WindowsPath('../../ITUData/Google/tiles/Aarhus4/tiles/static/256_20/553906_325896.png')], [WindowsPath('../../ITUData/Google/tiles/Aarhus4/tiles/static/256_20/553906_325897.png')], [WindowsPath('../../ITUData/Google/tiles/Aarhus4/tiles/static/256_20/553906_325898.png')], [WindowsPath('../../ITUData/Google/tiles/Aarhus4/tiles/static/256_20/553906_325899.png')], [WindowsPath('../../ITUData/Google/tiles/Aarhus4/tiles/static/256_20/553906_325900.png')], [WindowsPath('../../ITUData/Google/tiles/Aarhus4/tiles/static/256_20/553906_325901.png')], [WindowsPath('../../ITUData/Google/tiles/Aarhus4/tiles/static/256_20/553907_325892.png')], [WindowsPath('../../ITUData/Google/tiles/Aarhus4/tiles/static/256_20/553907_325893.png')], [WindowsPath('../../ITUData/Google/tiles/Aarhus4/tiles/static/256_20/553907_325894.png')], [WindowsPath('../../ITUData/Google/tiles/Aarhus4/tiles/static/256_20/553907_325895.png')], [WindowsPath('../../ITUData/Google/tiles/Aarhus4/tiles/static/256_20/553907_325896.png')], [WindowsPath('../../ITUData/Google/tiles/Aarhus4/tiles/static/256_20/553907_325897.png')], [WindowsPath('../../ITUData/Google/tiles/Aarhus4/tiles/static/256_20/553907_325898.png')], [WindowsPath('../../ITUData/Google/tiles/Aarhus4/tiles/static/256_20/553907_325899.png')], [WindowsPath('../../ITUData/Google/tiles/Aarhus4/tiles/static/256_20/553907_325900.png')], [WindowsPath('../../ITUData/Google/tiles/Aarhus4/tiles/static/256_20/553907_325901.png')], [WindowsPath('../../ITUData/Google/tiles/Aarhus4/tiles/static/256_20/553908_325892.png')], [WindowsPath('../../ITUData/Google/tiles/Aarhus4/tiles/static/256_20/553908_325893.png')], [WindowsPath('../../ITUData/Google/tiles/Aarhus4/tiles/static/256_20/553908_325894.png')], [WindowsPath('../../ITUData/Google/tiles/Aarhus4/tiles/static/256_20/553908_325895.png')], [WindowsPath('../../ITUData/Google/tiles/Aarhus4/tiles/static/256_20/553908_325896.png')], [WindowsPath('../../ITUData/Google/tiles/Aarhus4/tiles/static/256_20/553908_325897.png')], [WindowsPath('../../ITUData/Google/tiles/Aarhus4/tiles/static/256_20/553908_325898.png')], [WindowsPath('../../ITUData/Google/tiles/Aarhus4/tiles/static/256_20/553908_325899.png')], [WindowsPath('../../ITUData/Google/tiles/Aarhus4/tiles/static/256_20/553908_325900.png')], [WindowsPath('../../ITUData/Google/tiles/Aarhus4/tiles/static/256_20/553908_325901.png')], [WindowsPath('../../ITUData/Google/tiles/Aarhus4/tiles/static/256_20/553909_325892.png')], [WindowsPath('../../ITUData/Google/tiles/Aarhus4/tiles/static/256_20/553909_325893.png')], [WindowsPath('../../ITUData/Google/tiles/Aarhus4/tiles/static/256_20/553909_325894.png')], [WindowsPath('../../ITUData/Google/tiles/Aarhus4/tiles/static/256_20/553909_325895.png')], [WindowsPath('../../ITUData/Google/tiles/Aarhus4/tiles/static/256_20/553909_325896.png')], [WindowsPath('../../ITUData/Google/tiles/Aarhus4/tiles/static/256_20/553909_325897.png')], [WindowsPath('../../ITUData/Google/tiles/Aarhus4/tiles/static/256_20/553909_325898.png')], [WindowsPath('../../ITUData/Google/tiles/Aarhus4/tiles/static/256_20/553909_325899.png')], [WindowsPath('../../ITUData/Google/tiles/Aarhus4/tiles/static/256_20/553909_325900.png')], [WindowsPath('../../ITUData/Google/tiles/Aarhus4/tiles/static/256_20/553909_325901.png')], [WindowsPath('../../ITUData/Google/tiles/Aarhus4/tiles/static/256_20/553910_325892.png')], [WindowsPath('../../ITUData/Google/tiles/Aarhus4/tiles/static/256_20/553910_325893.png')], [WindowsPath('../../ITUData/Google/tiles/Aarhus4/tiles/static/256_20/553910_325894.png')], [WindowsPath('../../ITUData/Google/tiles/Aarhus4/tiles/static/256_20/553910_325895.png')], [WindowsPath('../../ITUData/Google/tiles/Aarhus4/tiles/static/256_20/553910_325896.png')], [WindowsPath('../../ITUData/Google/tiles/Aarhus4/tiles/static/256_20/553910_325897.png')], [WindowsPath('../../ITUData/Google/tiles/Aarhus4/tiles/static/256_20/553910_325898.png')], [WindowsPath('../../ITUData/Google/tiles/Aarhus4/tiles/static/256_20/553910_325899.png')], [WindowsPath('../../ITUData/Google/tiles/Aarhus4/tiles/static/256_20/553910_325900.png')], [WindowsPath('../../ITUData/Google/tiles/Aarhus4/tiles/static/256_20/553910_325901.png')], [WindowsPath('../../ITUData/Google/tiles/Aarhus4/tiles/static/256_20/553911_325892.png')], [WindowsPath('../../ITUData/Google/tiles/Aarhus4/tiles/static/256_20/553911_325893.png')], [WindowsPath('../../ITUData/Google/tiles/Aarhus4/tiles/static/256_20/553911_325894.png')], [WindowsPath('../../ITUData/Google/tiles/Aarhus4/tiles/static/256_20/553911_325895.png')], [WindowsPath('../../ITUData/Google/tiles/Aarhus4/tiles/static/256_20/553911_325896.png')], [WindowsPath('../../ITUData/Google/tiles/Aarhus4/tiles/static/256_20/553911_325897.png')], [WindowsPath('../../ITUData/Google/tiles/Aarhus4/tiles/static/256_20/553911_325898.png')], [WindowsPath('../../ITUData/Google/tiles/Aarhus4/tiles/static/256_20/553911_325899.png')], [WindowsPath('../../ITUData/Google/tiles/Aarhus4/tiles/static/256_20/553911_325900.png')], [WindowsPath('../../ITUData/Google/tiles/Aarhus4/tiles/static/256_20/553911_325901.png')]]\n"
     ]
    },
    {
     "name": "stderr",
     "output_type": "stream",
     "text": [
      "           Stitching 170 tiles...                 : 100%|██████████| 170/170 [00:02<00:00, 76.85it/s]\n",
      "INFO       Dumping to C:\\Users\\Nielsen\\AppData\\Local\\Temp\\tile2net\\Aarhus4\\tiles\\Aarhus4_256_info.json\n"
     ]
    },
    {
     "name": "stdout",
     "output_type": "stream",
     "text": [
      "{\n",
      "    \"config\": \"C:\\\\Users\\\\Nielsen\\\\Desktop\\\\tile2net\\\\tile2net-main\\\\src\\\\tile2net\\\\tileseg\\\\config.py\",\n",
      "    \"assets\": {\n",
      "        \"weights\": {\n",
      "            \"satellite_2021\": \"C:\\\\Users\\\\Nielsen\\\\Desktop\\\\tile2net\\\\tile2net-main\\\\src\\\\tile2net\\\\raster\\\\resources\\\\assets\\\\weights\\\\satellite_2021.pth\",\n",
      "            \"hrnetv2_w48_imagenet_pretrained\": \"C:\\\\Users\\\\Nielsen\\\\Desktop\\\\tile2net\\\\tile2net-main\\\\src\\\\tile2net\\\\raster\\\\resources\\\\assets\\\\weights\\\\hrnetv2_w48_imagenet_pretrained.pth\"\n",
      "        }\n",
      "    },\n",
      "    \"segmentation\": \"C:\\\\Users\\\\Nielsen\\\\AppData\\\\Local\\\\Temp\\\\tile2net\\\\Aarhus4\\\\segmentation\\\\Aarhus4\\\\256_20_1\",\n",
      "    \"tiles\": {\n",
      "        \"info\": \"C:\\\\Users\\\\Nielsen\\\\AppData\\\\Local\\\\Temp\\\\tile2net\\\\Aarhus4\\\\tiles\\\\Aarhus4_256_info.json\",\n",
      "        \"static\": \"..\\\\..\\\\ITUData/Google/tiles/Aarhus4/tiles/static/256_20\",\n",
      "        \"stitched\": \"C:\\\\Users\\\\Nielsen\\\\AppData\\\\Local\\\\Temp\\\\tile2net\\\\Aarhus4\\\\tiles\\\\stitched\\\\256_20_1\"\n",
      "    },\n",
      "    \"polygons\": \"C:\\\\Users\\\\Nielsen\\\\AppData\\\\Local\\\\Temp\\\\tile2net\\\\Aarhus4\\\\polygons\",\n",
      "    \"network\": \"C:\\\\Users\\\\Nielsen\\\\AppData\\\\Local\\\\Temp\\\\tile2net\\\\Aarhus4\\\\network\",\n",
      "    \"name\": \"Aarhus4\"\n",
      "}"
     ]
    }
   ],
   "source": [
    "#Stitching tiles \n",
    "raster.generate(1)"
   ]
  },
  {
   "cell_type": "code",
   "execution_count": 8,
   "metadata": {},
   "outputs": [
    {
     "name": "stderr",
     "output_type": "stream",
     "text": [
      "INFO       Running ['python', '-m', 'tile2net', 'inference', '--city_info', 'C:\\\\Users\\\\Nielsen\\\\AppData\\\\Local\\\\Temp\\\\tile2net\\\\Aarhus4\\\\tiles\\\\Aarhus4_256_info.json', '--interactive', '--dump_percent', '0']\n"
     ]
    }
   ],
   "source": [
    "#Segmentation\n",
    "raster.inference()"
   ]
  },
  {
   "cell_type": "markdown",
   "metadata": {},
   "source": [
    "### Aarhus Location 5"
   ]
  },
  {
   "cell_type": "code",
   "execution_count": 15,
   "metadata": {},
   "outputs": [],
   "source": [
    "#Defining bounding box\n",
    "min_lat = 56.163398782270036\n",
    "min_lon = 10.198736640761304\n",
    "max_lat = 56.1647425825998\n",
    "max_lon = 10.204391561692129\n",
    "location = f\"{min_lat}, {min_lon}, {max_lat}, {max_lon}\""
   ]
  },
  {
   "cell_type": "code",
   "execution_count": 16,
   "metadata": {},
   "outputs": [
    {
     "name": "stdout",
     "output_type": "stream",
     "text": [
      "{'x': 0}\n",
      "{}\n"
     ]
    },
    {
     "data": {
      "text/plain": [
       "Aarhus5 Data Constructor. \n",
       "Coordinate reference system (CRS): 4326 \n",
       "Tile size (pixel): 256 \n",
       "Zoom level: 20 \n",
       "Number of columns: 18 \n",
       "Number of rows: 8 \n",
       "Total tiles: 144 \n",
       "Number of tiles inside the boundary: 144 (100.0%) "
      ]
     },
     "execution_count": 16,
     "metadata": {},
     "output_type": "execute_result"
    }
   ],
   "source": [
    "#Creating raster object\n",
    "raster = Raster(\n",
    "    name=\"Aarhus5\",\n",
    "    location=location,\n",
    "    input_dir=r'..\\..\\ITUData/Google/tiles/Aarhus5/tiles/static/256_20/x_y.png',\n",
    "    zoom=20,\n",
    ")\n",
    "\n",
    "raster"
   ]
  },
  {
   "cell_type": "code",
   "execution_count": 18,
   "metadata": {},
   "outputs": [
    {
     "name": "stderr",
     "output_type": "stream",
     "text": [
      "INFO       Stitching 18 tiles...\n",
      "INFO       All tiles already stitched.\n",
      "INFO       Dumping to C:\\Users\\Nielsen\\AppData\\Local\\Temp\\tile2net\\Aarhus5\\tiles\\Aarhus5_256_info.json\n"
     ]
    },
    {
     "name": "stdout",
     "output_type": "stream",
     "text": [
      "{\n",
      "    \"config\": \"C:\\\\Users\\\\Nielsen\\\\Desktop\\\\tile2net\\\\tile2net-main\\\\src\\\\tile2net\\\\tileseg\\\\config.py\",\n",
      "    \"assets\": {\n",
      "        \"weights\": {\n",
      "            \"satellite_2021\": \"C:\\\\Users\\\\Nielsen\\\\Desktop\\\\tile2net\\\\tile2net-main\\\\src\\\\tile2net\\\\raster\\\\resources\\\\assets\\\\weights\\\\satellite_2021.pth\",\n",
      "            \"hrnetv2_w48_imagenet_pretrained\": \"C:\\\\Users\\\\Nielsen\\\\Desktop\\\\tile2net\\\\tile2net-main\\\\src\\\\tile2net\\\\raster\\\\resources\\\\assets\\\\weights\\\\hrnetv2_w48_imagenet_pretrained.pth\"\n",
      "        }\n",
      "    },\n",
      "    \"segmentation\": \"C:\\\\Users\\\\Nielsen\\\\AppData\\\\Local\\\\Temp\\\\tile2net\\\\Aarhus5\\\\segmentation\\\\Aarhus5\\\\256_20_1\",\n",
      "    \"tiles\": {\n",
      "        \"info\": \"C:\\\\Users\\\\Nielsen\\\\AppData\\\\Local\\\\Temp\\\\tile2net\\\\Aarhus5\\\\tiles\\\\Aarhus5_256_info.json\",\n",
      "        \"static\": \"..\\\\..\\\\ITUData/Google/tiles/Aarhus5/tiles/static/256_20\",\n",
      "        \"stitched\": \"C:\\\\Users\\\\Nielsen\\\\AppData\\\\Local\\\\Temp\\\\tile2net\\\\Aarhus5\\\\tiles\\\\stitched\\\\256_20_1\"\n",
      "    },\n",
      "    \"polygons\": \"C:\\\\Users\\\\Nielsen\\\\AppData\\\\Local\\\\Temp\\\\tile2net\\\\Aarhus5\\\\polygons\",\n",
      "    \"network\": \"C:\\\\Users\\\\Nielsen\\\\AppData\\\\Local\\\\Temp\\\\tile2net\\\\Aarhus5\\\\network\",\n",
      "    \"name\": \"Aarhus5\"\n",
      "}"
     ]
    }
   ],
   "source": [
    "#Stitching tiles \n",
    "raster.generate(1)"
   ]
  },
  {
   "cell_type": "code",
   "execution_count": 9,
   "metadata": {},
   "outputs": [
    {
     "name": "stderr",
     "output_type": "stream",
     "text": [
      "INFO       Running ['python', '-m', 'tile2net', 'inference', '--city_info', 'C:\\\\Users\\\\Nielsen\\\\AppData\\\\Local\\\\Temp\\\\tile2net\\\\Aarhus5\\\\tiles\\\\Aarhus5_256_info.json', '--interactive', '--dump_percent', '0']\n"
     ]
    }
   ],
   "source": [
    "#Segmentation\n",
    "raster.inference()"
   ]
  },
  {
   "cell_type": "markdown",
   "metadata": {},
   "source": [
    "### Aarhus Location 6"
   ]
  },
  {
   "cell_type": "code",
   "execution_count": 15,
   "metadata": {},
   "outputs": [],
   "source": [
    "#Defining bounding box\n",
    "min_lat = 56.152007478084\n",
    "min_lon = 10.174611799198795\n",
    "max_lat = 56.1526169327911\n",
    "max_lon = 10.178922904780872\n",
    "location = f\"{min_lat}, {min_lon}, {max_lat}, {max_lon}\""
   ]
  },
  {
   "cell_type": "code",
   "execution_count": 16,
   "metadata": {},
   "outputs": [
    {
     "name": "stdout",
     "output_type": "stream",
     "text": [
      "{'x': 0}\n",
      "{}\n"
     ]
    },
    {
     "data": {
      "text/plain": [
       "Aarhus6 Data Constructor. \n",
       "Coordinate reference system (CRS): 4326 \n",
       "Tile size (pixel): 256 \n",
       "Zoom level: 20 \n",
       "Number of columns: 14 \n",
       "Number of rows: 4 \n",
       "Total tiles: 56 \n",
       "Number of tiles inside the boundary: 56 (100.0%) "
      ]
     },
     "execution_count": 16,
     "metadata": {},
     "output_type": "execute_result"
    }
   ],
   "source": [
    "#Creating raster object\n",
    "raster = Raster(\n",
    "    name=\"Aarhus6\",\n",
    "    location=location,\n",
    "    input_dir=r'..\\..\\ITUData/Google/tiles/Aarhus6/tiles/static/256_20/x_y.png',\n",
    "    zoom=20,\n",
    ")\n",
    "\n",
    "raster"
   ]
  },
  {
   "cell_type": "code",
   "execution_count": 17,
   "metadata": {},
   "outputs": [
    {
     "name": "stderr",
     "output_type": "stream",
     "text": [
      "INFO       Stitching 14 tiles...\n"
     ]
    },
    {
     "name": "stdout",
     "output_type": "stream",
     "text": [
      "list:infiles: [[WindowsPath('../../ITUData/Google/tiles/Aarhus6/tiles/static/256_20/553923_325723.png')], [WindowsPath('../../ITUData/Google/tiles/Aarhus6/tiles/static/256_20/553923_325724.png')], [WindowsPath('../../ITUData/Google/tiles/Aarhus6/tiles/static/256_20/553923_325725.png')], [WindowsPath('../../ITUData/Google/tiles/Aarhus6/tiles/static/256_20/553923_325726.png')], [WindowsPath('../../ITUData/Google/tiles/Aarhus6/tiles/static/256_20/553924_325723.png')], [WindowsPath('../../ITUData/Google/tiles/Aarhus6/tiles/static/256_20/553924_325724.png')], [WindowsPath('../../ITUData/Google/tiles/Aarhus6/tiles/static/256_20/553924_325725.png')], [WindowsPath('../../ITUData/Google/tiles/Aarhus6/tiles/static/256_20/553924_325726.png')], [WindowsPath('../../ITUData/Google/tiles/Aarhus6/tiles/static/256_20/553925_325723.png')], [WindowsPath('../../ITUData/Google/tiles/Aarhus6/tiles/static/256_20/553925_325724.png')], [WindowsPath('../../ITUData/Google/tiles/Aarhus6/tiles/static/256_20/553925_325725.png')], [WindowsPath('../../ITUData/Google/tiles/Aarhus6/tiles/static/256_20/553925_325726.png')], [WindowsPath('../../ITUData/Google/tiles/Aarhus6/tiles/static/256_20/553926_325723.png')], [WindowsPath('../../ITUData/Google/tiles/Aarhus6/tiles/static/256_20/553926_325724.png')], [WindowsPath('../../ITUData/Google/tiles/Aarhus6/tiles/static/256_20/553926_325725.png')], [WindowsPath('../../ITUData/Google/tiles/Aarhus6/tiles/static/256_20/553926_325726.png')], [WindowsPath('../../ITUData/Google/tiles/Aarhus6/tiles/static/256_20/553927_325723.png')], [WindowsPath('../../ITUData/Google/tiles/Aarhus6/tiles/static/256_20/553927_325724.png')], [WindowsPath('../../ITUData/Google/tiles/Aarhus6/tiles/static/256_20/553927_325725.png')], [WindowsPath('../../ITUData/Google/tiles/Aarhus6/tiles/static/256_20/553927_325726.png')], [WindowsPath('../../ITUData/Google/tiles/Aarhus6/tiles/static/256_20/553928_325723.png')], [WindowsPath('../../ITUData/Google/tiles/Aarhus6/tiles/static/256_20/553928_325724.png')], [WindowsPath('../../ITUData/Google/tiles/Aarhus6/tiles/static/256_20/553928_325725.png')], [WindowsPath('../../ITUData/Google/tiles/Aarhus6/tiles/static/256_20/553928_325726.png')], [WindowsPath('../../ITUData/Google/tiles/Aarhus6/tiles/static/256_20/553929_325723.png')], [WindowsPath('../../ITUData/Google/tiles/Aarhus6/tiles/static/256_20/553929_325724.png')], [WindowsPath('../../ITUData/Google/tiles/Aarhus6/tiles/static/256_20/553929_325725.png')], [WindowsPath('../../ITUData/Google/tiles/Aarhus6/tiles/static/256_20/553929_325726.png')], [WindowsPath('../../ITUData/Google/tiles/Aarhus6/tiles/static/256_20/553930_325723.png')], [WindowsPath('../../ITUData/Google/tiles/Aarhus6/tiles/static/256_20/553930_325724.png')], [WindowsPath('../../ITUData/Google/tiles/Aarhus6/tiles/static/256_20/553930_325725.png')], [WindowsPath('../../ITUData/Google/tiles/Aarhus6/tiles/static/256_20/553930_325726.png')], [WindowsPath('../../ITUData/Google/tiles/Aarhus6/tiles/static/256_20/553931_325723.png')], [WindowsPath('../../ITUData/Google/tiles/Aarhus6/tiles/static/256_20/553931_325724.png')], [WindowsPath('../../ITUData/Google/tiles/Aarhus6/tiles/static/256_20/553931_325725.png')], [WindowsPath('../../ITUData/Google/tiles/Aarhus6/tiles/static/256_20/553931_325726.png')], [WindowsPath('../../ITUData/Google/tiles/Aarhus6/tiles/static/256_20/553932_325723.png')], [WindowsPath('../../ITUData/Google/tiles/Aarhus6/tiles/static/256_20/553932_325724.png')], [WindowsPath('../../ITUData/Google/tiles/Aarhus6/tiles/static/256_20/553932_325725.png')], [WindowsPath('../../ITUData/Google/tiles/Aarhus6/tiles/static/256_20/553932_325726.png')], [WindowsPath('../../ITUData/Google/tiles/Aarhus6/tiles/static/256_20/553933_325723.png')], [WindowsPath('../../ITUData/Google/tiles/Aarhus6/tiles/static/256_20/553933_325724.png')], [WindowsPath('../../ITUData/Google/tiles/Aarhus6/tiles/static/256_20/553933_325725.png')], [WindowsPath('../../ITUData/Google/tiles/Aarhus6/tiles/static/256_20/553933_325726.png')], [WindowsPath('../../ITUData/Google/tiles/Aarhus6/tiles/static/256_20/553934_325723.png')], [WindowsPath('../../ITUData/Google/tiles/Aarhus6/tiles/static/256_20/553934_325724.png')], [WindowsPath('../../ITUData/Google/tiles/Aarhus6/tiles/static/256_20/553934_325725.png')], [WindowsPath('../../ITUData/Google/tiles/Aarhus6/tiles/static/256_20/553934_325726.png')], [WindowsPath('../../ITUData/Google/tiles/Aarhus6/tiles/static/256_20/553935_325723.png')], [WindowsPath('../../ITUData/Google/tiles/Aarhus6/tiles/static/256_20/553935_325724.png')], [WindowsPath('../../ITUData/Google/tiles/Aarhus6/tiles/static/256_20/553935_325725.png')], [WindowsPath('../../ITUData/Google/tiles/Aarhus6/tiles/static/256_20/553935_325726.png')], [WindowsPath('../../ITUData/Google/tiles/Aarhus6/tiles/static/256_20/553936_325723.png')], [WindowsPath('../../ITUData/Google/tiles/Aarhus6/tiles/static/256_20/553936_325724.png')], [WindowsPath('../../ITUData/Google/tiles/Aarhus6/tiles/static/256_20/553936_325725.png')], [WindowsPath('../../ITUData/Google/tiles/Aarhus6/tiles/static/256_20/553936_325726.png')]]\n"
     ]
    },
    {
     "name": "stderr",
     "output_type": "stream",
     "text": [
      "           Stitching 56 tiles...                  :   0%|          | 0/56 [00:00<?, ?it/s]"
     ]
    },
    {
     "name": "stderr",
     "output_type": "stream",
     "text": [
      "           Stitching 56 tiles...                  : 100%|██████████| 56/56 [00:00<00:00, 82.21it/s]\n",
      "INFO       Dumping to C:\\Users\\Nielsen\\AppData\\Local\\Temp\\tile2net\\Aarhus6\\tiles\\Aarhus6_256_info.json\n"
     ]
    },
    {
     "name": "stdout",
     "output_type": "stream",
     "text": [
      "{\n",
      "    \"config\": \"C:\\\\Users\\\\Nielsen\\\\Desktop\\\\tile2net\\\\tile2net-main\\\\src\\\\tile2net\\\\tileseg\\\\config.py\",\n",
      "    \"assets\": {\n",
      "        \"weights\": {\n",
      "            \"satellite_2021\": \"C:\\\\Users\\\\Nielsen\\\\Desktop\\\\tile2net\\\\tile2net-main\\\\src\\\\tile2net\\\\raster\\\\resources\\\\assets\\\\weights\\\\satellite_2021.pth\",\n",
      "            \"hrnetv2_w48_imagenet_pretrained\": \"C:\\\\Users\\\\Nielsen\\\\Desktop\\\\tile2net\\\\tile2net-main\\\\src\\\\tile2net\\\\raster\\\\resources\\\\assets\\\\weights\\\\hrnetv2_w48_imagenet_pretrained.pth\"\n",
      "        }\n",
      "    },\n",
      "    \"segmentation\": \"C:\\\\Users\\\\Nielsen\\\\AppData\\\\Local\\\\Temp\\\\tile2net\\\\Aarhus6\\\\segmentation\\\\Aarhus6\\\\256_20_1\",\n",
      "    \"tiles\": {\n",
      "        \"info\": \"C:\\\\Users\\\\Nielsen\\\\AppData\\\\Local\\\\Temp\\\\tile2net\\\\Aarhus6\\\\tiles\\\\Aarhus6_256_info.json\",\n",
      "        \"static\": \"..\\\\..\\\\ITUData/Google/tiles/Aarhus6/tiles/static/256_20\",\n",
      "        \"stitched\": \"C:\\\\Users\\\\Nielsen\\\\AppData\\\\Local\\\\Temp\\\\tile2net\\\\Aarhus6\\\\tiles\\\\stitched\\\\256_20_1\"\n",
      "    },\n",
      "    \"polygons\": \"C:\\\\Users\\\\Nielsen\\\\AppData\\\\Local\\\\Temp\\\\tile2net\\\\Aarhus6\\\\polygons\",\n",
      "    \"network\": \"C:\\\\Users\\\\Nielsen\\\\AppData\\\\Local\\\\Temp\\\\tile2net\\\\Aarhus6\\\\network\",\n",
      "    \"name\": \"Aarhus6\"\n",
      "}"
     ]
    }
   ],
   "source": [
    "#Stitching tiles \n",
    "raster.generate(1)"
   ]
  },
  {
   "cell_type": "code",
   "execution_count": 18,
   "metadata": {},
   "outputs": [
    {
     "name": "stderr",
     "output_type": "stream",
     "text": [
      "INFO       Running ['python', '-m', 'tile2net', 'inference', '--city_info', 'C:\\\\Users\\\\Nielsen\\\\AppData\\\\Local\\\\Temp\\\\tile2net\\\\Aarhus6\\\\tiles\\\\Aarhus6_256_info.json', '--interactive', '--dump_percent', '0']\n"
     ]
    }
   ],
   "source": [
    "#Segmentation\n",
    "raster.inference()"
   ]
  },
  {
   "cell_type": "markdown",
   "metadata": {},
   "source": [
    "### Aarhus Location 7"
   ]
  },
  {
   "cell_type": "code",
   "execution_count": 19,
   "metadata": {},
   "outputs": [],
   "source": [
    "#Defining bounding box\n",
    "min_lat = 56.148271024352155\n",
    "min_lon = 10.19649253706056\n",
    "max_lat = 56.149863137461246\n",
    "max_lon = 10.199021330423378\n",
    "location = f\"{min_lat}, {min_lon}, {max_lat}, {max_lon}\""
   ]
  },
  {
   "cell_type": "code",
   "execution_count": 20,
   "metadata": {},
   "outputs": [
    {
     "name": "stdout",
     "output_type": "stream",
     "text": [
      "{'x': 0}\n",
      "{}\n"
     ]
    },
    {
     "data": {
      "text/plain": [
       "Aarhus7 Data Constructor. \n",
       "Coordinate reference system (CRS): 4326 \n",
       "Tile size (pixel): 256 \n",
       "Zoom level: 20 \n",
       "Number of columns: 8 \n",
       "Number of rows: 9 \n",
       "Total tiles: 72 \n",
       "Number of tiles inside the boundary: 72 (100.0%) "
      ]
     },
     "execution_count": 20,
     "metadata": {},
     "output_type": "execute_result"
    }
   ],
   "source": [
    "#Creating raster object\n",
    "raster = Raster(\n",
    "    name=\"Aarhus7\",\n",
    "    location=location,\n",
    "    input_dir=r'..\\..\\ITUData/Google/tiles/Aarhus7/tiles/static/256_20/x_y.png',\n",
    "    zoom=20,\n",
    ")\n",
    "\n",
    "raster"
   ]
  },
  {
   "cell_type": "code",
   "execution_count": 21,
   "metadata": {},
   "outputs": [
    {
     "name": "stderr",
     "output_type": "stream",
     "text": [
      "INFO       Stitching 8 tiles...\n"
     ]
    },
    {
     "name": "stdout",
     "output_type": "stream",
     "text": [
      "list:infiles: [[WindowsPath('../../ITUData/Google/tiles/Aarhus7/tiles/static/256_20/553987_325737.png')], [WindowsPath('../../ITUData/Google/tiles/Aarhus7/tiles/static/256_20/553987_325738.png')], [WindowsPath('../../ITUData/Google/tiles/Aarhus7/tiles/static/256_20/553987_325739.png')], [WindowsPath('../../ITUData/Google/tiles/Aarhus7/tiles/static/256_20/553987_325740.png')], [WindowsPath('../../ITUData/Google/tiles/Aarhus7/tiles/static/256_20/553987_325741.png')], [WindowsPath('../../ITUData/Google/tiles/Aarhus7/tiles/static/256_20/553987_325742.png')], [WindowsPath('../../ITUData/Google/tiles/Aarhus7/tiles/static/256_20/553987_325743.png')], [WindowsPath('../../ITUData/Google/tiles/Aarhus7/tiles/static/256_20/553987_325744.png')], [WindowsPath('../../ITUData/Google/tiles/Aarhus7/tiles/static/256_20/553987_325745.png')], [WindowsPath('../../ITUData/Google/tiles/Aarhus7/tiles/static/256_20/553988_325737.png')], [WindowsPath('../../ITUData/Google/tiles/Aarhus7/tiles/static/256_20/553988_325738.png')], [WindowsPath('../../ITUData/Google/tiles/Aarhus7/tiles/static/256_20/553988_325739.png')], [WindowsPath('../../ITUData/Google/tiles/Aarhus7/tiles/static/256_20/553988_325740.png')], [WindowsPath('../../ITUData/Google/tiles/Aarhus7/tiles/static/256_20/553988_325741.png')], [WindowsPath('../../ITUData/Google/tiles/Aarhus7/tiles/static/256_20/553988_325742.png')], [WindowsPath('../../ITUData/Google/tiles/Aarhus7/tiles/static/256_20/553988_325743.png')], [WindowsPath('../../ITUData/Google/tiles/Aarhus7/tiles/static/256_20/553988_325744.png')], [WindowsPath('../../ITUData/Google/tiles/Aarhus7/tiles/static/256_20/553988_325745.png')], [WindowsPath('../../ITUData/Google/tiles/Aarhus7/tiles/static/256_20/553989_325737.png')], [WindowsPath('../../ITUData/Google/tiles/Aarhus7/tiles/static/256_20/553989_325738.png')], [WindowsPath('../../ITUData/Google/tiles/Aarhus7/tiles/static/256_20/553989_325739.png')], [WindowsPath('../../ITUData/Google/tiles/Aarhus7/tiles/static/256_20/553989_325740.png')], [WindowsPath('../../ITUData/Google/tiles/Aarhus7/tiles/static/256_20/553989_325741.png')], [WindowsPath('../../ITUData/Google/tiles/Aarhus7/tiles/static/256_20/553989_325742.png')], [WindowsPath('../../ITUData/Google/tiles/Aarhus7/tiles/static/256_20/553989_325743.png')], [WindowsPath('../../ITUData/Google/tiles/Aarhus7/tiles/static/256_20/553989_325744.png')], [WindowsPath('../../ITUData/Google/tiles/Aarhus7/tiles/static/256_20/553989_325745.png')], [WindowsPath('../../ITUData/Google/tiles/Aarhus7/tiles/static/256_20/553990_325737.png')], [WindowsPath('../../ITUData/Google/tiles/Aarhus7/tiles/static/256_20/553990_325738.png')], [WindowsPath('../../ITUData/Google/tiles/Aarhus7/tiles/static/256_20/553990_325739.png')], [WindowsPath('../../ITUData/Google/tiles/Aarhus7/tiles/static/256_20/553990_325740.png')], [WindowsPath('../../ITUData/Google/tiles/Aarhus7/tiles/static/256_20/553990_325741.png')], [WindowsPath('../../ITUData/Google/tiles/Aarhus7/tiles/static/256_20/553990_325742.png')], [WindowsPath('../../ITUData/Google/tiles/Aarhus7/tiles/static/256_20/553990_325743.png')], [WindowsPath('../../ITUData/Google/tiles/Aarhus7/tiles/static/256_20/553990_325744.png')], [WindowsPath('../../ITUData/Google/tiles/Aarhus7/tiles/static/256_20/553990_325745.png')], [WindowsPath('../../ITUData/Google/tiles/Aarhus7/tiles/static/256_20/553991_325737.png')], [WindowsPath('../../ITUData/Google/tiles/Aarhus7/tiles/static/256_20/553991_325738.png')], [WindowsPath('../../ITUData/Google/tiles/Aarhus7/tiles/static/256_20/553991_325739.png')], [WindowsPath('../../ITUData/Google/tiles/Aarhus7/tiles/static/256_20/553991_325740.png')], [WindowsPath('../../ITUData/Google/tiles/Aarhus7/tiles/static/256_20/553991_325741.png')], [WindowsPath('../../ITUData/Google/tiles/Aarhus7/tiles/static/256_20/553991_325742.png')], [WindowsPath('../../ITUData/Google/tiles/Aarhus7/tiles/static/256_20/553991_325743.png')], [WindowsPath('../../ITUData/Google/tiles/Aarhus7/tiles/static/256_20/553991_325744.png')], [WindowsPath('../../ITUData/Google/tiles/Aarhus7/tiles/static/256_20/553991_325745.png')], [WindowsPath('../../ITUData/Google/tiles/Aarhus7/tiles/static/256_20/553992_325737.png')], [WindowsPath('../../ITUData/Google/tiles/Aarhus7/tiles/static/256_20/553992_325738.png')], [WindowsPath('../../ITUData/Google/tiles/Aarhus7/tiles/static/256_20/553992_325739.png')], [WindowsPath('../../ITUData/Google/tiles/Aarhus7/tiles/static/256_20/553992_325740.png')], [WindowsPath('../../ITUData/Google/tiles/Aarhus7/tiles/static/256_20/553992_325741.png')], [WindowsPath('../../ITUData/Google/tiles/Aarhus7/tiles/static/256_20/553992_325742.png')], [WindowsPath('../../ITUData/Google/tiles/Aarhus7/tiles/static/256_20/553992_325743.png')], [WindowsPath('../../ITUData/Google/tiles/Aarhus7/tiles/static/256_20/553992_325744.png')], [WindowsPath('../../ITUData/Google/tiles/Aarhus7/tiles/static/256_20/553992_325745.png')], [WindowsPath('../../ITUData/Google/tiles/Aarhus7/tiles/static/256_20/553993_325737.png')], [WindowsPath('../../ITUData/Google/tiles/Aarhus7/tiles/static/256_20/553993_325738.png')], [WindowsPath('../../ITUData/Google/tiles/Aarhus7/tiles/static/256_20/553993_325739.png')], [WindowsPath('../../ITUData/Google/tiles/Aarhus7/tiles/static/256_20/553993_325740.png')], [WindowsPath('../../ITUData/Google/tiles/Aarhus7/tiles/static/256_20/553993_325741.png')], [WindowsPath('../../ITUData/Google/tiles/Aarhus7/tiles/static/256_20/553993_325742.png')], [WindowsPath('../../ITUData/Google/tiles/Aarhus7/tiles/static/256_20/553993_325743.png')], [WindowsPath('../../ITUData/Google/tiles/Aarhus7/tiles/static/256_20/553993_325744.png')], [WindowsPath('../../ITUData/Google/tiles/Aarhus7/tiles/static/256_20/553993_325745.png')], [WindowsPath('../../ITUData/Google/tiles/Aarhus7/tiles/static/256_20/553994_325737.png')], [WindowsPath('../../ITUData/Google/tiles/Aarhus7/tiles/static/256_20/553994_325738.png')], [WindowsPath('../../ITUData/Google/tiles/Aarhus7/tiles/static/256_20/553994_325739.png')], [WindowsPath('../../ITUData/Google/tiles/Aarhus7/tiles/static/256_20/553994_325740.png')], [WindowsPath('../../ITUData/Google/tiles/Aarhus7/tiles/static/256_20/553994_325741.png')], [WindowsPath('../../ITUData/Google/tiles/Aarhus7/tiles/static/256_20/553994_325742.png')], [WindowsPath('../../ITUData/Google/tiles/Aarhus7/tiles/static/256_20/553994_325743.png')], [WindowsPath('../../ITUData/Google/tiles/Aarhus7/tiles/static/256_20/553994_325744.png')], [WindowsPath('../../ITUData/Google/tiles/Aarhus7/tiles/static/256_20/553994_325745.png')]]\n"
     ]
    },
    {
     "name": "stderr",
     "output_type": "stream",
     "text": [
      "           Stitching 72 tiles...                  : 100%|██████████| 72/72 [00:00<00:00, 77.54it/s]\n",
      "INFO       Dumping to C:\\Users\\Nielsen\\AppData\\Local\\Temp\\tile2net\\Aarhus7\\tiles\\Aarhus7_256_info.json\n"
     ]
    },
    {
     "name": "stdout",
     "output_type": "stream",
     "text": [
      "{\n",
      "    \"config\": \"C:\\\\Users\\\\Nielsen\\\\Desktop\\\\tile2net\\\\tile2net-main\\\\src\\\\tile2net\\\\tileseg\\\\config.py\",\n",
      "    \"assets\": {\n",
      "        \"weights\": {\n",
      "            \"satellite_2021\": \"C:\\\\Users\\\\Nielsen\\\\Desktop\\\\tile2net\\\\tile2net-main\\\\src\\\\tile2net\\\\raster\\\\resources\\\\assets\\\\weights\\\\satellite_2021.pth\",\n",
      "            \"hrnetv2_w48_imagenet_pretrained\": \"C:\\\\Users\\\\Nielsen\\\\Desktop\\\\tile2net\\\\tile2net-main\\\\src\\\\tile2net\\\\raster\\\\resources\\\\assets\\\\weights\\\\hrnetv2_w48_imagenet_pretrained.pth\"\n",
      "        }\n",
      "    },\n",
      "    \"segmentation\": \"C:\\\\Users\\\\Nielsen\\\\AppData\\\\Local\\\\Temp\\\\tile2net\\\\Aarhus7\\\\segmentation\\\\Aarhus7\\\\256_20_1\",\n",
      "    \"tiles\": {\n",
      "        \"info\": \"C:\\\\Users\\\\Nielsen\\\\AppData\\\\Local\\\\Temp\\\\tile2net\\\\Aarhus7\\\\tiles\\\\Aarhus7_256_info.json\",\n",
      "        \"static\": \"..\\\\..\\\\ITUData/Google/tiles/Aarhus7/tiles/static/256_20\",\n",
      "        \"stitched\": \"C:\\\\Users\\\\Nielsen\\\\AppData\\\\Local\\\\Temp\\\\tile2net\\\\Aarhus7\\\\tiles\\\\stitched\\\\256_20_1\"\n",
      "    },\n",
      "    \"polygons\": \"C:\\\\Users\\\\Nielsen\\\\AppData\\\\Local\\\\Temp\\\\tile2net\\\\Aarhus7\\\\polygons\",\n",
      "    \"network\": \"C:\\\\Users\\\\Nielsen\\\\AppData\\\\Local\\\\Temp\\\\tile2net\\\\Aarhus7\\\\network\",\n",
      "    \"name\": \"Aarhus7\"\n",
      "}"
     ]
    }
   ],
   "source": [
    "#Stitching tiles \n",
    "raster.generate(1)"
   ]
  },
  {
   "cell_type": "code",
   "execution_count": 22,
   "metadata": {},
   "outputs": [
    {
     "name": "stderr",
     "output_type": "stream",
     "text": [
      "INFO       Running ['python', '-m', 'tile2net', 'inference', '--city_info', 'C:\\\\Users\\\\Nielsen\\\\AppData\\\\Local\\\\Temp\\\\tile2net\\\\Aarhus7\\\\tiles\\\\Aarhus7_256_info.json', '--interactive', '--dump_percent', '0']\n"
     ]
    }
   ],
   "source": [
    "#Segmentation\n",
    "raster.inference()"
   ]
  },
  {
   "cell_type": "markdown",
   "metadata": {},
   "source": [
    "### Aarhus Location 8"
   ]
  },
  {
   "cell_type": "code",
   "execution_count": 16,
   "metadata": {},
   "outputs": [],
   "source": [
    "#Defining bounding box\n",
    "min_lat = 56.15360096906168\n",
    "min_lon = 10.206846771775682\n",
    "max_lat = 56.15567952555418\n",
    "max_lon = 10.211953549016059\n",
    "location = f\"{min_lat}, {min_lon}, {max_lat}, {max_lon}\""
   ]
  },
  {
   "cell_type": "code",
   "execution_count": 17,
   "metadata": {},
   "outputs": [
    {
     "name": "stdout",
     "output_type": "stream",
     "text": [
      "{'x': 0}\n",
      "{}\n"
     ]
    },
    {
     "data": {
      "text/plain": [
       "Aarhus8 Data Constructor. \n",
       "Coordinate reference system (CRS): 4326 \n",
       "Tile size (pixel): 256 \n",
       "Zoom level: 20 \n",
       "Number of columns: 16 \n",
       "Number of rows: 11 \n",
       "Total tiles: 176 \n",
       "Number of tiles inside the boundary: 176 (100.0%) "
      ]
     },
     "execution_count": 17,
     "metadata": {},
     "output_type": "execute_result"
    }
   ],
   "source": [
    "#Creating raster object\n",
    "raster = Raster(\n",
    "    name=\"Aarhus8\",\n",
    "    location=location,\n",
    "    input_dir=r'..\\..\\ITUData/Google/tiles/Aarhus8/tiles/static/256_20/x_y.png',\n",
    "    zoom=20,\n",
    ")\n",
    "\n",
    "raster"
   ]
  },
  {
   "cell_type": "code",
   "execution_count": 18,
   "metadata": {},
   "outputs": [
    {
     "name": "stderr",
     "output_type": "stream",
     "text": [
      "INFO       Stitching 16 tiles...\n"
     ]
    },
    {
     "name": "stdout",
     "output_type": "stream",
     "text": [
      "list:infiles: [[WindowsPath('../../ITUData/Google/tiles/Aarhus8/tiles/static/256_20/554017_325714.png')], [WindowsPath('../../ITUData/Google/tiles/Aarhus8/tiles/static/256_20/554017_325715.png')], [WindowsPath('../../ITUData/Google/tiles/Aarhus8/tiles/static/256_20/554017_325716.png')], [WindowsPath('../../ITUData/Google/tiles/Aarhus8/tiles/static/256_20/554017_325717.png')], [WindowsPath('../../ITUData/Google/tiles/Aarhus8/tiles/static/256_20/554018_325707.png')], [WindowsPath('../../ITUData/Google/tiles/Aarhus8/tiles/static/256_20/554018_325708.png')], [WindowsPath('../../ITUData/Google/tiles/Aarhus8/tiles/static/256_20/554018_325709.png')], [WindowsPath('../../ITUData/Google/tiles/Aarhus8/tiles/static/256_20/554018_325710.png')], [WindowsPath('../../ITUData/Google/tiles/Aarhus8/tiles/static/256_20/554018_325711.png')], [WindowsPath('../../ITUData/Google/tiles/Aarhus8/tiles/static/256_20/554018_325712.png')], [WindowsPath('../../ITUData/Google/tiles/Aarhus8/tiles/static/256_20/554018_325713.png')], [WindowsPath('../../ITUData/Google/tiles/Aarhus8/tiles/static/256_20/554018_325714.png')], [WindowsPath('../../ITUData/Google/tiles/Aarhus8/tiles/static/256_20/554018_325715.png')], [WindowsPath('../../ITUData/Google/tiles/Aarhus8/tiles/static/256_20/554018_325716.png')], [WindowsPath('../../ITUData/Google/tiles/Aarhus8/tiles/static/256_20/554018_325717.png')], [WindowsPath('../../ITUData/Google/tiles/Aarhus8/tiles/static/256_20/554019_325707.png')], [WindowsPath('../../ITUData/Google/tiles/Aarhus8/tiles/static/256_20/554019_325708.png')], [WindowsPath('../../ITUData/Google/tiles/Aarhus8/tiles/static/256_20/554019_325709.png')], [WindowsPath('../../ITUData/Google/tiles/Aarhus8/tiles/static/256_20/554019_325710.png')], [WindowsPath('../../ITUData/Google/tiles/Aarhus8/tiles/static/256_20/554019_325711.png')], [WindowsPath('../../ITUData/Google/tiles/Aarhus8/tiles/static/256_20/554019_325712.png')], [WindowsPath('../../ITUData/Google/tiles/Aarhus8/tiles/static/256_20/554019_325713.png')], [WindowsPath('../../ITUData/Google/tiles/Aarhus8/tiles/static/256_20/554019_325714.png')], [WindowsPath('../../ITUData/Google/tiles/Aarhus8/tiles/static/256_20/554019_325715.png')], [WindowsPath('../../ITUData/Google/tiles/Aarhus8/tiles/static/256_20/554019_325716.png')], [WindowsPath('../../ITUData/Google/tiles/Aarhus8/tiles/static/256_20/554019_325717.png')], [WindowsPath('../../ITUData/Google/tiles/Aarhus8/tiles/static/256_20/554020_325707.png')], [WindowsPath('../../ITUData/Google/tiles/Aarhus8/tiles/static/256_20/554020_325708.png')], [WindowsPath('../../ITUData/Google/tiles/Aarhus8/tiles/static/256_20/554020_325709.png')], [WindowsPath('../../ITUData/Google/tiles/Aarhus8/tiles/static/256_20/554020_325710.png')], [WindowsPath('../../ITUData/Google/tiles/Aarhus8/tiles/static/256_20/554020_325711.png')], [WindowsPath('../../ITUData/Google/tiles/Aarhus8/tiles/static/256_20/554020_325712.png')], [WindowsPath('../../ITUData/Google/tiles/Aarhus8/tiles/static/256_20/554020_325713.png')], [WindowsPath('../../ITUData/Google/tiles/Aarhus8/tiles/static/256_20/554020_325714.png')], [WindowsPath('../../ITUData/Google/tiles/Aarhus8/tiles/static/256_20/554020_325715.png')], [WindowsPath('../../ITUData/Google/tiles/Aarhus8/tiles/static/256_20/554020_325716.png')], [WindowsPath('../../ITUData/Google/tiles/Aarhus8/tiles/static/256_20/554020_325717.png')], [WindowsPath('../../ITUData/Google/tiles/Aarhus8/tiles/static/256_20/554021_325707.png')], [WindowsPath('../../ITUData/Google/tiles/Aarhus8/tiles/static/256_20/554021_325708.png')], [WindowsPath('../../ITUData/Google/tiles/Aarhus8/tiles/static/256_20/554021_325709.png')], [WindowsPath('../../ITUData/Google/tiles/Aarhus8/tiles/static/256_20/554021_325710.png')], [WindowsPath('../../ITUData/Google/tiles/Aarhus8/tiles/static/256_20/554021_325711.png')], [WindowsPath('../../ITUData/Google/tiles/Aarhus8/tiles/static/256_20/554021_325712.png')], [WindowsPath('../../ITUData/Google/tiles/Aarhus8/tiles/static/256_20/554021_325713.png')], [WindowsPath('../../ITUData/Google/tiles/Aarhus8/tiles/static/256_20/554021_325714.png')], [WindowsPath('../../ITUData/Google/tiles/Aarhus8/tiles/static/256_20/554021_325715.png')], [WindowsPath('../../ITUData/Google/tiles/Aarhus8/tiles/static/256_20/554021_325716.png')], [WindowsPath('../../ITUData/Google/tiles/Aarhus8/tiles/static/256_20/554021_325717.png')], [WindowsPath('../../ITUData/Google/tiles/Aarhus8/tiles/static/256_20/554022_325707.png')], [WindowsPath('../../ITUData/Google/tiles/Aarhus8/tiles/static/256_20/554022_325708.png')], [WindowsPath('../../ITUData/Google/tiles/Aarhus8/tiles/static/256_20/554022_325709.png')], [WindowsPath('../../ITUData/Google/tiles/Aarhus8/tiles/static/256_20/554022_325710.png')], [WindowsPath('../../ITUData/Google/tiles/Aarhus8/tiles/static/256_20/554022_325711.png')], [WindowsPath('../../ITUData/Google/tiles/Aarhus8/tiles/static/256_20/554022_325712.png')], [WindowsPath('../../ITUData/Google/tiles/Aarhus8/tiles/static/256_20/554022_325713.png')], [WindowsPath('../../ITUData/Google/tiles/Aarhus8/tiles/static/256_20/554022_325714.png')], [WindowsPath('../../ITUData/Google/tiles/Aarhus8/tiles/static/256_20/554022_325715.png')], [WindowsPath('../../ITUData/Google/tiles/Aarhus8/tiles/static/256_20/554022_325716.png')], [WindowsPath('../../ITUData/Google/tiles/Aarhus8/tiles/static/256_20/554022_325717.png')], [WindowsPath('../../ITUData/Google/tiles/Aarhus8/tiles/static/256_20/554023_325707.png')], [WindowsPath('../../ITUData/Google/tiles/Aarhus8/tiles/static/256_20/554023_325708.png')], [WindowsPath('../../ITUData/Google/tiles/Aarhus8/tiles/static/256_20/554023_325709.png')], [WindowsPath('../../ITUData/Google/tiles/Aarhus8/tiles/static/256_20/554023_325710.png')], [WindowsPath('../../ITUData/Google/tiles/Aarhus8/tiles/static/256_20/554023_325711.png')], [WindowsPath('../../ITUData/Google/tiles/Aarhus8/tiles/static/256_20/554023_325712.png')], [WindowsPath('../../ITUData/Google/tiles/Aarhus8/tiles/static/256_20/554023_325713.png')], [WindowsPath('../../ITUData/Google/tiles/Aarhus8/tiles/static/256_20/554023_325714.png')], [WindowsPath('../../ITUData/Google/tiles/Aarhus8/tiles/static/256_20/554023_325715.png')], [WindowsPath('../../ITUData/Google/tiles/Aarhus8/tiles/static/256_20/554023_325716.png')], [WindowsPath('../../ITUData/Google/tiles/Aarhus8/tiles/static/256_20/554023_325717.png')], [WindowsPath('../../ITUData/Google/tiles/Aarhus8/tiles/static/256_20/554024_325707.png')], [WindowsPath('../../ITUData/Google/tiles/Aarhus8/tiles/static/256_20/554024_325708.png')], [WindowsPath('../../ITUData/Google/tiles/Aarhus8/tiles/static/256_20/554024_325709.png')], [WindowsPath('../../ITUData/Google/tiles/Aarhus8/tiles/static/256_20/554024_325710.png')], [WindowsPath('../../ITUData/Google/tiles/Aarhus8/tiles/static/256_20/554024_325711.png')], [WindowsPath('../../ITUData/Google/tiles/Aarhus8/tiles/static/256_20/554024_325712.png')], [WindowsPath('../../ITUData/Google/tiles/Aarhus8/tiles/static/256_20/554024_325713.png')], [WindowsPath('../../ITUData/Google/tiles/Aarhus8/tiles/static/256_20/554024_325714.png')], [WindowsPath('../../ITUData/Google/tiles/Aarhus8/tiles/static/256_20/554024_325715.png')], [WindowsPath('../../ITUData/Google/tiles/Aarhus8/tiles/static/256_20/554024_325716.png')], [WindowsPath('../../ITUData/Google/tiles/Aarhus8/tiles/static/256_20/554024_325717.png')], [WindowsPath('../../ITUData/Google/tiles/Aarhus8/tiles/static/256_20/554025_325707.png')], [WindowsPath('../../ITUData/Google/tiles/Aarhus8/tiles/static/256_20/554025_325708.png')], [WindowsPath('../../ITUData/Google/tiles/Aarhus8/tiles/static/256_20/554025_325709.png')], [WindowsPath('../../ITUData/Google/tiles/Aarhus8/tiles/static/256_20/554025_325710.png')], [WindowsPath('../../ITUData/Google/tiles/Aarhus8/tiles/static/256_20/554025_325711.png')], [WindowsPath('../../ITUData/Google/tiles/Aarhus8/tiles/static/256_20/554025_325712.png')], [WindowsPath('../../ITUData/Google/tiles/Aarhus8/tiles/static/256_20/554025_325713.png')], [WindowsPath('../../ITUData/Google/tiles/Aarhus8/tiles/static/256_20/554025_325714.png')], [WindowsPath('../../ITUData/Google/tiles/Aarhus8/tiles/static/256_20/554025_325715.png')], [WindowsPath('../../ITUData/Google/tiles/Aarhus8/tiles/static/256_20/554025_325716.png')], [WindowsPath('../../ITUData/Google/tiles/Aarhus8/tiles/static/256_20/554025_325717.png')], [WindowsPath('../../ITUData/Google/tiles/Aarhus8/tiles/static/256_20/554026_325707.png')], [WindowsPath('../../ITUData/Google/tiles/Aarhus8/tiles/static/256_20/554026_325708.png')], [WindowsPath('../../ITUData/Google/tiles/Aarhus8/tiles/static/256_20/554026_325709.png')], [WindowsPath('../../ITUData/Google/tiles/Aarhus8/tiles/static/256_20/554026_325710.png')], [WindowsPath('../../ITUData/Google/tiles/Aarhus8/tiles/static/256_20/554026_325711.png')], [WindowsPath('../../ITUData/Google/tiles/Aarhus8/tiles/static/256_20/554026_325712.png')], [WindowsPath('../../ITUData/Google/tiles/Aarhus8/tiles/static/256_20/554026_325713.png')], [WindowsPath('../../ITUData/Google/tiles/Aarhus8/tiles/static/256_20/554026_325714.png')], [WindowsPath('../../ITUData/Google/tiles/Aarhus8/tiles/static/256_20/554026_325715.png')], [WindowsPath('../../ITUData/Google/tiles/Aarhus8/tiles/static/256_20/554026_325716.png')], [WindowsPath('../../ITUData/Google/tiles/Aarhus8/tiles/static/256_20/554026_325717.png')], [WindowsPath('../../ITUData/Google/tiles/Aarhus8/tiles/static/256_20/554027_325707.png')], [WindowsPath('../../ITUData/Google/tiles/Aarhus8/tiles/static/256_20/554027_325708.png')], [WindowsPath('../../ITUData/Google/tiles/Aarhus8/tiles/static/256_20/554027_325709.png')], [WindowsPath('../../ITUData/Google/tiles/Aarhus8/tiles/static/256_20/554027_325710.png')], [WindowsPath('../../ITUData/Google/tiles/Aarhus8/tiles/static/256_20/554027_325711.png')], [WindowsPath('../../ITUData/Google/tiles/Aarhus8/tiles/static/256_20/554027_325712.png')], [WindowsPath('../../ITUData/Google/tiles/Aarhus8/tiles/static/256_20/554027_325713.png')], [WindowsPath('../../ITUData/Google/tiles/Aarhus8/tiles/static/256_20/554027_325714.png')], [WindowsPath('../../ITUData/Google/tiles/Aarhus8/tiles/static/256_20/554027_325715.png')], [WindowsPath('../../ITUData/Google/tiles/Aarhus8/tiles/static/256_20/554027_325716.png')], [WindowsPath('../../ITUData/Google/tiles/Aarhus8/tiles/static/256_20/554027_325717.png')], [WindowsPath('../../ITUData/Google/tiles/Aarhus8/tiles/static/256_20/554028_325707.png')], [WindowsPath('../../ITUData/Google/tiles/Aarhus8/tiles/static/256_20/554028_325708.png')], [WindowsPath('../../ITUData/Google/tiles/Aarhus8/tiles/static/256_20/554028_325709.png')], [WindowsPath('../../ITUData/Google/tiles/Aarhus8/tiles/static/256_20/554028_325710.png')], [WindowsPath('../../ITUData/Google/tiles/Aarhus8/tiles/static/256_20/554028_325711.png')], [WindowsPath('../../ITUData/Google/tiles/Aarhus8/tiles/static/256_20/554028_325712.png')], [WindowsPath('../../ITUData/Google/tiles/Aarhus8/tiles/static/256_20/554028_325713.png')], [WindowsPath('../../ITUData/Google/tiles/Aarhus8/tiles/static/256_20/554028_325714.png')], [WindowsPath('../../ITUData/Google/tiles/Aarhus8/tiles/static/256_20/554028_325715.png')], [WindowsPath('../../ITUData/Google/tiles/Aarhus8/tiles/static/256_20/554028_325716.png')], [WindowsPath('../../ITUData/Google/tiles/Aarhus8/tiles/static/256_20/554028_325717.png')], [WindowsPath('../../ITUData/Google/tiles/Aarhus8/tiles/static/256_20/554029_325707.png')], [WindowsPath('../../ITUData/Google/tiles/Aarhus8/tiles/static/256_20/554029_325708.png')], [WindowsPath('../../ITUData/Google/tiles/Aarhus8/tiles/static/256_20/554029_325709.png')], [WindowsPath('../../ITUData/Google/tiles/Aarhus8/tiles/static/256_20/554029_325710.png')], [WindowsPath('../../ITUData/Google/tiles/Aarhus8/tiles/static/256_20/554029_325711.png')], [WindowsPath('../../ITUData/Google/tiles/Aarhus8/tiles/static/256_20/554029_325712.png')], [WindowsPath('../../ITUData/Google/tiles/Aarhus8/tiles/static/256_20/554029_325713.png')], [WindowsPath('../../ITUData/Google/tiles/Aarhus8/tiles/static/256_20/554029_325714.png')], [WindowsPath('../../ITUData/Google/tiles/Aarhus8/tiles/static/256_20/554029_325715.png')], [WindowsPath('../../ITUData/Google/tiles/Aarhus8/tiles/static/256_20/554029_325716.png')], [WindowsPath('../../ITUData/Google/tiles/Aarhus8/tiles/static/256_20/554029_325717.png')], [WindowsPath('../../ITUData/Google/tiles/Aarhus8/tiles/static/256_20/554030_325707.png')], [WindowsPath('../../ITUData/Google/tiles/Aarhus8/tiles/static/256_20/554030_325708.png')], [WindowsPath('../../ITUData/Google/tiles/Aarhus8/tiles/static/256_20/554030_325709.png')], [WindowsPath('../../ITUData/Google/tiles/Aarhus8/tiles/static/256_20/554030_325710.png')], [WindowsPath('../../ITUData/Google/tiles/Aarhus8/tiles/static/256_20/554030_325711.png')], [WindowsPath('../../ITUData/Google/tiles/Aarhus8/tiles/static/256_20/554030_325712.png')], [WindowsPath('../../ITUData/Google/tiles/Aarhus8/tiles/static/256_20/554030_325713.png')], [WindowsPath('../../ITUData/Google/tiles/Aarhus8/tiles/static/256_20/554030_325714.png')], [WindowsPath('../../ITUData/Google/tiles/Aarhus8/tiles/static/256_20/554030_325715.png')], [WindowsPath('../../ITUData/Google/tiles/Aarhus8/tiles/static/256_20/554030_325716.png')], [WindowsPath('../../ITUData/Google/tiles/Aarhus8/tiles/static/256_20/554030_325717.png')], [WindowsPath('../../ITUData/Google/tiles/Aarhus8/tiles/static/256_20/554031_325707.png')], [WindowsPath('../../ITUData/Google/tiles/Aarhus8/tiles/static/256_20/554031_325708.png')], [WindowsPath('../../ITUData/Google/tiles/Aarhus8/tiles/static/256_20/554031_325709.png')], [WindowsPath('../../ITUData/Google/tiles/Aarhus8/tiles/static/256_20/554031_325710.png')], [WindowsPath('../../ITUData/Google/tiles/Aarhus8/tiles/static/256_20/554031_325711.png')], [WindowsPath('../../ITUData/Google/tiles/Aarhus8/tiles/static/256_20/554031_325712.png')], [WindowsPath('../../ITUData/Google/tiles/Aarhus8/tiles/static/256_20/554031_325713.png')], [WindowsPath('../../ITUData/Google/tiles/Aarhus8/tiles/static/256_20/554031_325714.png')], [WindowsPath('../../ITUData/Google/tiles/Aarhus8/tiles/static/256_20/554031_325715.png')], [WindowsPath('../../ITUData/Google/tiles/Aarhus8/tiles/static/256_20/554031_325716.png')], [WindowsPath('../../ITUData/Google/tiles/Aarhus8/tiles/static/256_20/554031_325717.png')], [WindowsPath('../../ITUData/Google/tiles/Aarhus8/tiles/static/256_20/554032_325707.png')], [WindowsPath('../../ITUData/Google/tiles/Aarhus8/tiles/static/256_20/554032_325708.png')], [WindowsPath('../../ITUData/Google/tiles/Aarhus8/tiles/static/256_20/554032_325709.png')], [WindowsPath('../../ITUData/Google/tiles/Aarhus8/tiles/static/256_20/554032_325710.png')], [WindowsPath('../../ITUData/Google/tiles/Aarhus8/tiles/static/256_20/554032_325711.png')], [WindowsPath('../../ITUData/Google/tiles/Aarhus8/tiles/static/256_20/554032_325712.png')], [WindowsPath('../../ITUData/Google/tiles/Aarhus8/tiles/static/256_20/554032_325713.png')], [WindowsPath('../../ITUData/Google/tiles/Aarhus8/tiles/static/256_20/554032_325714.png')], [WindowsPath('../../ITUData/Google/tiles/Aarhus8/tiles/static/256_20/554032_325715.png')], [WindowsPath('../../ITUData/Google/tiles/Aarhus8/tiles/static/256_20/554032_325716.png')], [WindowsPath('../../ITUData/Google/tiles/Aarhus8/tiles/static/256_20/554032_325717.png')]]\n"
     ]
    },
    {
     "name": "stderr",
     "output_type": "stream",
     "text": [
      "           Stitching 169 tiles...                 : 100%|██████████| 169/169 [00:02<00:00, 72.70it/s]\n",
      "INFO       Dumping to C:\\Users\\Nielsen\\AppData\\Local\\Temp\\tile2net\\Aarhus8\\tiles\\Aarhus8_256_info.json\n"
     ]
    },
    {
     "name": "stdout",
     "output_type": "stream",
     "text": [
      "{\n",
      "    \"config\": \"C:\\\\Users\\\\Nielsen\\\\Desktop\\\\tile2net\\\\tile2net-main\\\\src\\\\tile2net\\\\tileseg\\\\config.py\",\n",
      "    \"assets\": {\n",
      "        \"weights\": {\n",
      "            \"satellite_2021\": \"C:\\\\Users\\\\Nielsen\\\\Desktop\\\\tile2net\\\\tile2net-main\\\\src\\\\tile2net\\\\raster\\\\resources\\\\assets\\\\weights\\\\satellite_2021.pth\",\n",
      "            \"hrnetv2_w48_imagenet_pretrained\": \"C:\\\\Users\\\\Nielsen\\\\Desktop\\\\tile2net\\\\tile2net-main\\\\src\\\\tile2net\\\\raster\\\\resources\\\\assets\\\\weights\\\\hrnetv2_w48_imagenet_pretrained.pth\"\n",
      "        }\n",
      "    },\n",
      "    \"segmentation\": \"C:\\\\Users\\\\Nielsen\\\\AppData\\\\Local\\\\Temp\\\\tile2net\\\\Aarhus8\\\\segmentation\\\\Aarhus8\\\\256_20_1\",\n",
      "    \"tiles\": {\n",
      "        \"info\": \"C:\\\\Users\\\\Nielsen\\\\AppData\\\\Local\\\\Temp\\\\tile2net\\\\Aarhus8\\\\tiles\\\\Aarhus8_256_info.json\",\n",
      "        \"static\": \"..\\\\..\\\\ITUData/Google/tiles/Aarhus8/tiles/static/256_20\",\n",
      "        \"stitched\": \"C:\\\\Users\\\\Nielsen\\\\AppData\\\\Local\\\\Temp\\\\tile2net\\\\Aarhus8\\\\tiles\\\\stitched\\\\256_20_1\"\n",
      "    },\n",
      "    \"polygons\": \"C:\\\\Users\\\\Nielsen\\\\AppData\\\\Local\\\\Temp\\\\tile2net\\\\Aarhus8\\\\polygons\",\n",
      "    \"network\": \"C:\\\\Users\\\\Nielsen\\\\AppData\\\\Local\\\\Temp\\\\tile2net\\\\Aarhus8\\\\network\",\n",
      "    \"name\": \"Aarhus8\"\n",
      "}"
     ]
    }
   ],
   "source": [
    "#Stitching tiles \n",
    "raster.generate(1)"
   ]
  },
  {
   "cell_type": "code",
   "execution_count": 19,
   "metadata": {},
   "outputs": [
    {
     "name": "stderr",
     "output_type": "stream",
     "text": [
      "INFO       Running ['python', '-m', 'tile2net', 'inference', '--city_info', 'C:\\\\Users\\\\Nielsen\\\\AppData\\\\Local\\\\Temp\\\\tile2net\\\\Aarhus8\\\\tiles\\\\Aarhus8_256_info.json', '--interactive', '--dump_percent', '0']\n"
     ]
    }
   ],
   "source": [
    "#Segmentation\n",
    "raster.inference()"
   ]
  },
  {
   "cell_type": "markdown",
   "metadata": {},
   "source": [
    "### Aarhus Location 9"
   ]
  },
  {
   "cell_type": "code",
   "execution_count": 27,
   "metadata": {},
   "outputs": [],
   "source": [
    "#Defining bounding box\n",
    "min_lat = 56.160607081288674\n",
    "min_lon = 10.187318637760086\n",
    "max_lat = 56.16451973269344\n",
    "max_lon = 10.191431201754146\n",
    "location = f\"{min_lat}, {min_lon}, {max_lat}, {max_lon}\""
   ]
  },
  {
   "cell_type": "code",
   "execution_count": 28,
   "metadata": {},
   "outputs": [
    {
     "name": "stdout",
     "output_type": "stream",
     "text": [
      "{'x': 0}\n",
      "{}\n"
     ]
    },
    {
     "data": {
      "text/plain": [
       "Aarhus9 Data Constructor. \n",
       "Coordinate reference system (CRS): 4326 \n",
       "Tile size (pixel): 256 \n",
       "Zoom level: 20 \n",
       "Number of columns: 13 \n",
       "Number of rows: 22 \n",
       "Total tiles: 286 \n",
       "Number of tiles inside the boundary: 286 (100.0%) "
      ]
     },
     "execution_count": 28,
     "metadata": {},
     "output_type": "execute_result"
    }
   ],
   "source": [
    "#Creating raster object\n",
    "raster = Raster(\n",
    "    name=\"Aarhus9\",\n",
    "    location=location,\n",
    "    input_dir=r'..\\..\\ITUData/Google/tiles/Aarhus9/tiles/static/256_20/x_y.png',\n",
    "    zoom=20,\n",
    ")\n",
    "\n",
    "raster"
   ]
  },
  {
   "cell_type": "code",
   "execution_count": 29,
   "metadata": {},
   "outputs": [
    {
     "name": "stderr",
     "output_type": "stream",
     "text": [
      "INFO       Stitching 13 tiles...\n"
     ]
    },
    {
     "name": "stdout",
     "output_type": "stream",
     "text": [
      "list:infiles: [[WindowsPath('../../ITUData/Google/tiles/Aarhus9/tiles/static/256_20/553960_325660.png')], [WindowsPath('../../ITUData/Google/tiles/Aarhus9/tiles/static/256_20/553960_325661.png')], [WindowsPath('../../ITUData/Google/tiles/Aarhus9/tiles/static/256_20/553960_325662.png')], [WindowsPath('../../ITUData/Google/tiles/Aarhus9/tiles/static/256_20/553960_325663.png')], [WindowsPath('../../ITUData/Google/tiles/Aarhus9/tiles/static/256_20/553960_325664.png')], [WindowsPath('../../ITUData/Google/tiles/Aarhus9/tiles/static/256_20/553960_325665.png')], [WindowsPath('../../ITUData/Google/tiles/Aarhus9/tiles/static/256_20/553960_325666.png')], [WindowsPath('../../ITUData/Google/tiles/Aarhus9/tiles/static/256_20/553960_325667.png')], [WindowsPath('../../ITUData/Google/tiles/Aarhus9/tiles/static/256_20/553960_325668.png')], [WindowsPath('../../ITUData/Google/tiles/Aarhus9/tiles/static/256_20/553960_325669.png')], [WindowsPath('../../ITUData/Google/tiles/Aarhus9/tiles/static/256_20/553960_325670.png')], [WindowsPath('../../ITUData/Google/tiles/Aarhus9/tiles/static/256_20/553960_325671.png')], [WindowsPath('../../ITUData/Google/tiles/Aarhus9/tiles/static/256_20/553960_325672.png')], [WindowsPath('../../ITUData/Google/tiles/Aarhus9/tiles/static/256_20/553960_325673.png')], [WindowsPath('../../ITUData/Google/tiles/Aarhus9/tiles/static/256_20/553960_325674.png')], [WindowsPath('../../ITUData/Google/tiles/Aarhus9/tiles/static/256_20/553960_325675.png')], [WindowsPath('../../ITUData/Google/tiles/Aarhus9/tiles/static/256_20/553960_325676.png')], [WindowsPath('../../ITUData/Google/tiles/Aarhus9/tiles/static/256_20/553960_325677.png')], [WindowsPath('../../ITUData/Google/tiles/Aarhus9/tiles/static/256_20/553960_325678.png')], [WindowsPath('../../ITUData/Google/tiles/Aarhus9/tiles/static/256_20/553960_325679.png')], [WindowsPath('../../ITUData/Google/tiles/Aarhus9/tiles/static/256_20/553960_325680.png')], [WindowsPath('../../ITUData/Google/tiles/Aarhus9/tiles/static/256_20/553960_325681.png')], [WindowsPath('../../ITUData/Google/tiles/Aarhus9/tiles/static/256_20/553961_325660.png')], [WindowsPath('../../ITUData/Google/tiles/Aarhus9/tiles/static/256_20/553961_325661.png')], [WindowsPath('../../ITUData/Google/tiles/Aarhus9/tiles/static/256_20/553961_325662.png')], [WindowsPath('../../ITUData/Google/tiles/Aarhus9/tiles/static/256_20/553961_325663.png')], [WindowsPath('../../ITUData/Google/tiles/Aarhus9/tiles/static/256_20/553961_325664.png')], [WindowsPath('../../ITUData/Google/tiles/Aarhus9/tiles/static/256_20/553961_325665.png')], [WindowsPath('../../ITUData/Google/tiles/Aarhus9/tiles/static/256_20/553961_325666.png')], [WindowsPath('../../ITUData/Google/tiles/Aarhus9/tiles/static/256_20/553961_325667.png')], [WindowsPath('../../ITUData/Google/tiles/Aarhus9/tiles/static/256_20/553961_325668.png')], [WindowsPath('../../ITUData/Google/tiles/Aarhus9/tiles/static/256_20/553961_325669.png')], [WindowsPath('../../ITUData/Google/tiles/Aarhus9/tiles/static/256_20/553961_325670.png')], [WindowsPath('../../ITUData/Google/tiles/Aarhus9/tiles/static/256_20/553961_325671.png')], [WindowsPath('../../ITUData/Google/tiles/Aarhus9/tiles/static/256_20/553961_325672.png')], [WindowsPath('../../ITUData/Google/tiles/Aarhus9/tiles/static/256_20/553961_325673.png')], [WindowsPath('../../ITUData/Google/tiles/Aarhus9/tiles/static/256_20/553961_325674.png')], [WindowsPath('../../ITUData/Google/tiles/Aarhus9/tiles/static/256_20/553961_325675.png')], [WindowsPath('../../ITUData/Google/tiles/Aarhus9/tiles/static/256_20/553961_325676.png')], [WindowsPath('../../ITUData/Google/tiles/Aarhus9/tiles/static/256_20/553961_325677.png')], [WindowsPath('../../ITUData/Google/tiles/Aarhus9/tiles/static/256_20/553961_325678.png')], [WindowsPath('../../ITUData/Google/tiles/Aarhus9/tiles/static/256_20/553961_325679.png')], [WindowsPath('../../ITUData/Google/tiles/Aarhus9/tiles/static/256_20/553961_325680.png')], [WindowsPath('../../ITUData/Google/tiles/Aarhus9/tiles/static/256_20/553961_325681.png')], [WindowsPath('../../ITUData/Google/tiles/Aarhus9/tiles/static/256_20/553962_325660.png')], [WindowsPath('../../ITUData/Google/tiles/Aarhus9/tiles/static/256_20/553962_325661.png')], [WindowsPath('../../ITUData/Google/tiles/Aarhus9/tiles/static/256_20/553962_325662.png')], [WindowsPath('../../ITUData/Google/tiles/Aarhus9/tiles/static/256_20/553962_325663.png')], [WindowsPath('../../ITUData/Google/tiles/Aarhus9/tiles/static/256_20/553962_325664.png')], [WindowsPath('../../ITUData/Google/tiles/Aarhus9/tiles/static/256_20/553962_325665.png')], [WindowsPath('../../ITUData/Google/tiles/Aarhus9/tiles/static/256_20/553962_325666.png')], [WindowsPath('../../ITUData/Google/tiles/Aarhus9/tiles/static/256_20/553962_325667.png')], [WindowsPath('../../ITUData/Google/tiles/Aarhus9/tiles/static/256_20/553962_325668.png')], [WindowsPath('../../ITUData/Google/tiles/Aarhus9/tiles/static/256_20/553962_325669.png')], [WindowsPath('../../ITUData/Google/tiles/Aarhus9/tiles/static/256_20/553962_325670.png')], [WindowsPath('../../ITUData/Google/tiles/Aarhus9/tiles/static/256_20/553962_325671.png')], [WindowsPath('../../ITUData/Google/tiles/Aarhus9/tiles/static/256_20/553962_325672.png')], [WindowsPath('../../ITUData/Google/tiles/Aarhus9/tiles/static/256_20/553962_325673.png')], [WindowsPath('../../ITUData/Google/tiles/Aarhus9/tiles/static/256_20/553962_325674.png')], [WindowsPath('../../ITUData/Google/tiles/Aarhus9/tiles/static/256_20/553962_325675.png')], [WindowsPath('../../ITUData/Google/tiles/Aarhus9/tiles/static/256_20/553962_325676.png')], [WindowsPath('../../ITUData/Google/tiles/Aarhus9/tiles/static/256_20/553962_325677.png')], [WindowsPath('../../ITUData/Google/tiles/Aarhus9/tiles/static/256_20/553962_325678.png')], [WindowsPath('../../ITUData/Google/tiles/Aarhus9/tiles/static/256_20/553962_325679.png')], [WindowsPath('../../ITUData/Google/tiles/Aarhus9/tiles/static/256_20/553962_325680.png')], [WindowsPath('../../ITUData/Google/tiles/Aarhus9/tiles/static/256_20/553962_325681.png')], [WindowsPath('../../ITUData/Google/tiles/Aarhus9/tiles/static/256_20/553963_325660.png')], [WindowsPath('../../ITUData/Google/tiles/Aarhus9/tiles/static/256_20/553963_325661.png')], [WindowsPath('../../ITUData/Google/tiles/Aarhus9/tiles/static/256_20/553963_325662.png')], [WindowsPath('../../ITUData/Google/tiles/Aarhus9/tiles/static/256_20/553963_325663.png')], [WindowsPath('../../ITUData/Google/tiles/Aarhus9/tiles/static/256_20/553963_325664.png')], [WindowsPath('../../ITUData/Google/tiles/Aarhus9/tiles/static/256_20/553963_325665.png')], [WindowsPath('../../ITUData/Google/tiles/Aarhus9/tiles/static/256_20/553963_325666.png')], [WindowsPath('../../ITUData/Google/tiles/Aarhus9/tiles/static/256_20/553963_325667.png')], [WindowsPath('../../ITUData/Google/tiles/Aarhus9/tiles/static/256_20/553963_325668.png')], [WindowsPath('../../ITUData/Google/tiles/Aarhus9/tiles/static/256_20/553963_325669.png')], [WindowsPath('../../ITUData/Google/tiles/Aarhus9/tiles/static/256_20/553963_325670.png')], [WindowsPath('../../ITUData/Google/tiles/Aarhus9/tiles/static/256_20/553963_325671.png')], [WindowsPath('../../ITUData/Google/tiles/Aarhus9/tiles/static/256_20/553963_325672.png')], [WindowsPath('../../ITUData/Google/tiles/Aarhus9/tiles/static/256_20/553963_325673.png')], [WindowsPath('../../ITUData/Google/tiles/Aarhus9/tiles/static/256_20/553963_325674.png')], [WindowsPath('../../ITUData/Google/tiles/Aarhus9/tiles/static/256_20/553963_325675.png')], [WindowsPath('../../ITUData/Google/tiles/Aarhus9/tiles/static/256_20/553963_325676.png')], [WindowsPath('../../ITUData/Google/tiles/Aarhus9/tiles/static/256_20/553963_325677.png')], [WindowsPath('../../ITUData/Google/tiles/Aarhus9/tiles/static/256_20/553963_325678.png')], [WindowsPath('../../ITUData/Google/tiles/Aarhus9/tiles/static/256_20/553963_325679.png')], [WindowsPath('../../ITUData/Google/tiles/Aarhus9/tiles/static/256_20/553963_325680.png')], [WindowsPath('../../ITUData/Google/tiles/Aarhus9/tiles/static/256_20/553963_325681.png')], [WindowsPath('../../ITUData/Google/tiles/Aarhus9/tiles/static/256_20/553964_325660.png')], [WindowsPath('../../ITUData/Google/tiles/Aarhus9/tiles/static/256_20/553964_325661.png')], [WindowsPath('../../ITUData/Google/tiles/Aarhus9/tiles/static/256_20/553964_325662.png')], [WindowsPath('../../ITUData/Google/tiles/Aarhus9/tiles/static/256_20/553964_325663.png')], [WindowsPath('../../ITUData/Google/tiles/Aarhus9/tiles/static/256_20/553964_325664.png')], [WindowsPath('../../ITUData/Google/tiles/Aarhus9/tiles/static/256_20/553964_325665.png')], [WindowsPath('../../ITUData/Google/tiles/Aarhus9/tiles/static/256_20/553964_325666.png')], [WindowsPath('../../ITUData/Google/tiles/Aarhus9/tiles/static/256_20/553964_325667.png')], [WindowsPath('../../ITUData/Google/tiles/Aarhus9/tiles/static/256_20/553964_325668.png')], [WindowsPath('../../ITUData/Google/tiles/Aarhus9/tiles/static/256_20/553964_325669.png')], [WindowsPath('../../ITUData/Google/tiles/Aarhus9/tiles/static/256_20/553964_325670.png')], [WindowsPath('../../ITUData/Google/tiles/Aarhus9/tiles/static/256_20/553964_325671.png')], [WindowsPath('../../ITUData/Google/tiles/Aarhus9/tiles/static/256_20/553964_325672.png')], [WindowsPath('../../ITUData/Google/tiles/Aarhus9/tiles/static/256_20/553964_325673.png')], [WindowsPath('../../ITUData/Google/tiles/Aarhus9/tiles/static/256_20/553964_325674.png')], [WindowsPath('../../ITUData/Google/tiles/Aarhus9/tiles/static/256_20/553964_325675.png')], [WindowsPath('../../ITUData/Google/tiles/Aarhus9/tiles/static/256_20/553964_325676.png')], [WindowsPath('../../ITUData/Google/tiles/Aarhus9/tiles/static/256_20/553964_325677.png')], [WindowsPath('../../ITUData/Google/tiles/Aarhus9/tiles/static/256_20/553964_325678.png')], [WindowsPath('../../ITUData/Google/tiles/Aarhus9/tiles/static/256_20/553964_325679.png')], [WindowsPath('../../ITUData/Google/tiles/Aarhus9/tiles/static/256_20/553964_325680.png')], [WindowsPath('../../ITUData/Google/tiles/Aarhus9/tiles/static/256_20/553964_325681.png')], [WindowsPath('../../ITUData/Google/tiles/Aarhus9/tiles/static/256_20/553965_325660.png')], [WindowsPath('../../ITUData/Google/tiles/Aarhus9/tiles/static/256_20/553965_325661.png')], [WindowsPath('../../ITUData/Google/tiles/Aarhus9/tiles/static/256_20/553965_325662.png')], [WindowsPath('../../ITUData/Google/tiles/Aarhus9/tiles/static/256_20/553965_325663.png')], [WindowsPath('../../ITUData/Google/tiles/Aarhus9/tiles/static/256_20/553965_325664.png')], [WindowsPath('../../ITUData/Google/tiles/Aarhus9/tiles/static/256_20/553965_325665.png')], [WindowsPath('../../ITUData/Google/tiles/Aarhus9/tiles/static/256_20/553965_325666.png')], [WindowsPath('../../ITUData/Google/tiles/Aarhus9/tiles/static/256_20/553965_325667.png')], [WindowsPath('../../ITUData/Google/tiles/Aarhus9/tiles/static/256_20/553965_325668.png')], [WindowsPath('../../ITUData/Google/tiles/Aarhus9/tiles/static/256_20/553965_325669.png')], [WindowsPath('../../ITUData/Google/tiles/Aarhus9/tiles/static/256_20/553965_325670.png')], [WindowsPath('../../ITUData/Google/tiles/Aarhus9/tiles/static/256_20/553965_325671.png')], [WindowsPath('../../ITUData/Google/tiles/Aarhus9/tiles/static/256_20/553965_325672.png')], [WindowsPath('../../ITUData/Google/tiles/Aarhus9/tiles/static/256_20/553965_325673.png')], [WindowsPath('../../ITUData/Google/tiles/Aarhus9/tiles/static/256_20/553965_325674.png')], [WindowsPath('../../ITUData/Google/tiles/Aarhus9/tiles/static/256_20/553965_325675.png')], [WindowsPath('../../ITUData/Google/tiles/Aarhus9/tiles/static/256_20/553965_325676.png')], [WindowsPath('../../ITUData/Google/tiles/Aarhus9/tiles/static/256_20/553965_325677.png')], [WindowsPath('../../ITUData/Google/tiles/Aarhus9/tiles/static/256_20/553965_325678.png')], [WindowsPath('../../ITUData/Google/tiles/Aarhus9/tiles/static/256_20/553965_325679.png')], [WindowsPath('../../ITUData/Google/tiles/Aarhus9/tiles/static/256_20/553965_325680.png')], [WindowsPath('../../ITUData/Google/tiles/Aarhus9/tiles/static/256_20/553965_325681.png')], [WindowsPath('../../ITUData/Google/tiles/Aarhus9/tiles/static/256_20/553966_325660.png')], [WindowsPath('../../ITUData/Google/tiles/Aarhus9/tiles/static/256_20/553966_325661.png')], [WindowsPath('../../ITUData/Google/tiles/Aarhus9/tiles/static/256_20/553966_325662.png')], [WindowsPath('../../ITUData/Google/tiles/Aarhus9/tiles/static/256_20/553966_325663.png')], [WindowsPath('../../ITUData/Google/tiles/Aarhus9/tiles/static/256_20/553966_325664.png')], [WindowsPath('../../ITUData/Google/tiles/Aarhus9/tiles/static/256_20/553966_325665.png')], [WindowsPath('../../ITUData/Google/tiles/Aarhus9/tiles/static/256_20/553966_325666.png')], [WindowsPath('../../ITUData/Google/tiles/Aarhus9/tiles/static/256_20/553966_325667.png')], [WindowsPath('../../ITUData/Google/tiles/Aarhus9/tiles/static/256_20/553966_325668.png')], [WindowsPath('../../ITUData/Google/tiles/Aarhus9/tiles/static/256_20/553966_325669.png')], [WindowsPath('../../ITUData/Google/tiles/Aarhus9/tiles/static/256_20/553966_325670.png')], [WindowsPath('../../ITUData/Google/tiles/Aarhus9/tiles/static/256_20/553966_325671.png')], [WindowsPath('../../ITUData/Google/tiles/Aarhus9/tiles/static/256_20/553966_325672.png')], [WindowsPath('../../ITUData/Google/tiles/Aarhus9/tiles/static/256_20/553966_325673.png')], [WindowsPath('../../ITUData/Google/tiles/Aarhus9/tiles/static/256_20/553966_325674.png')], [WindowsPath('../../ITUData/Google/tiles/Aarhus9/tiles/static/256_20/553966_325675.png')], [WindowsPath('../../ITUData/Google/tiles/Aarhus9/tiles/static/256_20/553966_325676.png')], [WindowsPath('../../ITUData/Google/tiles/Aarhus9/tiles/static/256_20/553966_325677.png')], [WindowsPath('../../ITUData/Google/tiles/Aarhus9/tiles/static/256_20/553966_325678.png')], [WindowsPath('../../ITUData/Google/tiles/Aarhus9/tiles/static/256_20/553966_325679.png')], [WindowsPath('../../ITUData/Google/tiles/Aarhus9/tiles/static/256_20/553966_325680.png')], [WindowsPath('../../ITUData/Google/tiles/Aarhus9/tiles/static/256_20/553966_325681.png')], [WindowsPath('../../ITUData/Google/tiles/Aarhus9/tiles/static/256_20/553967_325660.png')], [WindowsPath('../../ITUData/Google/tiles/Aarhus9/tiles/static/256_20/553967_325661.png')], [WindowsPath('../../ITUData/Google/tiles/Aarhus9/tiles/static/256_20/553967_325662.png')], [WindowsPath('../../ITUData/Google/tiles/Aarhus9/tiles/static/256_20/553967_325663.png')], [WindowsPath('../../ITUData/Google/tiles/Aarhus9/tiles/static/256_20/553967_325664.png')], [WindowsPath('../../ITUData/Google/tiles/Aarhus9/tiles/static/256_20/553967_325665.png')], [WindowsPath('../../ITUData/Google/tiles/Aarhus9/tiles/static/256_20/553967_325666.png')], [WindowsPath('../../ITUData/Google/tiles/Aarhus9/tiles/static/256_20/553967_325667.png')], [WindowsPath('../../ITUData/Google/tiles/Aarhus9/tiles/static/256_20/553967_325668.png')], [WindowsPath('../../ITUData/Google/tiles/Aarhus9/tiles/static/256_20/553967_325669.png')], [WindowsPath('../../ITUData/Google/tiles/Aarhus9/tiles/static/256_20/553967_325670.png')], [WindowsPath('../../ITUData/Google/tiles/Aarhus9/tiles/static/256_20/553967_325671.png')], [WindowsPath('../../ITUData/Google/tiles/Aarhus9/tiles/static/256_20/553967_325672.png')], [WindowsPath('../../ITUData/Google/tiles/Aarhus9/tiles/static/256_20/553967_325673.png')], [WindowsPath('../../ITUData/Google/tiles/Aarhus9/tiles/static/256_20/553967_325674.png')], [WindowsPath('../../ITUData/Google/tiles/Aarhus9/tiles/static/256_20/553967_325675.png')], [WindowsPath('../../ITUData/Google/tiles/Aarhus9/tiles/static/256_20/553967_325676.png')], [WindowsPath('../../ITUData/Google/tiles/Aarhus9/tiles/static/256_20/553967_325677.png')], [WindowsPath('../../ITUData/Google/tiles/Aarhus9/tiles/static/256_20/553967_325678.png')], [WindowsPath('../../ITUData/Google/tiles/Aarhus9/tiles/static/256_20/553967_325679.png')], [WindowsPath('../../ITUData/Google/tiles/Aarhus9/tiles/static/256_20/553967_325680.png')], [WindowsPath('../../ITUData/Google/tiles/Aarhus9/tiles/static/256_20/553967_325681.png')], [WindowsPath('../../ITUData/Google/tiles/Aarhus9/tiles/static/256_20/553968_325660.png')], [WindowsPath('../../ITUData/Google/tiles/Aarhus9/tiles/static/256_20/553968_325661.png')], [WindowsPath('../../ITUData/Google/tiles/Aarhus9/tiles/static/256_20/553968_325662.png')], [WindowsPath('../../ITUData/Google/tiles/Aarhus9/tiles/static/256_20/553968_325663.png')], [WindowsPath('../../ITUData/Google/tiles/Aarhus9/tiles/static/256_20/553968_325664.png')], [WindowsPath('../../ITUData/Google/tiles/Aarhus9/tiles/static/256_20/553968_325665.png')], [WindowsPath('../../ITUData/Google/tiles/Aarhus9/tiles/static/256_20/553968_325666.png')], [WindowsPath('../../ITUData/Google/tiles/Aarhus9/tiles/static/256_20/553968_325667.png')], [WindowsPath('../../ITUData/Google/tiles/Aarhus9/tiles/static/256_20/553968_325668.png')], [WindowsPath('../../ITUData/Google/tiles/Aarhus9/tiles/static/256_20/553968_325669.png')], [WindowsPath('../../ITUData/Google/tiles/Aarhus9/tiles/static/256_20/553968_325670.png')], [WindowsPath('../../ITUData/Google/tiles/Aarhus9/tiles/static/256_20/553968_325671.png')], [WindowsPath('../../ITUData/Google/tiles/Aarhus9/tiles/static/256_20/553968_325672.png')], [WindowsPath('../../ITUData/Google/tiles/Aarhus9/tiles/static/256_20/553968_325673.png')], [WindowsPath('../../ITUData/Google/tiles/Aarhus9/tiles/static/256_20/553968_325674.png')], [WindowsPath('../../ITUData/Google/tiles/Aarhus9/tiles/static/256_20/553968_325675.png')], [WindowsPath('../../ITUData/Google/tiles/Aarhus9/tiles/static/256_20/553968_325676.png')], [WindowsPath('../../ITUData/Google/tiles/Aarhus9/tiles/static/256_20/553968_325677.png')], [WindowsPath('../../ITUData/Google/tiles/Aarhus9/tiles/static/256_20/553968_325678.png')], [WindowsPath('../../ITUData/Google/tiles/Aarhus9/tiles/static/256_20/553968_325679.png')], [WindowsPath('../../ITUData/Google/tiles/Aarhus9/tiles/static/256_20/553968_325680.png')], [WindowsPath('../../ITUData/Google/tiles/Aarhus9/tiles/static/256_20/553968_325681.png')], [WindowsPath('../../ITUData/Google/tiles/Aarhus9/tiles/static/256_20/553969_325660.png')], [WindowsPath('../../ITUData/Google/tiles/Aarhus9/tiles/static/256_20/553969_325661.png')], [WindowsPath('../../ITUData/Google/tiles/Aarhus9/tiles/static/256_20/553969_325662.png')], [WindowsPath('../../ITUData/Google/tiles/Aarhus9/tiles/static/256_20/553969_325663.png')], [WindowsPath('../../ITUData/Google/tiles/Aarhus9/tiles/static/256_20/553969_325664.png')], [WindowsPath('../../ITUData/Google/tiles/Aarhus9/tiles/static/256_20/553969_325665.png')], [WindowsPath('../../ITUData/Google/tiles/Aarhus9/tiles/static/256_20/553969_325666.png')], [WindowsPath('../../ITUData/Google/tiles/Aarhus9/tiles/static/256_20/553969_325667.png')], [WindowsPath('../../ITUData/Google/tiles/Aarhus9/tiles/static/256_20/553969_325668.png')], [WindowsPath('../../ITUData/Google/tiles/Aarhus9/tiles/static/256_20/553969_325669.png')], [WindowsPath('../../ITUData/Google/tiles/Aarhus9/tiles/static/256_20/553969_325670.png')], [WindowsPath('../../ITUData/Google/tiles/Aarhus9/tiles/static/256_20/553969_325671.png')], [WindowsPath('../../ITUData/Google/tiles/Aarhus9/tiles/static/256_20/553969_325672.png')], [WindowsPath('../../ITUData/Google/tiles/Aarhus9/tiles/static/256_20/553969_325673.png')], [WindowsPath('../../ITUData/Google/tiles/Aarhus9/tiles/static/256_20/553969_325674.png')], [WindowsPath('../../ITUData/Google/tiles/Aarhus9/tiles/static/256_20/553969_325675.png')], [WindowsPath('../../ITUData/Google/tiles/Aarhus9/tiles/static/256_20/553969_325676.png')], [WindowsPath('../../ITUData/Google/tiles/Aarhus9/tiles/static/256_20/553969_325677.png')], [WindowsPath('../../ITUData/Google/tiles/Aarhus9/tiles/static/256_20/553969_325678.png')], [WindowsPath('../../ITUData/Google/tiles/Aarhus9/tiles/static/256_20/553969_325679.png')], [WindowsPath('../../ITUData/Google/tiles/Aarhus9/tiles/static/256_20/553969_325680.png')], [WindowsPath('../../ITUData/Google/tiles/Aarhus9/tiles/static/256_20/553969_325681.png')], [WindowsPath('../../ITUData/Google/tiles/Aarhus9/tiles/static/256_20/553970_325660.png')], [WindowsPath('../../ITUData/Google/tiles/Aarhus9/tiles/static/256_20/553970_325661.png')], [WindowsPath('../../ITUData/Google/tiles/Aarhus9/tiles/static/256_20/553970_325662.png')], [WindowsPath('../../ITUData/Google/tiles/Aarhus9/tiles/static/256_20/553970_325663.png')], [WindowsPath('../../ITUData/Google/tiles/Aarhus9/tiles/static/256_20/553970_325664.png')], [WindowsPath('../../ITUData/Google/tiles/Aarhus9/tiles/static/256_20/553970_325665.png')], [WindowsPath('../../ITUData/Google/tiles/Aarhus9/tiles/static/256_20/553970_325666.png')], [WindowsPath('../../ITUData/Google/tiles/Aarhus9/tiles/static/256_20/553970_325667.png')], [WindowsPath('../../ITUData/Google/tiles/Aarhus9/tiles/static/256_20/553970_325668.png')], [WindowsPath('../../ITUData/Google/tiles/Aarhus9/tiles/static/256_20/553970_325669.png')], [WindowsPath('../../ITUData/Google/tiles/Aarhus9/tiles/static/256_20/553970_325670.png')], [WindowsPath('../../ITUData/Google/tiles/Aarhus9/tiles/static/256_20/553970_325671.png')], [WindowsPath('../../ITUData/Google/tiles/Aarhus9/tiles/static/256_20/553970_325672.png')], [WindowsPath('../../ITUData/Google/tiles/Aarhus9/tiles/static/256_20/553970_325673.png')], [WindowsPath('../../ITUData/Google/tiles/Aarhus9/tiles/static/256_20/553970_325674.png')], [WindowsPath('../../ITUData/Google/tiles/Aarhus9/tiles/static/256_20/553970_325675.png')], [WindowsPath('../../ITUData/Google/tiles/Aarhus9/tiles/static/256_20/553970_325676.png')], [WindowsPath('../../ITUData/Google/tiles/Aarhus9/tiles/static/256_20/553970_325677.png')], [WindowsPath('../../ITUData/Google/tiles/Aarhus9/tiles/static/256_20/553970_325678.png')], [WindowsPath('../../ITUData/Google/tiles/Aarhus9/tiles/static/256_20/553970_325679.png')], [WindowsPath('../../ITUData/Google/tiles/Aarhus9/tiles/static/256_20/553970_325680.png')], [WindowsPath('../../ITUData/Google/tiles/Aarhus9/tiles/static/256_20/553970_325681.png')], [WindowsPath('../../ITUData/Google/tiles/Aarhus9/tiles/static/256_20/553971_325660.png')], [WindowsPath('../../ITUData/Google/tiles/Aarhus9/tiles/static/256_20/553971_325661.png')], [WindowsPath('../../ITUData/Google/tiles/Aarhus9/tiles/static/256_20/553971_325662.png')], [WindowsPath('../../ITUData/Google/tiles/Aarhus9/tiles/static/256_20/553971_325663.png')], [WindowsPath('../../ITUData/Google/tiles/Aarhus9/tiles/static/256_20/553971_325664.png')], [WindowsPath('../../ITUData/Google/tiles/Aarhus9/tiles/static/256_20/553971_325665.png')], [WindowsPath('../../ITUData/Google/tiles/Aarhus9/tiles/static/256_20/553971_325666.png')], [WindowsPath('../../ITUData/Google/tiles/Aarhus9/tiles/static/256_20/553971_325667.png')], [WindowsPath('../../ITUData/Google/tiles/Aarhus9/tiles/static/256_20/553971_325668.png')], [WindowsPath('../../ITUData/Google/tiles/Aarhus9/tiles/static/256_20/553971_325669.png')], [WindowsPath('../../ITUData/Google/tiles/Aarhus9/tiles/static/256_20/553971_325670.png')], [WindowsPath('../../ITUData/Google/tiles/Aarhus9/tiles/static/256_20/553971_325671.png')], [WindowsPath('../../ITUData/Google/tiles/Aarhus9/tiles/static/256_20/553971_325672.png')], [WindowsPath('../../ITUData/Google/tiles/Aarhus9/tiles/static/256_20/553971_325673.png')], [WindowsPath('../../ITUData/Google/tiles/Aarhus9/tiles/static/256_20/553971_325674.png')], [WindowsPath('../../ITUData/Google/tiles/Aarhus9/tiles/static/256_20/553971_325675.png')], [WindowsPath('../../ITUData/Google/tiles/Aarhus9/tiles/static/256_20/553971_325676.png')], [WindowsPath('../../ITUData/Google/tiles/Aarhus9/tiles/static/256_20/553971_325677.png')], [WindowsPath('../../ITUData/Google/tiles/Aarhus9/tiles/static/256_20/553971_325678.png')], [WindowsPath('../../ITUData/Google/tiles/Aarhus9/tiles/static/256_20/553971_325679.png')], [WindowsPath('../../ITUData/Google/tiles/Aarhus9/tiles/static/256_20/553971_325680.png')], [WindowsPath('../../ITUData/Google/tiles/Aarhus9/tiles/static/256_20/553971_325681.png')], [WindowsPath('../../ITUData/Google/tiles/Aarhus9/tiles/static/256_20/553972_325660.png')], [WindowsPath('../../ITUData/Google/tiles/Aarhus9/tiles/static/256_20/553972_325661.png')], [WindowsPath('../../ITUData/Google/tiles/Aarhus9/tiles/static/256_20/553972_325662.png')], [WindowsPath('../../ITUData/Google/tiles/Aarhus9/tiles/static/256_20/553972_325663.png')], [WindowsPath('../../ITUData/Google/tiles/Aarhus9/tiles/static/256_20/553972_325664.png')], [WindowsPath('../../ITUData/Google/tiles/Aarhus9/tiles/static/256_20/553972_325665.png')], [WindowsPath('../../ITUData/Google/tiles/Aarhus9/tiles/static/256_20/553972_325666.png')], [WindowsPath('../../ITUData/Google/tiles/Aarhus9/tiles/static/256_20/553972_325667.png')], [WindowsPath('../../ITUData/Google/tiles/Aarhus9/tiles/static/256_20/553972_325668.png')], [WindowsPath('../../ITUData/Google/tiles/Aarhus9/tiles/static/256_20/553972_325669.png')], [WindowsPath('../../ITUData/Google/tiles/Aarhus9/tiles/static/256_20/553972_325670.png')], [WindowsPath('../../ITUData/Google/tiles/Aarhus9/tiles/static/256_20/553972_325671.png')], [WindowsPath('../../ITUData/Google/tiles/Aarhus9/tiles/static/256_20/553972_325672.png')], [WindowsPath('../../ITUData/Google/tiles/Aarhus9/tiles/static/256_20/553972_325673.png')], [WindowsPath('../../ITUData/Google/tiles/Aarhus9/tiles/static/256_20/553972_325674.png')], [WindowsPath('../../ITUData/Google/tiles/Aarhus9/tiles/static/256_20/553972_325675.png')], [WindowsPath('../../ITUData/Google/tiles/Aarhus9/tiles/static/256_20/553972_325676.png')], [WindowsPath('../../ITUData/Google/tiles/Aarhus9/tiles/static/256_20/553972_325677.png')], [WindowsPath('../../ITUData/Google/tiles/Aarhus9/tiles/static/256_20/553972_325678.png')], [WindowsPath('../../ITUData/Google/tiles/Aarhus9/tiles/static/256_20/553972_325679.png')], [WindowsPath('../../ITUData/Google/tiles/Aarhus9/tiles/static/256_20/553972_325680.png')], [WindowsPath('../../ITUData/Google/tiles/Aarhus9/tiles/static/256_20/553972_325681.png')]]\n"
     ]
    },
    {
     "name": "stderr",
     "output_type": "stream",
     "text": [
      "           Stitching 286 tiles...                 : 100%|██████████| 286/286 [00:03<00:00, 84.96it/s]\n",
      "INFO       Dumping to C:\\Users\\Nielsen\\AppData\\Local\\Temp\\tile2net\\Aarhus9\\tiles\\Aarhus9_256_info.json\n"
     ]
    },
    {
     "name": "stdout",
     "output_type": "stream",
     "text": [
      "{\n",
      "    \"config\": \"C:\\\\Users\\\\Nielsen\\\\Desktop\\\\tile2net\\\\tile2net-main\\\\src\\\\tile2net\\\\tileseg\\\\config.py\",\n",
      "    \"assets\": {\n",
      "        \"weights\": {\n",
      "            \"satellite_2021\": \"C:\\\\Users\\\\Nielsen\\\\Desktop\\\\tile2net\\\\tile2net-main\\\\src\\\\tile2net\\\\raster\\\\resources\\\\assets\\\\weights\\\\satellite_2021.pth\",\n",
      "            \"hrnetv2_w48_imagenet_pretrained\": \"C:\\\\Users\\\\Nielsen\\\\Desktop\\\\tile2net\\\\tile2net-main\\\\src\\\\tile2net\\\\raster\\\\resources\\\\assets\\\\weights\\\\hrnetv2_w48_imagenet_pretrained.pth\"\n",
      "        }\n",
      "    },\n",
      "    \"segmentation\": \"C:\\\\Users\\\\Nielsen\\\\AppData\\\\Local\\\\Temp\\\\tile2net\\\\Aarhus9\\\\segmentation\\\\Aarhus9\\\\256_20_1\",\n",
      "    \"tiles\": {\n",
      "        \"info\": \"C:\\\\Users\\\\Nielsen\\\\AppData\\\\Local\\\\Temp\\\\tile2net\\\\Aarhus9\\\\tiles\\\\Aarhus9_256_info.json\",\n",
      "        \"static\": \"..\\\\..\\\\ITUData/Google/tiles/Aarhus9/tiles/static/256_20\",\n",
      "        \"stitched\": \"C:\\\\Users\\\\Nielsen\\\\AppData\\\\Local\\\\Temp\\\\tile2net\\\\Aarhus9\\\\tiles\\\\stitched\\\\256_20_1\"\n",
      "    },\n",
      "    \"polygons\": \"C:\\\\Users\\\\Nielsen\\\\AppData\\\\Local\\\\Temp\\\\tile2net\\\\Aarhus9\\\\polygons\",\n",
      "    \"network\": \"C:\\\\Users\\\\Nielsen\\\\AppData\\\\Local\\\\Temp\\\\tile2net\\\\Aarhus9\\\\network\",\n",
      "    \"name\": \"Aarhus9\"\n",
      "}"
     ]
    }
   ],
   "source": [
    "#Stitching tiles \n",
    "raster.generate(1)"
   ]
  },
  {
   "cell_type": "code",
   "execution_count": 30,
   "metadata": {},
   "outputs": [
    {
     "name": "stderr",
     "output_type": "stream",
     "text": [
      "INFO       Running ['python', '-m', 'tile2net', 'inference', '--city_info', 'C:\\\\Users\\\\Nielsen\\\\AppData\\\\Local\\\\Temp\\\\tile2net\\\\Aarhus9\\\\tiles\\\\Aarhus9_256_info.json', '--interactive', '--dump_percent', '0']\n"
     ]
    }
   ],
   "source": [
    "#Segmentation\n",
    "raster.inference()"
   ]
  },
  {
   "cell_type": "markdown",
   "metadata": {},
   "source": [
    "### Aarhus Location 10"
   ]
  },
  {
   "cell_type": "code",
   "execution_count": 20,
   "metadata": {},
   "outputs": [],
   "source": [
    "#Defining bounding box\n",
    "min_lat = 56.16994914071068\n",
    "min_lon = 10.201318214312574\n",
    "max_lat = 56.1725284201622\n",
    "max_lon = 10.20817583862707\n",
    "location = f\"{min_lat}, {min_lon}, {max_lat}, {max_lon}\""
   ]
  },
  {
   "cell_type": "code",
   "execution_count": 21,
   "metadata": {},
   "outputs": [
    {
     "name": "stdout",
     "output_type": "stream",
     "text": [
      "{'x': 0}\n",
      "{}\n"
     ]
    },
    {
     "data": {
      "text/plain": [
       "Aarhus10 Data Constructor. \n",
       "Coordinate reference system (CRS): 4326 \n",
       "Tile size (pixel): 256 \n",
       "Zoom level: 20 \n",
       "Number of columns: 21 \n",
       "Number of rows: 15 \n",
       "Total tiles: 315 \n",
       "Number of tiles inside the boundary: 315 (100.0%) "
      ]
     },
     "execution_count": 21,
     "metadata": {},
     "output_type": "execute_result"
    }
   ],
   "source": [
    "#Creating raster object\n",
    "raster = Raster(\n",
    "    name=\"Aarhus10\",\n",
    "    location=location,\n",
    "    input_dir=r'..\\..\\ITUData/Google/tiles/Aarhus10/tiles/static/256_20/x_y.png',\n",
    "    zoom=20,\n",
    ")\n",
    "\n",
    "raster"
   ]
  },
  {
   "cell_type": "code",
   "execution_count": 22,
   "metadata": {},
   "outputs": [
    {
     "name": "stderr",
     "output_type": "stream",
     "text": [
      "INFO       Stitching 21 tiles...\n"
     ]
    },
    {
     "name": "stdout",
     "output_type": "stream",
     "text": [
      "list:infiles: [[WindowsPath('../../ITUData/Google/tiles/Aarhus10/tiles/static/256_20/554001_325620.png')], [WindowsPath('../../ITUData/Google/tiles/Aarhus10/tiles/static/256_20/554001_325621.png')], [WindowsPath('../../ITUData/Google/tiles/Aarhus10/tiles/static/256_20/554001_325622.png')], [WindowsPath('../../ITUData/Google/tiles/Aarhus10/tiles/static/256_20/554001_325623.png')], [WindowsPath('../../ITUData/Google/tiles/Aarhus10/tiles/static/256_20/554001_325624.png')], [WindowsPath('../../ITUData/Google/tiles/Aarhus10/tiles/static/256_20/554001_325625.png')], [WindowsPath('../../ITUData/Google/tiles/Aarhus10/tiles/static/256_20/554001_325626.png')], [WindowsPath('../../ITUData/Google/tiles/Aarhus10/tiles/static/256_20/554001_325627.png')], [WindowsPath('../../ITUData/Google/tiles/Aarhus10/tiles/static/256_20/554001_325628.png')], [WindowsPath('../../ITUData/Google/tiles/Aarhus10/tiles/static/256_20/554001_325629.png')], [WindowsPath('../../ITUData/Google/tiles/Aarhus10/tiles/static/256_20/554001_325630.png')], [WindowsPath('../../ITUData/Google/tiles/Aarhus10/tiles/static/256_20/554001_325631.png')], [WindowsPath('../../ITUData/Google/tiles/Aarhus10/tiles/static/256_20/554001_325632.png')], [WindowsPath('../../ITUData/Google/tiles/Aarhus10/tiles/static/256_20/554002_325618.png')], [WindowsPath('../../ITUData/Google/tiles/Aarhus10/tiles/static/256_20/554002_325619.png')], [WindowsPath('../../ITUData/Google/tiles/Aarhus10/tiles/static/256_20/554002_325620.png')], [WindowsPath('../../ITUData/Google/tiles/Aarhus10/tiles/static/256_20/554002_325621.png')], [WindowsPath('../../ITUData/Google/tiles/Aarhus10/tiles/static/256_20/554002_325622.png')], [WindowsPath('../../ITUData/Google/tiles/Aarhus10/tiles/static/256_20/554002_325623.png')], [WindowsPath('../../ITUData/Google/tiles/Aarhus10/tiles/static/256_20/554002_325624.png')], [WindowsPath('../../ITUData/Google/tiles/Aarhus10/tiles/static/256_20/554002_325625.png')], [WindowsPath('../../ITUData/Google/tiles/Aarhus10/tiles/static/256_20/554002_325626.png')], [WindowsPath('../../ITUData/Google/tiles/Aarhus10/tiles/static/256_20/554002_325627.png')], [WindowsPath('../../ITUData/Google/tiles/Aarhus10/tiles/static/256_20/554002_325628.png')], [WindowsPath('../../ITUData/Google/tiles/Aarhus10/tiles/static/256_20/554002_325629.png')], [WindowsPath('../../ITUData/Google/tiles/Aarhus10/tiles/static/256_20/554002_325630.png')], [WindowsPath('../../ITUData/Google/tiles/Aarhus10/tiles/static/256_20/554002_325631.png')], [WindowsPath('../../ITUData/Google/tiles/Aarhus10/tiles/static/256_20/554002_325632.png')], [WindowsPath('../../ITUData/Google/tiles/Aarhus10/tiles/static/256_20/554003_325618.png')], [WindowsPath('../../ITUData/Google/tiles/Aarhus10/tiles/static/256_20/554003_325619.png')], [WindowsPath('../../ITUData/Google/tiles/Aarhus10/tiles/static/256_20/554003_325620.png')], [WindowsPath('../../ITUData/Google/tiles/Aarhus10/tiles/static/256_20/554003_325621.png')], [WindowsPath('../../ITUData/Google/tiles/Aarhus10/tiles/static/256_20/554003_325622.png')], [WindowsPath('../../ITUData/Google/tiles/Aarhus10/tiles/static/256_20/554003_325623.png')], [WindowsPath('../../ITUData/Google/tiles/Aarhus10/tiles/static/256_20/554003_325624.png')], [WindowsPath('../../ITUData/Google/tiles/Aarhus10/tiles/static/256_20/554003_325625.png')], [WindowsPath('../../ITUData/Google/tiles/Aarhus10/tiles/static/256_20/554003_325626.png')], [WindowsPath('../../ITUData/Google/tiles/Aarhus10/tiles/static/256_20/554003_325627.png')], [WindowsPath('../../ITUData/Google/tiles/Aarhus10/tiles/static/256_20/554003_325628.png')], [WindowsPath('../../ITUData/Google/tiles/Aarhus10/tiles/static/256_20/554003_325629.png')], [WindowsPath('../../ITUData/Google/tiles/Aarhus10/tiles/static/256_20/554003_325630.png')], [WindowsPath('../../ITUData/Google/tiles/Aarhus10/tiles/static/256_20/554003_325631.png')], [WindowsPath('../../ITUData/Google/tiles/Aarhus10/tiles/static/256_20/554003_325632.png')], [WindowsPath('../../ITUData/Google/tiles/Aarhus10/tiles/static/256_20/554004_325618.png')], [WindowsPath('../../ITUData/Google/tiles/Aarhus10/tiles/static/256_20/554004_325619.png')], [WindowsPath('../../ITUData/Google/tiles/Aarhus10/tiles/static/256_20/554004_325620.png')], [WindowsPath('../../ITUData/Google/tiles/Aarhus10/tiles/static/256_20/554004_325621.png')], [WindowsPath('../../ITUData/Google/tiles/Aarhus10/tiles/static/256_20/554004_325622.png')], [WindowsPath('../../ITUData/Google/tiles/Aarhus10/tiles/static/256_20/554004_325623.png')], [WindowsPath('../../ITUData/Google/tiles/Aarhus10/tiles/static/256_20/554004_325624.png')], [WindowsPath('../../ITUData/Google/tiles/Aarhus10/tiles/static/256_20/554004_325625.png')], [WindowsPath('../../ITUData/Google/tiles/Aarhus10/tiles/static/256_20/554004_325626.png')], [WindowsPath('../../ITUData/Google/tiles/Aarhus10/tiles/static/256_20/554004_325627.png')], [WindowsPath('../../ITUData/Google/tiles/Aarhus10/tiles/static/256_20/554004_325628.png')], [WindowsPath('../../ITUData/Google/tiles/Aarhus10/tiles/static/256_20/554004_325629.png')], [WindowsPath('../../ITUData/Google/tiles/Aarhus10/tiles/static/256_20/554004_325630.png')], [WindowsPath('../../ITUData/Google/tiles/Aarhus10/tiles/static/256_20/554004_325631.png')], [WindowsPath('../../ITUData/Google/tiles/Aarhus10/tiles/static/256_20/554004_325632.png')], [WindowsPath('../../ITUData/Google/tiles/Aarhus10/tiles/static/256_20/554005_325618.png')], [WindowsPath('../../ITUData/Google/tiles/Aarhus10/tiles/static/256_20/554005_325619.png')], [WindowsPath('../../ITUData/Google/tiles/Aarhus10/tiles/static/256_20/554005_325620.png')], [WindowsPath('../../ITUData/Google/tiles/Aarhus10/tiles/static/256_20/554005_325621.png')], [WindowsPath('../../ITUData/Google/tiles/Aarhus10/tiles/static/256_20/554005_325622.png')], [WindowsPath('../../ITUData/Google/tiles/Aarhus10/tiles/static/256_20/554005_325623.png')], [WindowsPath('../../ITUData/Google/tiles/Aarhus10/tiles/static/256_20/554005_325624.png')], [WindowsPath('../../ITUData/Google/tiles/Aarhus10/tiles/static/256_20/554005_325625.png')], [WindowsPath('../../ITUData/Google/tiles/Aarhus10/tiles/static/256_20/554005_325626.png')], [WindowsPath('../../ITUData/Google/tiles/Aarhus10/tiles/static/256_20/554005_325627.png')], [WindowsPath('../../ITUData/Google/tiles/Aarhus10/tiles/static/256_20/554005_325628.png')], [WindowsPath('../../ITUData/Google/tiles/Aarhus10/tiles/static/256_20/554005_325629.png')], [WindowsPath('../../ITUData/Google/tiles/Aarhus10/tiles/static/256_20/554005_325630.png')], [WindowsPath('../../ITUData/Google/tiles/Aarhus10/tiles/static/256_20/554005_325631.png')], [WindowsPath('../../ITUData/Google/tiles/Aarhus10/tiles/static/256_20/554005_325632.png')], [WindowsPath('../../ITUData/Google/tiles/Aarhus10/tiles/static/256_20/554006_325618.png')], [WindowsPath('../../ITUData/Google/tiles/Aarhus10/tiles/static/256_20/554006_325619.png')], [WindowsPath('../../ITUData/Google/tiles/Aarhus10/tiles/static/256_20/554006_325620.png')], [WindowsPath('../../ITUData/Google/tiles/Aarhus10/tiles/static/256_20/554006_325621.png')], [WindowsPath('../../ITUData/Google/tiles/Aarhus10/tiles/static/256_20/554006_325622.png')], [WindowsPath('../../ITUData/Google/tiles/Aarhus10/tiles/static/256_20/554006_325623.png')], [WindowsPath('../../ITUData/Google/tiles/Aarhus10/tiles/static/256_20/554006_325624.png')], [WindowsPath('../../ITUData/Google/tiles/Aarhus10/tiles/static/256_20/554006_325625.png')], [WindowsPath('../../ITUData/Google/tiles/Aarhus10/tiles/static/256_20/554006_325626.png')], [WindowsPath('../../ITUData/Google/tiles/Aarhus10/tiles/static/256_20/554006_325627.png')], [WindowsPath('../../ITUData/Google/tiles/Aarhus10/tiles/static/256_20/554006_325628.png')], [WindowsPath('../../ITUData/Google/tiles/Aarhus10/tiles/static/256_20/554006_325629.png')], [WindowsPath('../../ITUData/Google/tiles/Aarhus10/tiles/static/256_20/554006_325630.png')], [WindowsPath('../../ITUData/Google/tiles/Aarhus10/tiles/static/256_20/554006_325631.png')], [WindowsPath('../../ITUData/Google/tiles/Aarhus10/tiles/static/256_20/554006_325632.png')], [WindowsPath('../../ITUData/Google/tiles/Aarhus10/tiles/static/256_20/554007_325618.png')], [WindowsPath('../../ITUData/Google/tiles/Aarhus10/tiles/static/256_20/554007_325619.png')], [WindowsPath('../../ITUData/Google/tiles/Aarhus10/tiles/static/256_20/554007_325620.png')], [WindowsPath('../../ITUData/Google/tiles/Aarhus10/tiles/static/256_20/554007_325621.png')], [WindowsPath('../../ITUData/Google/tiles/Aarhus10/tiles/static/256_20/554007_325622.png')], [WindowsPath('../../ITUData/Google/tiles/Aarhus10/tiles/static/256_20/554007_325623.png')], [WindowsPath('../../ITUData/Google/tiles/Aarhus10/tiles/static/256_20/554007_325624.png')], [WindowsPath('../../ITUData/Google/tiles/Aarhus10/tiles/static/256_20/554007_325625.png')], [WindowsPath('../../ITUData/Google/tiles/Aarhus10/tiles/static/256_20/554007_325626.png')], [WindowsPath('../../ITUData/Google/tiles/Aarhus10/tiles/static/256_20/554007_325627.png')], [WindowsPath('../../ITUData/Google/tiles/Aarhus10/tiles/static/256_20/554007_325628.png')], [WindowsPath('../../ITUData/Google/tiles/Aarhus10/tiles/static/256_20/554007_325629.png')], [WindowsPath('../../ITUData/Google/tiles/Aarhus10/tiles/static/256_20/554007_325630.png')], [WindowsPath('../../ITUData/Google/tiles/Aarhus10/tiles/static/256_20/554007_325631.png')], [WindowsPath('../../ITUData/Google/tiles/Aarhus10/tiles/static/256_20/554007_325632.png')], [WindowsPath('../../ITUData/Google/tiles/Aarhus10/tiles/static/256_20/554008_325618.png')], [WindowsPath('../../ITUData/Google/tiles/Aarhus10/tiles/static/256_20/554008_325619.png')], [WindowsPath('../../ITUData/Google/tiles/Aarhus10/tiles/static/256_20/554008_325620.png')], [WindowsPath('../../ITUData/Google/tiles/Aarhus10/tiles/static/256_20/554008_325621.png')], [WindowsPath('../../ITUData/Google/tiles/Aarhus10/tiles/static/256_20/554008_325622.png')], [WindowsPath('../../ITUData/Google/tiles/Aarhus10/tiles/static/256_20/554008_325623.png')], [WindowsPath('../../ITUData/Google/tiles/Aarhus10/tiles/static/256_20/554008_325624.png')], [WindowsPath('../../ITUData/Google/tiles/Aarhus10/tiles/static/256_20/554008_325625.png')], [WindowsPath('../../ITUData/Google/tiles/Aarhus10/tiles/static/256_20/554008_325626.png')], [WindowsPath('../../ITUData/Google/tiles/Aarhus10/tiles/static/256_20/554008_325627.png')], [WindowsPath('../../ITUData/Google/tiles/Aarhus10/tiles/static/256_20/554008_325628.png')], [WindowsPath('../../ITUData/Google/tiles/Aarhus10/tiles/static/256_20/554008_325629.png')], [WindowsPath('../../ITUData/Google/tiles/Aarhus10/tiles/static/256_20/554008_325630.png')], [WindowsPath('../../ITUData/Google/tiles/Aarhus10/tiles/static/256_20/554008_325631.png')], [WindowsPath('../../ITUData/Google/tiles/Aarhus10/tiles/static/256_20/554008_325632.png')], [WindowsPath('../../ITUData/Google/tiles/Aarhus10/tiles/static/256_20/554009_325618.png')], [WindowsPath('../../ITUData/Google/tiles/Aarhus10/tiles/static/256_20/554009_325619.png')], [WindowsPath('../../ITUData/Google/tiles/Aarhus10/tiles/static/256_20/554009_325620.png')], [WindowsPath('../../ITUData/Google/tiles/Aarhus10/tiles/static/256_20/554009_325621.png')], [WindowsPath('../../ITUData/Google/tiles/Aarhus10/tiles/static/256_20/554009_325622.png')], [WindowsPath('../../ITUData/Google/tiles/Aarhus10/tiles/static/256_20/554009_325623.png')], [WindowsPath('../../ITUData/Google/tiles/Aarhus10/tiles/static/256_20/554009_325624.png')], [WindowsPath('../../ITUData/Google/tiles/Aarhus10/tiles/static/256_20/554009_325625.png')], [WindowsPath('../../ITUData/Google/tiles/Aarhus10/tiles/static/256_20/554009_325626.png')], [WindowsPath('../../ITUData/Google/tiles/Aarhus10/tiles/static/256_20/554009_325627.png')], [WindowsPath('../../ITUData/Google/tiles/Aarhus10/tiles/static/256_20/554009_325628.png')], [WindowsPath('../../ITUData/Google/tiles/Aarhus10/tiles/static/256_20/554009_325629.png')], [WindowsPath('../../ITUData/Google/tiles/Aarhus10/tiles/static/256_20/554009_325630.png')], [WindowsPath('../../ITUData/Google/tiles/Aarhus10/tiles/static/256_20/554009_325631.png')], [WindowsPath('../../ITUData/Google/tiles/Aarhus10/tiles/static/256_20/554009_325632.png')], [WindowsPath('../../ITUData/Google/tiles/Aarhus10/tiles/static/256_20/554010_325618.png')], [WindowsPath('../../ITUData/Google/tiles/Aarhus10/tiles/static/256_20/554010_325619.png')], [WindowsPath('../../ITUData/Google/tiles/Aarhus10/tiles/static/256_20/554010_325620.png')], [WindowsPath('../../ITUData/Google/tiles/Aarhus10/tiles/static/256_20/554010_325621.png')], [WindowsPath('../../ITUData/Google/tiles/Aarhus10/tiles/static/256_20/554010_325622.png')], [WindowsPath('../../ITUData/Google/tiles/Aarhus10/tiles/static/256_20/554010_325623.png')], [WindowsPath('../../ITUData/Google/tiles/Aarhus10/tiles/static/256_20/554010_325624.png')], [WindowsPath('../../ITUData/Google/tiles/Aarhus10/tiles/static/256_20/554010_325625.png')], [WindowsPath('../../ITUData/Google/tiles/Aarhus10/tiles/static/256_20/554010_325626.png')], [WindowsPath('../../ITUData/Google/tiles/Aarhus10/tiles/static/256_20/554010_325627.png')], [WindowsPath('../../ITUData/Google/tiles/Aarhus10/tiles/static/256_20/554010_325628.png')], [WindowsPath('../../ITUData/Google/tiles/Aarhus10/tiles/static/256_20/554010_325629.png')], [WindowsPath('../../ITUData/Google/tiles/Aarhus10/tiles/static/256_20/554010_325630.png')], [WindowsPath('../../ITUData/Google/tiles/Aarhus10/tiles/static/256_20/554010_325631.png')], [WindowsPath('../../ITUData/Google/tiles/Aarhus10/tiles/static/256_20/554010_325632.png')], [WindowsPath('../../ITUData/Google/tiles/Aarhus10/tiles/static/256_20/554011_325618.png')], [WindowsPath('../../ITUData/Google/tiles/Aarhus10/tiles/static/256_20/554011_325619.png')], [WindowsPath('../../ITUData/Google/tiles/Aarhus10/tiles/static/256_20/554011_325620.png')], [WindowsPath('../../ITUData/Google/tiles/Aarhus10/tiles/static/256_20/554011_325621.png')], [WindowsPath('../../ITUData/Google/tiles/Aarhus10/tiles/static/256_20/554011_325622.png')], [WindowsPath('../../ITUData/Google/tiles/Aarhus10/tiles/static/256_20/554011_325623.png')], [WindowsPath('../../ITUData/Google/tiles/Aarhus10/tiles/static/256_20/554011_325624.png')], [WindowsPath('../../ITUData/Google/tiles/Aarhus10/tiles/static/256_20/554011_325625.png')], [WindowsPath('../../ITUData/Google/tiles/Aarhus10/tiles/static/256_20/554011_325626.png')], [WindowsPath('../../ITUData/Google/tiles/Aarhus10/tiles/static/256_20/554011_325627.png')], [WindowsPath('../../ITUData/Google/tiles/Aarhus10/tiles/static/256_20/554011_325628.png')], [WindowsPath('../../ITUData/Google/tiles/Aarhus10/tiles/static/256_20/554011_325629.png')], [WindowsPath('../../ITUData/Google/tiles/Aarhus10/tiles/static/256_20/554011_325630.png')], [WindowsPath('../../ITUData/Google/tiles/Aarhus10/tiles/static/256_20/554011_325631.png')], [WindowsPath('../../ITUData/Google/tiles/Aarhus10/tiles/static/256_20/554011_325632.png')], [WindowsPath('../../ITUData/Google/tiles/Aarhus10/tiles/static/256_20/554012_325618.png')], [WindowsPath('../../ITUData/Google/tiles/Aarhus10/tiles/static/256_20/554012_325619.png')], [WindowsPath('../../ITUData/Google/tiles/Aarhus10/tiles/static/256_20/554012_325620.png')], [WindowsPath('../../ITUData/Google/tiles/Aarhus10/tiles/static/256_20/554012_325621.png')], [WindowsPath('../../ITUData/Google/tiles/Aarhus10/tiles/static/256_20/554012_325622.png')], [WindowsPath('../../ITUData/Google/tiles/Aarhus10/tiles/static/256_20/554012_325623.png')], [WindowsPath('../../ITUData/Google/tiles/Aarhus10/tiles/static/256_20/554012_325624.png')], [WindowsPath('../../ITUData/Google/tiles/Aarhus10/tiles/static/256_20/554012_325625.png')], [WindowsPath('../../ITUData/Google/tiles/Aarhus10/tiles/static/256_20/554012_325626.png')], [WindowsPath('../../ITUData/Google/tiles/Aarhus10/tiles/static/256_20/554012_325627.png')], [WindowsPath('../../ITUData/Google/tiles/Aarhus10/tiles/static/256_20/554012_325628.png')], [WindowsPath('../../ITUData/Google/tiles/Aarhus10/tiles/static/256_20/554012_325629.png')], [WindowsPath('../../ITUData/Google/tiles/Aarhus10/tiles/static/256_20/554012_325630.png')], [WindowsPath('../../ITUData/Google/tiles/Aarhus10/tiles/static/256_20/554012_325631.png')], [WindowsPath('../../ITUData/Google/tiles/Aarhus10/tiles/static/256_20/554012_325632.png')], [WindowsPath('../../ITUData/Google/tiles/Aarhus10/tiles/static/256_20/554013_325618.png')], [WindowsPath('../../ITUData/Google/tiles/Aarhus10/tiles/static/256_20/554013_325619.png')], [WindowsPath('../../ITUData/Google/tiles/Aarhus10/tiles/static/256_20/554013_325620.png')], [WindowsPath('../../ITUData/Google/tiles/Aarhus10/tiles/static/256_20/554013_325621.png')], [WindowsPath('../../ITUData/Google/tiles/Aarhus10/tiles/static/256_20/554013_325622.png')], [WindowsPath('../../ITUData/Google/tiles/Aarhus10/tiles/static/256_20/554013_325623.png')], [WindowsPath('../../ITUData/Google/tiles/Aarhus10/tiles/static/256_20/554013_325624.png')], [WindowsPath('../../ITUData/Google/tiles/Aarhus10/tiles/static/256_20/554013_325625.png')], [WindowsPath('../../ITUData/Google/tiles/Aarhus10/tiles/static/256_20/554013_325626.png')], [WindowsPath('../../ITUData/Google/tiles/Aarhus10/tiles/static/256_20/554013_325627.png')], [WindowsPath('../../ITUData/Google/tiles/Aarhus10/tiles/static/256_20/554013_325628.png')], [WindowsPath('../../ITUData/Google/tiles/Aarhus10/tiles/static/256_20/554013_325629.png')], [WindowsPath('../../ITUData/Google/tiles/Aarhus10/tiles/static/256_20/554013_325630.png')], [WindowsPath('../../ITUData/Google/tiles/Aarhus10/tiles/static/256_20/554013_325631.png')], [WindowsPath('../../ITUData/Google/tiles/Aarhus10/tiles/static/256_20/554013_325632.png')], [WindowsPath('../../ITUData/Google/tiles/Aarhus10/tiles/static/256_20/554014_325618.png')], [WindowsPath('../../ITUData/Google/tiles/Aarhus10/tiles/static/256_20/554014_325619.png')], [WindowsPath('../../ITUData/Google/tiles/Aarhus10/tiles/static/256_20/554014_325620.png')], [WindowsPath('../../ITUData/Google/tiles/Aarhus10/tiles/static/256_20/554014_325621.png')], [WindowsPath('../../ITUData/Google/tiles/Aarhus10/tiles/static/256_20/554014_325622.png')], [WindowsPath('../../ITUData/Google/tiles/Aarhus10/tiles/static/256_20/554014_325623.png')], [WindowsPath('../../ITUData/Google/tiles/Aarhus10/tiles/static/256_20/554014_325624.png')], [WindowsPath('../../ITUData/Google/tiles/Aarhus10/tiles/static/256_20/554014_325625.png')], [WindowsPath('../../ITUData/Google/tiles/Aarhus10/tiles/static/256_20/554014_325626.png')], [WindowsPath('../../ITUData/Google/tiles/Aarhus10/tiles/static/256_20/554014_325627.png')], [WindowsPath('../../ITUData/Google/tiles/Aarhus10/tiles/static/256_20/554014_325628.png')], [WindowsPath('../../ITUData/Google/tiles/Aarhus10/tiles/static/256_20/554014_325629.png')], [WindowsPath('../../ITUData/Google/tiles/Aarhus10/tiles/static/256_20/554014_325630.png')], [WindowsPath('../../ITUData/Google/tiles/Aarhus10/tiles/static/256_20/554014_325631.png')], [WindowsPath('../../ITUData/Google/tiles/Aarhus10/tiles/static/256_20/554014_325632.png')], [WindowsPath('../../ITUData/Google/tiles/Aarhus10/tiles/static/256_20/554015_325618.png')], [WindowsPath('../../ITUData/Google/tiles/Aarhus10/tiles/static/256_20/554015_325619.png')], [WindowsPath('../../ITUData/Google/tiles/Aarhus10/tiles/static/256_20/554015_325620.png')], [WindowsPath('../../ITUData/Google/tiles/Aarhus10/tiles/static/256_20/554015_325621.png')], [WindowsPath('../../ITUData/Google/tiles/Aarhus10/tiles/static/256_20/554015_325622.png')], [WindowsPath('../../ITUData/Google/tiles/Aarhus10/tiles/static/256_20/554015_325623.png')], [WindowsPath('../../ITUData/Google/tiles/Aarhus10/tiles/static/256_20/554015_325624.png')], [WindowsPath('../../ITUData/Google/tiles/Aarhus10/tiles/static/256_20/554015_325625.png')], [WindowsPath('../../ITUData/Google/tiles/Aarhus10/tiles/static/256_20/554015_325626.png')], [WindowsPath('../../ITUData/Google/tiles/Aarhus10/tiles/static/256_20/554015_325627.png')], [WindowsPath('../../ITUData/Google/tiles/Aarhus10/tiles/static/256_20/554015_325628.png')], [WindowsPath('../../ITUData/Google/tiles/Aarhus10/tiles/static/256_20/554015_325629.png')], [WindowsPath('../../ITUData/Google/tiles/Aarhus10/tiles/static/256_20/554015_325630.png')], [WindowsPath('../../ITUData/Google/tiles/Aarhus10/tiles/static/256_20/554015_325631.png')], [WindowsPath('../../ITUData/Google/tiles/Aarhus10/tiles/static/256_20/554015_325632.png')], [WindowsPath('../../ITUData/Google/tiles/Aarhus10/tiles/static/256_20/554016_325618.png')], [WindowsPath('../../ITUData/Google/tiles/Aarhus10/tiles/static/256_20/554016_325619.png')], [WindowsPath('../../ITUData/Google/tiles/Aarhus10/tiles/static/256_20/554016_325620.png')], [WindowsPath('../../ITUData/Google/tiles/Aarhus10/tiles/static/256_20/554016_325621.png')], [WindowsPath('../../ITUData/Google/tiles/Aarhus10/tiles/static/256_20/554016_325622.png')], [WindowsPath('../../ITUData/Google/tiles/Aarhus10/tiles/static/256_20/554016_325623.png')], [WindowsPath('../../ITUData/Google/tiles/Aarhus10/tiles/static/256_20/554016_325624.png')], [WindowsPath('../../ITUData/Google/tiles/Aarhus10/tiles/static/256_20/554016_325625.png')], [WindowsPath('../../ITUData/Google/tiles/Aarhus10/tiles/static/256_20/554016_325626.png')], [WindowsPath('../../ITUData/Google/tiles/Aarhus10/tiles/static/256_20/554016_325627.png')], [WindowsPath('../../ITUData/Google/tiles/Aarhus10/tiles/static/256_20/554016_325628.png')], [WindowsPath('../../ITUData/Google/tiles/Aarhus10/tiles/static/256_20/554016_325629.png')], [WindowsPath('../../ITUData/Google/tiles/Aarhus10/tiles/static/256_20/554016_325630.png')], [WindowsPath('../../ITUData/Google/tiles/Aarhus10/tiles/static/256_20/554016_325631.png')], [WindowsPath('../../ITUData/Google/tiles/Aarhus10/tiles/static/256_20/554016_325632.png')], [WindowsPath('../../ITUData/Google/tiles/Aarhus10/tiles/static/256_20/554017_325618.png')], [WindowsPath('../../ITUData/Google/tiles/Aarhus10/tiles/static/256_20/554017_325619.png')], [WindowsPath('../../ITUData/Google/tiles/Aarhus10/tiles/static/256_20/554017_325620.png')], [WindowsPath('../../ITUData/Google/tiles/Aarhus10/tiles/static/256_20/554017_325621.png')], [WindowsPath('../../ITUData/Google/tiles/Aarhus10/tiles/static/256_20/554017_325622.png')], [WindowsPath('../../ITUData/Google/tiles/Aarhus10/tiles/static/256_20/554017_325623.png')], [WindowsPath('../../ITUData/Google/tiles/Aarhus10/tiles/static/256_20/554017_325624.png')], [WindowsPath('../../ITUData/Google/tiles/Aarhus10/tiles/static/256_20/554017_325625.png')], [WindowsPath('../../ITUData/Google/tiles/Aarhus10/tiles/static/256_20/554017_325626.png')], [WindowsPath('../../ITUData/Google/tiles/Aarhus10/tiles/static/256_20/554017_325627.png')], [WindowsPath('../../ITUData/Google/tiles/Aarhus10/tiles/static/256_20/554017_325628.png')], [WindowsPath('../../ITUData/Google/tiles/Aarhus10/tiles/static/256_20/554017_325629.png')], [WindowsPath('../../ITUData/Google/tiles/Aarhus10/tiles/static/256_20/554017_325630.png')], [WindowsPath('../../ITUData/Google/tiles/Aarhus10/tiles/static/256_20/554017_325631.png')], [WindowsPath('../../ITUData/Google/tiles/Aarhus10/tiles/static/256_20/554017_325632.png')], [WindowsPath('../../ITUData/Google/tiles/Aarhus10/tiles/static/256_20/554018_325618.png')], [WindowsPath('../../ITUData/Google/tiles/Aarhus10/tiles/static/256_20/554018_325619.png')], [WindowsPath('../../ITUData/Google/tiles/Aarhus10/tiles/static/256_20/554018_325620.png')], [WindowsPath('../../ITUData/Google/tiles/Aarhus10/tiles/static/256_20/554018_325621.png')], [WindowsPath('../../ITUData/Google/tiles/Aarhus10/tiles/static/256_20/554018_325622.png')], [WindowsPath('../../ITUData/Google/tiles/Aarhus10/tiles/static/256_20/554018_325623.png')], [WindowsPath('../../ITUData/Google/tiles/Aarhus10/tiles/static/256_20/554018_325624.png')], [WindowsPath('../../ITUData/Google/tiles/Aarhus10/tiles/static/256_20/554018_325625.png')], [WindowsPath('../../ITUData/Google/tiles/Aarhus10/tiles/static/256_20/554018_325626.png')], [WindowsPath('../../ITUData/Google/tiles/Aarhus10/tiles/static/256_20/554018_325627.png')], [WindowsPath('../../ITUData/Google/tiles/Aarhus10/tiles/static/256_20/554018_325628.png')], [WindowsPath('../../ITUData/Google/tiles/Aarhus10/tiles/static/256_20/554018_325629.png')], [WindowsPath('../../ITUData/Google/tiles/Aarhus10/tiles/static/256_20/554018_325630.png')], [WindowsPath('../../ITUData/Google/tiles/Aarhus10/tiles/static/256_20/554018_325631.png')], [WindowsPath('../../ITUData/Google/tiles/Aarhus10/tiles/static/256_20/554018_325632.png')], [WindowsPath('../../ITUData/Google/tiles/Aarhus10/tiles/static/256_20/554019_325618.png')], [WindowsPath('../../ITUData/Google/tiles/Aarhus10/tiles/static/256_20/554019_325619.png')], [WindowsPath('../../ITUData/Google/tiles/Aarhus10/tiles/static/256_20/554019_325620.png')], [WindowsPath('../../ITUData/Google/tiles/Aarhus10/tiles/static/256_20/554019_325621.png')], [WindowsPath('../../ITUData/Google/tiles/Aarhus10/tiles/static/256_20/554019_325622.png')], [WindowsPath('../../ITUData/Google/tiles/Aarhus10/tiles/static/256_20/554019_325623.png')], [WindowsPath('../../ITUData/Google/tiles/Aarhus10/tiles/static/256_20/554019_325624.png')], [WindowsPath('../../ITUData/Google/tiles/Aarhus10/tiles/static/256_20/554019_325625.png')], [WindowsPath('../../ITUData/Google/tiles/Aarhus10/tiles/static/256_20/554019_325626.png')], [WindowsPath('../../ITUData/Google/tiles/Aarhus10/tiles/static/256_20/554019_325627.png')], [WindowsPath('../../ITUData/Google/tiles/Aarhus10/tiles/static/256_20/554019_325628.png')], [WindowsPath('../../ITUData/Google/tiles/Aarhus10/tiles/static/256_20/554019_325629.png')], [WindowsPath('../../ITUData/Google/tiles/Aarhus10/tiles/static/256_20/554019_325630.png')], [WindowsPath('../../ITUData/Google/tiles/Aarhus10/tiles/static/256_20/554019_325631.png')], [WindowsPath('../../ITUData/Google/tiles/Aarhus10/tiles/static/256_20/554019_325632.png')], [WindowsPath('../../ITUData/Google/tiles/Aarhus10/tiles/static/256_20/554020_325618.png')], [WindowsPath('../../ITUData/Google/tiles/Aarhus10/tiles/static/256_20/554020_325619.png')], [WindowsPath('../../ITUData/Google/tiles/Aarhus10/tiles/static/256_20/554020_325620.png')], [WindowsPath('../../ITUData/Google/tiles/Aarhus10/tiles/static/256_20/554020_325621.png')], [WindowsPath('../../ITUData/Google/tiles/Aarhus10/tiles/static/256_20/554020_325622.png')], [WindowsPath('../../ITUData/Google/tiles/Aarhus10/tiles/static/256_20/554020_325623.png')], [WindowsPath('../../ITUData/Google/tiles/Aarhus10/tiles/static/256_20/554020_325624.png')], [WindowsPath('../../ITUData/Google/tiles/Aarhus10/tiles/static/256_20/554020_325625.png')], [WindowsPath('../../ITUData/Google/tiles/Aarhus10/tiles/static/256_20/554020_325626.png')], [WindowsPath('../../ITUData/Google/tiles/Aarhus10/tiles/static/256_20/554020_325627.png')], [WindowsPath('../../ITUData/Google/tiles/Aarhus10/tiles/static/256_20/554020_325628.png')], [WindowsPath('../../ITUData/Google/tiles/Aarhus10/tiles/static/256_20/554020_325629.png')], [WindowsPath('../../ITUData/Google/tiles/Aarhus10/tiles/static/256_20/554020_325630.png')], [WindowsPath('../../ITUData/Google/tiles/Aarhus10/tiles/static/256_20/554020_325631.png')], [WindowsPath('../../ITUData/Google/tiles/Aarhus10/tiles/static/256_20/554020_325632.png')], [WindowsPath('../../ITUData/Google/tiles/Aarhus10/tiles/static/256_20/554021_325618.png')], [WindowsPath('../../ITUData/Google/tiles/Aarhus10/tiles/static/256_20/554021_325619.png')], [WindowsPath('../../ITUData/Google/tiles/Aarhus10/tiles/static/256_20/554021_325620.png')], [WindowsPath('../../ITUData/Google/tiles/Aarhus10/tiles/static/256_20/554021_325621.png')], [WindowsPath('../../ITUData/Google/tiles/Aarhus10/tiles/static/256_20/554021_325622.png')], [WindowsPath('../../ITUData/Google/tiles/Aarhus10/tiles/static/256_20/554021_325623.png')], [WindowsPath('../../ITUData/Google/tiles/Aarhus10/tiles/static/256_20/554021_325624.png')], [WindowsPath('../../ITUData/Google/tiles/Aarhus10/tiles/static/256_20/554021_325625.png')], [WindowsPath('../../ITUData/Google/tiles/Aarhus10/tiles/static/256_20/554021_325626.png')], [WindowsPath('../../ITUData/Google/tiles/Aarhus10/tiles/static/256_20/554021_325627.png')], [WindowsPath('../../ITUData/Google/tiles/Aarhus10/tiles/static/256_20/554021_325628.png')], [WindowsPath('../../ITUData/Google/tiles/Aarhus10/tiles/static/256_20/554021_325629.png')], [WindowsPath('../../ITUData/Google/tiles/Aarhus10/tiles/static/256_20/554021_325630.png')], [WindowsPath('../../ITUData/Google/tiles/Aarhus10/tiles/static/256_20/554021_325631.png')], [WindowsPath('../../ITUData/Google/tiles/Aarhus10/tiles/static/256_20/554021_325632.png')]]\n"
     ]
    },
    {
     "name": "stderr",
     "output_type": "stream",
     "text": [
      "           Stitching 313 tiles...                 : 100%|██████████| 313/313 [00:04<00:00, 68.52it/s]\n",
      "INFO       Dumping to C:\\Users\\Nielsen\\AppData\\Local\\Temp\\tile2net\\Aarhus10\\tiles\\Aarhus10_256_info.json\n"
     ]
    },
    {
     "name": "stdout",
     "output_type": "stream",
     "text": [
      "{\n",
      "    \"config\": \"C:\\\\Users\\\\Nielsen\\\\Desktop\\\\tile2net\\\\tile2net-main\\\\src\\\\tile2net\\\\tileseg\\\\config.py\",\n",
      "    \"assets\": {\n",
      "        \"weights\": {\n",
      "            \"satellite_2021\": \"C:\\\\Users\\\\Nielsen\\\\Desktop\\\\tile2net\\\\tile2net-main\\\\src\\\\tile2net\\\\raster\\\\resources\\\\assets\\\\weights\\\\satellite_2021.pth\",\n",
      "            \"hrnetv2_w48_imagenet_pretrained\": \"C:\\\\Users\\\\Nielsen\\\\Desktop\\\\tile2net\\\\tile2net-main\\\\src\\\\tile2net\\\\raster\\\\resources\\\\assets\\\\weights\\\\hrnetv2_w48_imagenet_pretrained.pth\"\n",
      "        }\n",
      "    },\n",
      "    \"segmentation\": \"C:\\\\Users\\\\Nielsen\\\\AppData\\\\Local\\\\Temp\\\\tile2net\\\\Aarhus10\\\\segmentation\\\\Aarhus10\\\\256_20_1\",\n",
      "    \"tiles\": {\n",
      "        \"info\": \"C:\\\\Users\\\\Nielsen\\\\AppData\\\\Local\\\\Temp\\\\tile2net\\\\Aarhus10\\\\tiles\\\\Aarhus10_256_info.json\",\n",
      "        \"static\": \"..\\\\..\\\\ITUData/Google/tiles/Aarhus10/tiles/static/256_20\",\n",
      "        \"stitched\": \"C:\\\\Users\\\\Nielsen\\\\AppData\\\\Local\\\\Temp\\\\tile2net\\\\Aarhus10\\\\tiles\\\\stitched\\\\256_20_1\"\n",
      "    },\n",
      "    \"polygons\": \"C:\\\\Users\\\\Nielsen\\\\AppData\\\\Local\\\\Temp\\\\tile2net\\\\Aarhus10\\\\polygons\",\n",
      "    \"network\": \"C:\\\\Users\\\\Nielsen\\\\AppData\\\\Local\\\\Temp\\\\tile2net\\\\Aarhus10\\\\network\",\n",
      "    \"name\": \"Aarhus10\"\n",
      "}"
     ]
    }
   ],
   "source": [
    "#Stitching tiles \n",
    "raster.generate(1)"
   ]
  },
  {
   "cell_type": "code",
   "execution_count": 23,
   "metadata": {},
   "outputs": [
    {
     "name": "stderr",
     "output_type": "stream",
     "text": [
      "INFO       Running ['python', '-m', 'tile2net', 'inference', '--city_info', 'C:\\\\Users\\\\Nielsen\\\\AppData\\\\Local\\\\Temp\\\\tile2net\\\\Aarhus10\\\\tiles\\\\Aarhus10_256_info.json', '--interactive', '--dump_percent', '0']\n"
     ]
    }
   ],
   "source": [
    "#Segmentation\n",
    "raster.inference()"
   ]
  }
 ],
 "metadata": {
  "kernelspec": {
   "display_name": "mitTest",
   "language": "python",
   "name": "python3"
  },
  "language_info": {
   "codemirror_mode": {
    "name": "ipython",
    "version": 3
   },
   "file_extension": ".py",
   "mimetype": "text/x-python",
   "name": "python",
   "nbconvert_exporter": "python",
   "pygments_lexer": "ipython3",
   "version": "3.10.9"
  }
 },
 "nbformat": 4,
 "nbformat_minor": 2
}
