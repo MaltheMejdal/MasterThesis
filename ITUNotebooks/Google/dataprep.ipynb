{
 "cells": [
  {
   "cell_type": "markdown",
   "metadata": {},
   "source": [
    "## Preperation of data for Aarhus locations using Google Tiles API"
   ]
  },
  {
   "cell_type": "code",
   "execution_count": 1,
   "metadata": {},
   "outputs": [],
   "source": [
    "import os\n",
    "currentDirectory = os.getcwd()\n",
    "parentDirectory = os.path.dirname(currentDirectory)\n",
    "os.chdir(parentDirectory)\n",
    "from helperFunctions import dataprepGoogle as dp\n",
    "apiKeyTile = \"Deleted\"\n"
   ]
  },
  {
   "cell_type": "markdown",
   "metadata": {},
   "source": [
    "### Aarhus Location 1"
   ]
  },
  {
   "cell_type": "code",
   "execution_count": 4,
   "metadata": {},
   "outputs": [
    {
     "name": "stdout",
     "output_type": "stream",
     "text": [
      "Directory 'C:\\Users\\Nielsen\\Desktop\\tile2net\\tile2net-main\\ITUData\\Google\\tiles\\Aarhus1\\tiles\\static\\256_18' created successfully.\n"
     ]
    },
    {
     "name": "stderr",
     "output_type": "stream",
     "text": [
      "Downloading tiles: 100%|██████████| 21/21 [00:06<00:00,  3.09it/s, Tile=138499,81428]\n"
     ]
    }
   ],
   "source": [
    "\n",
    "locName = \"Aarhus1\"\n",
    "zoom = 20\n",
    "resolution=256\n",
    "min_lat = 56.15460857439466\n",
    "min_lon = 10.192037972762382\n",
    "max_lat = 56.15581114830297\n",
    "max_lon = 10.199668652079422\n",
    "\n",
    "output_dir = dp.createDirectory(locName,resolution,zoom)\n",
    "sessionToken = dp.get_session_token(apiKeyTile)\n",
    "dp.getTiles(zoom, min_lat, min_lon, max_lat, max_lon, output_dir,apiKeyTile,sessionToken)\n"
   ]
  },
  {
   "cell_type": "markdown",
   "metadata": {},
   "source": [
    "### Aarhus Location 2"
   ]
  },
  {
   "cell_type": "code",
   "execution_count": 9,
   "metadata": {},
   "outputs": [
    {
     "name": "stdout",
     "output_type": "stream",
     "text": [
      "Directory 'C:\\Users\\Nielsen\\Desktop\\tile2net\\tile2net-main\\ITUData\\Aarhus2\\tiles\\static\\256_20' created successfully.\n"
     ]
    },
    {
     "name": "stderr",
     "output_type": "stream",
     "text": [
      "Downloading tiles: 100%|██████████| 364/364 [01:35<00:00,  3.83it/s, Tile=554041,325704]\n"
     ]
    }
   ],
   "source": [
    "apiKeyTile = \"Deleted\"\n",
    "locName = \"Aarhus2\"\n",
    "zoom = 20\n",
    "resolution=256\n",
    "min_lat = 56.156187\n",
    "min_lon = 10.205695\n",
    "max_lat = 56.158453\n",
    "max_lon = 10.215011\n",
    "\n",
    "output_dir = dp.createDirectory(locName,resolution,zoom)\n",
    "sessionToken = dp.get_session_token(apiKeyTile)\n",
    "dp.getTiles(zoom, min_lat, min_lon, max_lat, max_lon, output_dir,apiKeyTile,sessionToken)"
   ]
  },
  {
   "cell_type": "markdown",
   "metadata": {},
   "source": [
    "### Aarhus Location 3"
   ]
  },
  {
   "cell_type": "code",
   "execution_count": 10,
   "metadata": {},
   "outputs": [
    {
     "name": "stdout",
     "output_type": "stream",
     "text": [
      "Directory 'C:\\Users\\Nielsen\\Desktop\\tile2net\\tile2net-main\\ITUData\\Aarhus3\\tiles\\static\\256_20' created successfully.\n"
     ]
    },
    {
     "name": "stderr",
     "output_type": "stream",
     "text": [
      "Downloading tiles: 100%|██████████| 112/112 [00:29<00:00,  3.85it/s, Tile=554006,325734]\n"
     ]
    }
   ],
   "source": [
    "apiKeyTile = \"Deleted\"\n",
    "locName = \"Aarhus3\"\n",
    "zoom = 20\n",
    "resolution=256\n",
    "min_lat = 56.150489\n",
    "min_lon = 10.200536\n",
    "max_lat = 56.153002\n",
    "max_lon = 10.203170\n",
    "\n",
    "output_dir = dp.createDirectory(locName,resolution,zoom)\n",
    "sessionToken = dp.get_session_token(apiKeyTile)\n",
    "dp.getTiles(zoom, min_lat, min_lon, max_lat, max_lon, output_dir,apiKeyTile,sessionToken)"
   ]
  },
  {
   "cell_type": "markdown",
   "metadata": {},
   "source": [
    "### Aarhus Location 4"
   ]
  },
  {
   "cell_type": "code",
   "execution_count": 11,
   "metadata": {},
   "outputs": [
    {
     "name": "stdout",
     "output_type": "stream",
     "text": [
      "Directory 'C:\\Users\\Nielsen\\Desktop\\tile2net\\tile2net-main\\ITUData\\Aarhus4\\tiles\\static\\256_20' created successfully.\n"
     ]
    },
    {
     "name": "stderr",
     "output_type": "stream",
     "text": [
      "Downloading tiles: 100%|██████████| 170/170 [00:47<00:00,  3.56it/s, Tile=553911,325901]\n"
     ]
    }
   ],
   "source": [
    "apiKeyTile = \"Deleted\"\n",
    "locName = \"Aarhus4\"\n",
    "zoom = 20\n",
    "resolution=256\n",
    "min_lat = 56.118386\n",
    "min_lon = 10.164849\n",
    "max_lat = 56.120276\n",
    "max_lon = 10.170586\n",
    "\n",
    "output_dir = dp.createDirectory(locName,resolution,zoom)\n",
    "sessionToken = dp.get_session_token(apiKeyTile)\n",
    "dp.getTiles(zoom, min_lat, min_lon, max_lat, max_lon, output_dir,apiKeyTile,sessionToken)"
   ]
  },
  {
   "cell_type": "markdown",
   "metadata": {},
   "source": [
    "### Aarhus Location 5"
   ]
  },
  {
   "cell_type": "code",
   "execution_count": 12,
   "metadata": {},
   "outputs": [
    {
     "name": "stdout",
     "output_type": "stream",
     "text": [
      "Directory 'C:\\Users\\Nielsen\\Desktop\\tile2net\\tile2net-main\\ITUData\\Aarhus5\\tiles\\static\\256_20' created successfully.\n"
     ]
    },
    {
     "name": "stderr",
     "output_type": "stream",
     "text": [
      "Downloading tiles: 100%|██████████| 144/144 [00:37<00:00,  3.83it/s, Tile=554010,325666]\n"
     ]
    }
   ],
   "source": [
    "apiKeyTile = \"Deleted\"\n",
    "locName = \"Aarhus5\"\n",
    "zoom = 20\n",
    "resolution=256\n",
    "min_lat = 56.163398782270036\n",
    "min_lon = 10.198736640761304\n",
    "max_lat = 56.1647425825998\n",
    "max_lon = 10.204391561692129\n",
    "\n",
    "output_dir = dp.createDirectory(locName,resolution,zoom)\n",
    "sessionToken = dp.get_session_token(apiKeyTile)\n",
    "dp.getTiles(zoom, min_lat, min_lon, max_lat, max_lon, output_dir,apiKeyTile,sessionToken)"
   ]
  },
  {
   "cell_type": "markdown",
   "metadata": {},
   "source": [
    "### Aarhus Location 6"
   ]
  },
  {
   "cell_type": "code",
   "execution_count": 2,
   "metadata": {},
   "outputs": [
    {
     "name": "stdout",
     "output_type": "stream",
     "text": [
      "Directory 'C:\\Users\\Nielsen\\Desktop\\tile2net\\tile2net-main\\ITUData\\Google\\tiles\\Aarhus6\\tiles\\static\\256_20' created successfully.\n"
     ]
    },
    {
     "name": "stderr",
     "output_type": "stream",
     "text": [
      "Downloading tiles: 100%|██████████| 56/56 [00:14<00:00,  3.76it/s, Tile=553936,325726]\n"
     ]
    }
   ],
   "source": [
    "apiKeyTile = \"Deleted\"\n",
    "locName = \"Aarhus6\"\n",
    "zoom = 20\n",
    "resolution=256\n",
    "\n",
    "min_lat = 56.152007478084\n",
    "min_lon = 10.174611799198795\n",
    "max_lat = 56.1526169327911\n",
    "max_lon = 10.178922904780872\n",
    "\n",
    "output_dir = dp.createDirectory(locName,resolution,zoom)\n",
    "sessionToken = dp.get_session_token(apiKeyTile)\n",
    "dp.getTiles(zoom, min_lat, min_lon, max_lat, max_lon, output_dir,apiKeyTile,sessionToken)"
   ]
  },
  {
   "cell_type": "markdown",
   "metadata": {},
   "source": [
    "### Aarhus Location 7"
   ]
  },
  {
   "cell_type": "code",
   "execution_count": 3,
   "metadata": {},
   "outputs": [
    {
     "name": "stdout",
     "output_type": "stream",
     "text": [
      "Directory 'C:\\Users\\Nielsen\\Desktop\\tile2net\\tile2net-main\\ITUData\\Google\\tiles\\Aarhus7\\tiles\\static\\256_20' created successfully.\n"
     ]
    },
    {
     "name": "stderr",
     "output_type": "stream",
     "text": [
      "Downloading tiles: 100%|██████████| 72/72 [00:19<00:00,  3.70it/s, Tile=553994,325745]\n"
     ]
    }
   ],
   "source": [
    "apiKeyTile = \"Deleted\"\n",
    "locName = \"Aarhus7\"\n",
    "zoom = 20\n",
    "resolution=256\n",
    "\n",
    "\n",
    "min_lat = 56.148271024352155\n",
    "min_lon = 10.19649253706056\n",
    "max_lat = 56.149863137461246\n",
    "max_lon = 10.199021330423378\n",
    "\n",
    "output_dir = dp.createDirectory(locName,resolution,zoom)\n",
    "sessionToken = dp.get_session_token(apiKeyTile)\n",
    "dp.getTiles(zoom, min_lat, min_lon, max_lat, max_lon, output_dir,apiKeyTile,sessionToken)"
   ]
  },
  {
   "cell_type": "markdown",
   "metadata": {},
   "source": [
    "### Aarhus Location 8"
   ]
  },
  {
   "cell_type": "code",
   "execution_count": 2,
   "metadata": {},
   "outputs": [
    {
     "name": "stdout",
     "output_type": "stream",
     "text": [
      "Directory 'C:\\Users\\Nielsen\\Desktop\\tile2net\\tile2net-main\\ITUData\\Google\\tiles\\Aarhus8\\tiles\\static\\256_20' already exists.\n"
     ]
    },
    {
     "name": "stderr",
     "output_type": "stream",
     "text": [
      "Downloading tiles: 100%|██████████| 176/176 [00:44<00:00,  3.99it/s, Tile=554032,325717]\n"
     ]
    }
   ],
   "source": [
    "apiKeyTile = \"Deleted\"\n",
    "locName = \"Aarhus8\"\n",
    "zoom = 20\n",
    "resolution=256\n",
    "min_lat = 56.15360096906168\n",
    "min_lon = 10.206846771775682\n",
    "max_lat = 56.15567952555418\n",
    "max_lon = 10.211953549016059\n",
    "\n",
    "output_dir = dp.createDirectory(locName,resolution,zoom)\n",
    "sessionToken = dp.get_session_token(apiKeyTile)\n",
    "dp.getTiles(zoom, min_lat, min_lon, max_lat, max_lon, output_dir,apiKeyTile,sessionToken)"
   ]
  },
  {
   "cell_type": "markdown",
   "metadata": {},
   "source": [
    "### Aarhus Location 9"
   ]
  },
  {
   "cell_type": "code",
   "execution_count": 5,
   "metadata": {},
   "outputs": [
    {
     "name": "stdout",
     "output_type": "stream",
     "text": [
      "Directory 'C:\\Users\\Nielsen\\Desktop\\tile2net\\tile2net-main\\ITUData\\Google\\tiles\\Aarhus9\\tiles\\static\\256_20' created successfully.\n"
     ]
    },
    {
     "name": "stderr",
     "output_type": "stream",
     "text": [
      "Downloading tiles: 100%|██████████| 286/286 [01:22<00:00,  3.47it/s, Tile=553972,325681]\n"
     ]
    }
   ],
   "source": [
    "apiKeyTile = \"Deleted\"\n",
    "locName = \"Aarhus9\"\n",
    "zoom = 20\n",
    "resolution=256\n",
    "\n",
    "min_lat = 56.160607081288674\n",
    "min_lon = 10.187318637760086\n",
    "max_lat = 56.16451973269344\n",
    "max_lon = 10.191431201754146\n",
    "\n",
    "output_dir = dp.createDirectory(locName,resolution,zoom)\n",
    "sessionToken = dp.get_session_token(apiKeyTile)\n",
    "dp.getTiles(zoom, min_lat, min_lon, max_lat, max_lon, output_dir,apiKeyTile,sessionToken)"
   ]
  },
  {
   "cell_type": "markdown",
   "metadata": {},
   "source": [
    "### Aarhus Location 10"
   ]
  },
  {
   "cell_type": "code",
   "execution_count": 3,
   "metadata": {},
   "outputs": [
    {
     "name": "stdout",
     "output_type": "stream",
     "text": [
      "Directory 'C:\\Users\\Nielsen\\Desktop\\tile2net\\tile2net-main\\ITUData\\Google\\tiles\\Aarhus10\\tiles\\static\\256_20' already exists.\n"
     ]
    },
    {
     "name": "stderr",
     "output_type": "stream",
     "text": [
      "Downloading tiles: 100%|██████████| 315/315 [01:18<00:00,  3.99it/s, Tile=554021,325632]\n"
     ]
    }
   ],
   "source": [
    "apiKeyTile = \"Deleted\"\n",
    "locName = \"Aarhus10\"\n",
    "zoom = 20\n",
    "resolution=256\n",
    "\n",
    "min_lat = 56.16994914071068\n",
    "min_lon = 10.201318214312574\n",
    "max_lat = 56.1725284201622\n",
    "max_lon = 10.20817583862707\n",
    "\n",
    "output_dir = dp.createDirectory(locName,resolution,zoom)\n",
    "sessionToken = dp.get_session_token(apiKeyTile)\n",
    "dp.getTiles(zoom, min_lat, min_lon, max_lat, max_lon, output_dir,apiKeyTile,sessionToken)"
   ]
  }
 ],
 "metadata": {
  "kernelspec": {
   "display_name": "mitTest",
   "language": "python",
   "name": "python3"
  },
  "language_info": {
   "codemirror_mode": {
    "name": "ipython",
    "version": 3
   },
   "file_extension": ".py",
   "mimetype": "text/x-python",
   "name": "python",
   "nbconvert_exporter": "python",
   "pygments_lexer": "ipython3",
   "version": "3.10.9"
  }
 },
 "nbformat": 4,
 "nbformat_minor": 2
}
