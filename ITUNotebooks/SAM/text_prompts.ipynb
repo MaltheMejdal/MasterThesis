{
  "cells": [
    {
      "cell_type": "markdown",
      "metadata": {
        "id": "Swau5jreIwsW"
      },
      "source": [
        "# Segmenting remote sensing imagery with text prompts and the Segment Anything Model (SAM)\n",
        "\n",
        "[![image](https://studiolab.sagemaker.aws/studiolab.svg)](https://studiolab.sagemaker.aws/import/github/opengeos/segment-geospatial/blob/main/docs/examples/text_prompts.ipynb)\n",
        "[![image](https://img.shields.io/badge/Open-Planetary%20Computer-black?style=flat&logo=microsoft)](https://pccompute.westeurope.cloudapp.azure.com/compute/hub/user-redirect/git-pull?repo=https://github.com/opengeos/segment-geospatial&urlpath=lab/tree/segment-geospatial/docs/examples/text_prompts.ipynb&branch=main)\n",
        "[![image](https://colab.research.google.com/assets/colab-badge.svg)](https://colab.research.google.com/github/opengeos/segment-geospatial/blob/main/docs/examples/text_prompts.ipynb)\n",
        "\n",
        "This notebook shows how to generate object masks from text prompts with the Segment Anything Model (SAM).\n",
        "\n",
        "Make sure you use GPU runtime for this notebook. For Google Colab, go to `Runtime` -> `Change runtime type` and select `GPU` as the hardware accelerator."
      ]
    },
    {
      "cell_type": "markdown",
      "metadata": {
        "id": "d-JC6K6rIwsY"
      },
      "source": [
        "## Install dependencies\n",
        "\n",
        "Uncomment and run the following cell to install the required dependencies."
      ]
    },
    {
      "cell_type": "code",
      "execution_count": 1,
      "metadata": {
        "colab": {
          "base_uri": "https://localhost:8080/"
        },
        "id": "ezb-epGXIwsY",
        "outputId": "dbe4dbc9-af6a-403f-a800-be478fb03e96"
      },
      "outputs": [
        {
          "name": "stdout",
          "output_type": "stream",
          "text": [
            "Requirement already satisfied: segment-geospatial in c:\\users\\mmejd\\appdata\\local\\packages\\pythonsoftwarefoundation.python.3.11_qbz5n2kfra8p0\\localcache\\local-packages\\python311\\site-packages (0.10.2)\n",
            "Collecting groundingdino-py\n",
            "  Downloading groundingdino-py-0.4.0.tar.gz (82 kB)\n",
            "     ---------------------------------------- 0.0/82.3 kB ? eta -:--:--\n",
            "     -------------- ----------------------- 30.7/82.3 kB 660.6 kB/s eta 0:00:01\n",
            "     -------------------------------------- 82.3/82.3 kB 924.3 kB/s eta 0:00:00\n",
            "  Installing build dependencies: started\n",
            "  Installing build dependencies: finished with status 'done'\n",
            "  Getting requirements to build wheel: started\n",
            "  Getting requirements to build wheel: finished with status 'done'\n",
            "  Preparing metadata (pyproject.toml): started\n",
            "  Preparing metadata (pyproject.toml): finished with status 'done'\n",
            "Requirement already satisfied: leafmap in c:\\users\\mmejd\\appdata\\local\\packages\\pythonsoftwarefoundation.python.3.11_qbz5n2kfra8p0\\localcache\\local-packages\\python311\\site-packages (0.31.3)\n",
            "Requirement already satisfied: localtileserver in c:\\users\\mmejd\\appdata\\local\\packages\\pythonsoftwarefoundation.python.3.11_qbz5n2kfra8p0\\localcache\\local-packages\\python311\\site-packages (0.10.1)\n",
            "Requirement already satisfied: segment-anything-py in c:\\users\\mmejd\\appdata\\local\\packages\\pythonsoftwarefoundation.python.3.11_qbz5n2kfra8p0\\localcache\\local-packages\\python311\\site-packages (from segment-geospatial) (1.0)\n",
            "Requirement already satisfied: segment-anything-hq in c:\\users\\mmejd\\appdata\\local\\packages\\pythonsoftwarefoundation.python.3.11_qbz5n2kfra8p0\\localcache\\local-packages\\python311\\site-packages (from segment-geospatial) (0.3)\n",
            "Requirement already satisfied: opencv-python in c:\\users\\mmejd\\appdata\\local\\packages\\pythonsoftwarefoundation.python.3.11_qbz5n2kfra8p0\\localcache\\local-packages\\python311\\site-packages (from segment-geospatial) (4.9.0.80)\n",
            "Requirement already satisfied: pycocotools in c:\\users\\mmejd\\appdata\\local\\packages\\pythonsoftwarefoundation.python.3.11_qbz5n2kfra8p0\\localcache\\local-packages\\python311\\site-packages (from segment-geospatial) (2.0.7)\n",
            "Requirement already satisfied: matplotlib in c:\\users\\mmejd\\appdata\\local\\packages\\pythonsoftwarefoundation.python.3.11_qbz5n2kfra8p0\\localcache\\local-packages\\python311\\site-packages (from segment-geospatial) (3.8.1)\n",
            "Requirement already satisfied: huggingface-hub in c:\\users\\mmejd\\appdata\\local\\packages\\pythonsoftwarefoundation.python.3.11_qbz5n2kfra8p0\\localcache\\local-packages\\python311\\site-packages (from segment-geospatial) (0.21.1)\n",
            "Requirement already satisfied: geopandas in c:\\users\\mmejd\\appdata\\local\\packages\\pythonsoftwarefoundation.python.3.11_qbz5n2kfra8p0\\localcache\\local-packages\\python311\\site-packages (from segment-geospatial) (0.14.3)\n",
            "Requirement already satisfied: rasterio in c:\\users\\mmejd\\appdata\\local\\packages\\pythonsoftwarefoundation.python.3.11_qbz5n2kfra8p0\\localcache\\local-packages\\python311\\site-packages (from segment-geospatial) (1.3.9)\n",
            "Requirement already satisfied: tqdm in c:\\users\\mmejd\\appdata\\local\\packages\\pythonsoftwarefoundation.python.3.11_qbz5n2kfra8p0\\localcache\\local-packages\\python311\\site-packages (from segment-geospatial) (4.66.1)\n",
            "Requirement already satisfied: gdown in c:\\users\\mmejd\\appdata\\local\\packages\\pythonsoftwarefoundation.python.3.11_qbz5n2kfra8p0\\localcache\\local-packages\\python311\\site-packages (from segment-geospatial) (5.1.0)\n",
            "Requirement already satisfied: xyzservices in c:\\users\\mmejd\\appdata\\local\\packages\\pythonsoftwarefoundation.python.3.11_qbz5n2kfra8p0\\localcache\\local-packages\\python311\\site-packages (from segment-geospatial) (2023.10.1)\n",
            "Requirement already satisfied: pyproj in c:\\users\\mmejd\\appdata\\local\\packages\\pythonsoftwarefoundation.python.3.11_qbz5n2kfra8p0\\localcache\\local-packages\\python311\\site-packages (from segment-geospatial) (3.6.1)\n",
            "Requirement already satisfied: timm in c:\\users\\mmejd\\appdata\\local\\packages\\pythonsoftwarefoundation.python.3.11_qbz5n2kfra8p0\\localcache\\local-packages\\python311\\site-packages (from segment-geospatial) (0.9.16)\n",
            "Requirement already satisfied: torch in c:\\users\\mmejd\\appdata\\local\\packages\\pythonsoftwarefoundation.python.3.11_qbz5n2kfra8p0\\localcache\\local-packages\\python311\\site-packages (from groundingdino-py) (2.2.1)\n",
            "Requirement already satisfied: torchvision in c:\\users\\mmejd\\appdata\\local\\packages\\pythonsoftwarefoundation.python.3.11_qbz5n2kfra8p0\\localcache\\local-packages\\python311\\site-packages (from groundingdino-py) (0.17.1)\n",
            "Collecting transformers (from groundingdino-py)\n",
            "  Downloading transformers-4.41.2-py3-none-any.whl.metadata (43 kB)\n",
            "     ---------------------------------------- 0.0/43.8 kB ? eta -:--:--\n",
            "     ---------------------------------------- 43.8/43.8 kB 2.2 MB/s eta 0:00:00\n",
            "Collecting addict (from groundingdino-py)\n",
            "  Downloading addict-2.4.0-py3-none-any.whl.metadata (1.0 kB)\n",
            "Collecting yapf (from groundingdino-py)\n",
            "  Downloading yapf-0.40.2-py3-none-any.whl.metadata (45 kB)\n",
            "     ---------------------------------------- 0.0/45.4 kB ? eta -:--:--\n",
            "     ---------------------------------------- 45.4/45.4 kB 2.2 MB/s eta 0:00:00\n",
            "Requirement already satisfied: numpy in c:\\users\\mmejd\\appdata\\local\\packages\\pythonsoftwarefoundation.python.3.11_qbz5n2kfra8p0\\localcache\\local-packages\\python311\\site-packages (from groundingdino-py) (1.26.1)\n",
            "Collecting supervision==0.6.0 (from groundingdino-py)\n",
            "  Downloading supervision-0.6.0-py3-none-any.whl.metadata (6.2 kB)\n",
            "Requirement already satisfied: bqplot in c:\\users\\mmejd\\appdata\\local\\packages\\pythonsoftwarefoundation.python.3.11_qbz5n2kfra8p0\\localcache\\local-packages\\python311\\site-packages (from leafmap) (0.12.43)\n",
            "Requirement already satisfied: colour in c:\\users\\mmejd\\appdata\\local\\packages\\pythonsoftwarefoundation.python.3.11_qbz5n2kfra8p0\\localcache\\local-packages\\python311\\site-packages (from leafmap) (0.1.5)\n",
            "Requirement already satisfied: duckdb in c:\\users\\mmejd\\appdata\\local\\packages\\pythonsoftwarefoundation.python.3.11_qbz5n2kfra8p0\\localcache\\local-packages\\python311\\site-packages (from leafmap) (0.10.0)\n",
            "Requirement already satisfied: folium in c:\\users\\mmejd\\appdata\\local\\packages\\pythonsoftwarefoundation.python.3.11_qbz5n2kfra8p0\\localcache\\local-packages\\python311\\site-packages (from leafmap) (0.15.1)\n",
            "Requirement already satisfied: geojson in c:\\users\\mmejd\\appdata\\local\\packages\\pythonsoftwarefoundation.python.3.11_qbz5n2kfra8p0\\localcache\\local-packages\\python311\\site-packages (from leafmap) (3.1.0)\n",
            "Requirement already satisfied: ipyevents in c:\\users\\mmejd\\appdata\\local\\packages\\pythonsoftwarefoundation.python.3.11_qbz5n2kfra8p0\\localcache\\local-packages\\python311\\site-packages (from leafmap) (2.0.2)\n",
            "Requirement already satisfied: ipyfilechooser in c:\\users\\mmejd\\appdata\\local\\packages\\pythonsoftwarefoundation.python.3.11_qbz5n2kfra8p0\\localcache\\local-packages\\python311\\site-packages (from leafmap) (0.6.0)\n",
            "Requirement already satisfied: ipyleaflet in c:\\users\\mmejd\\appdata\\local\\packages\\pythonsoftwarefoundation.python.3.11_qbz5n2kfra8p0\\localcache\\local-packages\\python311\\site-packages (from leafmap) (0.18.2)\n",
            "Requirement already satisfied: ipywidgets in c:\\users\\mmejd\\appdata\\local\\packages\\pythonsoftwarefoundation.python.3.11_qbz5n2kfra8p0\\localcache\\local-packages\\python311\\site-packages (from leafmap) (8.1.2)\n",
            "Requirement already satisfied: pandas in c:\\users\\mmejd\\appdata\\local\\packages\\pythonsoftwarefoundation.python.3.11_qbz5n2kfra8p0\\localcache\\local-packages\\python311\\site-packages (from leafmap) (2.1.3)\n",
            "Requirement already satisfied: plotly in c:\\users\\mmejd\\appdata\\local\\packages\\pythonsoftwarefoundation.python.3.11_qbz5n2kfra8p0\\localcache\\local-packages\\python311\\site-packages (from leafmap) (5.19.0)\n",
            "Requirement already satisfied: pyshp in c:\\users\\mmejd\\appdata\\local\\packages\\pythonsoftwarefoundation.python.3.11_qbz5n2kfra8p0\\localcache\\local-packages\\python311\\site-packages (from leafmap) (2.3.1)\n",
            "Requirement already satisfied: pystac-client in c:\\users\\mmejd\\appdata\\local\\packages\\pythonsoftwarefoundation.python.3.11_qbz5n2kfra8p0\\localcache\\local-packages\\python311\\site-packages (from leafmap) (0.7.5)\n",
            "Requirement already satisfied: python-box in c:\\users\\mmejd\\appdata\\local\\packages\\pythonsoftwarefoundation.python.3.11_qbz5n2kfra8p0\\localcache\\local-packages\\python311\\site-packages (from leafmap) (7.1.1)\n",
            "Requirement already satisfied: scooby in c:\\users\\mmejd\\appdata\\local\\packages\\pythonsoftwarefoundation.python.3.11_qbz5n2kfra8p0\\localcache\\local-packages\\python311\\site-packages (from leafmap) (0.9.2)\n",
            "Requirement already satisfied: whiteboxgui in c:\\users\\mmejd\\appdata\\local\\packages\\pythonsoftwarefoundation.python.3.11_qbz5n2kfra8p0\\localcache\\local-packages\\python311\\site-packages (from leafmap) (2.3.0)\n",
            "Requirement already satisfied: click in c:\\users\\mmejd\\appdata\\local\\packages\\pythonsoftwarefoundation.python.3.11_qbz5n2kfra8p0\\localcache\\local-packages\\python311\\site-packages (from localtileserver) (8.1.7)\n",
            "Requirement already satisfied: flask<4,>=2.0.0 in c:\\users\\mmejd\\appdata\\local\\packages\\pythonsoftwarefoundation.python.3.11_qbz5n2kfra8p0\\localcache\\local-packages\\python311\\site-packages (from localtileserver) (3.0.2)\n",
            "Requirement already satisfied: Flask-Caching in c:\\users\\mmejd\\appdata\\local\\packages\\pythonsoftwarefoundation.python.3.11_qbz5n2kfra8p0\\localcache\\local-packages\\python311\\site-packages (from localtileserver) (2.1.0)\n",
            "Requirement already satisfied: flask-cors in c:\\users\\mmejd\\appdata\\local\\packages\\pythonsoftwarefoundation.python.3.11_qbz5n2kfra8p0\\localcache\\local-packages\\python311\\site-packages (from localtileserver) (4.0.0)\n",
            "Requirement already satisfied: flask-restx>=0.5.0 in c:\\users\\mmejd\\appdata\\local\\packages\\pythonsoftwarefoundation.python.3.11_qbz5n2kfra8p0\\localcache\\local-packages\\python311\\site-packages (from localtileserver) (1.3.0)\n",
            "Requirement already satisfied: rio-tiler in c:\\users\\mmejd\\appdata\\local\\packages\\pythonsoftwarefoundation.python.3.11_qbz5n2kfra8p0\\localcache\\local-packages\\python311\\site-packages (from localtileserver) (6.4.1)\n",
            "Requirement already satisfied: rio-cogeo in c:\\users\\mmejd\\appdata\\local\\packages\\pythonsoftwarefoundation.python.3.11_qbz5n2kfra8p0\\localcache\\local-packages\\python311\\site-packages (from localtileserver) (5.2.0)\n",
            "Requirement already satisfied: requests in c:\\users\\mmejd\\appdata\\local\\packages\\pythonsoftwarefoundation.python.3.11_qbz5n2kfra8p0\\localcache\\local-packages\\python311\\site-packages (from localtileserver) (2.31.0)\n",
            "Requirement already satisfied: server-thread in c:\\users\\mmejd\\appdata\\local\\packages\\pythonsoftwarefoundation.python.3.11_qbz5n2kfra8p0\\localcache\\local-packages\\python311\\site-packages (from localtileserver) (0.2.0)\n",
            "Requirement already satisfied: werkzeug in c:\\users\\mmejd\\appdata\\local\\packages\\pythonsoftwarefoundation.python.3.11_qbz5n2kfra8p0\\localcache\\local-packages\\python311\\site-packages (from localtileserver) (3.0.1)\n",
            "Requirement already satisfied: Jinja2>=3.1.2 in c:\\users\\mmejd\\appdata\\local\\packages\\pythonsoftwarefoundation.python.3.11_qbz5n2kfra8p0\\localcache\\local-packages\\python311\\site-packages (from flask<4,>=2.0.0->localtileserver) (3.1.2)\n",
            "Requirement already satisfied: itsdangerous>=2.1.2 in c:\\users\\mmejd\\appdata\\local\\packages\\pythonsoftwarefoundation.python.3.11_qbz5n2kfra8p0\\localcache\\local-packages\\python311\\site-packages (from flask<4,>=2.0.0->localtileserver) (2.1.2)\n",
            "Requirement already satisfied: blinker>=1.6.2 in c:\\users\\mmejd\\appdata\\local\\packages\\pythonsoftwarefoundation.python.3.11_qbz5n2kfra8p0\\localcache\\local-packages\\python311\\site-packages (from flask<4,>=2.0.0->localtileserver) (1.7.0)\n",
            "Requirement already satisfied: colorama in c:\\users\\mmejd\\appdata\\local\\packages\\pythonsoftwarefoundation.python.3.11_qbz5n2kfra8p0\\localcache\\local-packages\\python311\\site-packages (from click->localtileserver) (0.4.6)\n",
            "Requirement already satisfied: aniso8601>=0.82 in c:\\users\\mmejd\\appdata\\local\\packages\\pythonsoftwarefoundation.python.3.11_qbz5n2kfra8p0\\localcache\\local-packages\\python311\\site-packages (from flask-restx>=0.5.0->localtileserver) (9.0.1)\n",
            "Requirement already satisfied: jsonschema in c:\\users\\mmejd\\appdata\\local\\packages\\pythonsoftwarefoundation.python.3.11_qbz5n2kfra8p0\\localcache\\local-packages\\python311\\site-packages (from flask-restx>=0.5.0->localtileserver) (4.21.1)\n",
            "Requirement already satisfied: pytz in c:\\users\\mmejd\\appdata\\local\\packages\\pythonsoftwarefoundation.python.3.11_qbz5n2kfra8p0\\localcache\\local-packages\\python311\\site-packages (from flask-restx>=0.5.0->localtileserver) (2023.3.post1)\n",
            "Requirement already satisfied: importlib-resources in c:\\users\\mmejd\\appdata\\local\\packages\\pythonsoftwarefoundation.python.3.11_qbz5n2kfra8p0\\localcache\\local-packages\\python311\\site-packages (from flask-restx>=0.5.0->localtileserver) (6.1.2)\n",
            "Requirement already satisfied: MarkupSafe>=2.1.1 in c:\\users\\mmejd\\appdata\\local\\packages\\pythonsoftwarefoundation.python.3.11_qbz5n2kfra8p0\\localcache\\local-packages\\python311\\site-packages (from werkzeug->localtileserver) (2.1.3)\n",
            "Requirement already satisfied: traitlets>=4.3.0 in c:\\users\\mmejd\\appdata\\local\\packages\\pythonsoftwarefoundation.python.3.11_qbz5n2kfra8p0\\localcache\\local-packages\\python311\\site-packages (from bqplot->leafmap) (5.11.2)\n",
            "Requirement already satisfied: traittypes>=0.0.6 in c:\\users\\mmejd\\appdata\\local\\packages\\pythonsoftwarefoundation.python.3.11_qbz5n2kfra8p0\\localcache\\local-packages\\python311\\site-packages (from bqplot->leafmap) (0.2.1)\n",
            "Requirement already satisfied: comm>=0.1.3 in c:\\users\\mmejd\\appdata\\local\\packages\\pythonsoftwarefoundation.python.3.11_qbz5n2kfra8p0\\localcache\\local-packages\\python311\\site-packages (from ipywidgets->leafmap) (0.1.4)\n",
            "Requirement already satisfied: ipython>=6.1.0 in c:\\users\\mmejd\\appdata\\local\\packages\\pythonsoftwarefoundation.python.3.11_qbz5n2kfra8p0\\localcache\\local-packages\\python311\\site-packages (from ipywidgets->leafmap) (8.16.1)\n",
            "Requirement already satisfied: widgetsnbextension~=4.0.10 in c:\\users\\mmejd\\appdata\\local\\packages\\pythonsoftwarefoundation.python.3.11_qbz5n2kfra8p0\\localcache\\local-packages\\python311\\site-packages (from ipywidgets->leafmap) (4.0.10)\n",
            "Requirement already satisfied: jupyterlab-widgets~=3.0.10 in c:\\users\\mmejd\\appdata\\local\\packages\\pythonsoftwarefoundation.python.3.11_qbz5n2kfra8p0\\localcache\\local-packages\\python311\\site-packages (from ipywidgets->leafmap) (3.0.10)\n",
            "Requirement already satisfied: python-dateutil>=2.8.2 in c:\\users\\mmejd\\appdata\\local\\packages\\pythonsoftwarefoundation.python.3.11_qbz5n2kfra8p0\\localcache\\local-packages\\python311\\site-packages (from pandas->leafmap) (2.8.2)\n",
            "Requirement already satisfied: tzdata>=2022.1 in c:\\users\\mmejd\\appdata\\local\\packages\\pythonsoftwarefoundation.python.3.11_qbz5n2kfra8p0\\localcache\\local-packages\\python311\\site-packages (from pandas->leafmap) (2023.3)\n",
            "Requirement already satisfied: cachelib<0.10.0,>=0.9.0 in c:\\users\\mmejd\\appdata\\local\\packages\\pythonsoftwarefoundation.python.3.11_qbz5n2kfra8p0\\localcache\\local-packages\\python311\\site-packages (from Flask-Caching->localtileserver) (0.9.0)\n",
            "Requirement already satisfied: branca>=0.6.0 in c:\\users\\mmejd\\appdata\\local\\packages\\pythonsoftwarefoundation.python.3.11_qbz5n2kfra8p0\\localcache\\local-packages\\python311\\site-packages (from folium->leafmap) (0.7.1)\n",
            "Requirement already satisfied: beautifulsoup4 in c:\\users\\mmejd\\appdata\\local\\packages\\pythonsoftwarefoundation.python.3.11_qbz5n2kfra8p0\\localcache\\local-packages\\python311\\site-packages (from gdown->segment-geospatial) (4.12.3)\n",
            "Requirement already satisfied: filelock in c:\\users\\mmejd\\appdata\\local\\packages\\pythonsoftwarefoundation.python.3.11_qbz5n2kfra8p0\\localcache\\local-packages\\python311\\site-packages (from gdown->segment-geospatial) (3.13.1)\n",
            "Requirement already satisfied: fiona>=1.8.21 in c:\\users\\mmejd\\appdata\\local\\packages\\pythonsoftwarefoundation.python.3.11_qbz5n2kfra8p0\\localcache\\local-packages\\python311\\site-packages (from geopandas->segment-geospatial) (1.9.5)\n",
            "Requirement already satisfied: packaging in c:\\users\\mmejd\\appdata\\local\\packages\\pythonsoftwarefoundation.python.3.11_qbz5n2kfra8p0\\localcache\\local-packages\\python311\\site-packages (from geopandas->segment-geospatial) (23.2)\n",
            "Requirement already satisfied: shapely>=1.8.0 in c:\\users\\mmejd\\appdata\\local\\packages\\pythonsoftwarefoundation.python.3.11_qbz5n2kfra8p0\\localcache\\local-packages\\python311\\site-packages (from geopandas->segment-geospatial) (2.0.1)\n",
            "Requirement already satisfied: certifi in c:\\users\\mmejd\\appdata\\local\\packages\\pythonsoftwarefoundation.python.3.11_qbz5n2kfra8p0\\localcache\\local-packages\\python311\\site-packages (from pyproj->segment-geospatial) (2023.11.17)\n",
            "Requirement already satisfied: fsspec>=2023.5.0 in c:\\users\\mmejd\\appdata\\local\\packages\\pythonsoftwarefoundation.python.3.11_qbz5n2kfra8p0\\localcache\\local-packages\\python311\\site-packages (from huggingface-hub->segment-geospatial) (2023.10.0)\n",
            "Requirement already satisfied: pyyaml>=5.1 in c:\\users\\mmejd\\appdata\\local\\packages\\pythonsoftwarefoundation.python.3.11_qbz5n2kfra8p0\\localcache\\local-packages\\python311\\site-packages (from huggingface-hub->segment-geospatial) (6.0.1)\n",
            "Requirement already satisfied: typing-extensions>=3.7.4.3 in c:\\users\\mmejd\\appdata\\local\\packages\\pythonsoftwarefoundation.python.3.11_qbz5n2kfra8p0\\localcache\\local-packages\\python311\\site-packages (from huggingface-hub->segment-geospatial) (4.8.0)\n",
            "Requirement already satisfied: contourpy>=1.0.1 in c:\\users\\mmejd\\appdata\\local\\packages\\pythonsoftwarefoundation.python.3.11_qbz5n2kfra8p0\\localcache\\local-packages\\python311\\site-packages (from matplotlib->segment-geospatial) (1.2.0)\n",
            "Requirement already satisfied: cycler>=0.10 in c:\\users\\mmejd\\appdata\\local\\packages\\pythonsoftwarefoundation.python.3.11_qbz5n2kfra8p0\\localcache\\local-packages\\python311\\site-packages (from matplotlib->segment-geospatial) (0.12.1)\n",
            "Requirement already satisfied: fonttools>=4.22.0 in c:\\users\\mmejd\\appdata\\local\\packages\\pythonsoftwarefoundation.python.3.11_qbz5n2kfra8p0\\localcache\\local-packages\\python311\\site-packages (from matplotlib->segment-geospatial) (4.44.0)\n",
            "Requirement already satisfied: kiwisolver>=1.3.1 in c:\\users\\mmejd\\appdata\\local\\packages\\pythonsoftwarefoundation.python.3.11_qbz5n2kfra8p0\\localcache\\local-packages\\python311\\site-packages (from matplotlib->segment-geospatial) (1.4.5)\n",
            "Requirement already satisfied: pillow>=8 in c:\\users\\mmejd\\appdata\\local\\packages\\pythonsoftwarefoundation.python.3.11_qbz5n2kfra8p0\\localcache\\local-packages\\python311\\site-packages (from matplotlib->segment-geospatial) (10.0.1)\n",
            "Requirement already satisfied: pyparsing>=2.3.1 in c:\\users\\mmejd\\appdata\\local\\packages\\pythonsoftwarefoundation.python.3.11_qbz5n2kfra8p0\\localcache\\local-packages\\python311\\site-packages (from matplotlib->segment-geospatial) (3.1.1)\n",
            "Requirement already satisfied: tenacity>=6.2.0 in c:\\users\\mmejd\\appdata\\local\\packages\\pythonsoftwarefoundation.python.3.11_qbz5n2kfra8p0\\localcache\\local-packages\\python311\\site-packages (from plotly->leafmap) (8.2.3)\n",
            "Requirement already satisfied: pystac>=1.8.2 in c:\\users\\mmejd\\appdata\\local\\packages\\pythonsoftwarefoundation.python.3.11_qbz5n2kfra8p0\\localcache\\local-packages\\python311\\site-packages (from pystac[validation]>=1.8.2->pystac-client->leafmap) (1.9.0)\n",
            "Requirement already satisfied: charset-normalizer<4,>=2 in c:\\users\\mmejd\\appdata\\local\\packages\\pythonsoftwarefoundation.python.3.11_qbz5n2kfra8p0\\localcache\\local-packages\\python311\\site-packages (from requests->localtileserver) (3.3.2)\n",
            "Requirement already satisfied: idna<4,>=2.5 in c:\\users\\mmejd\\appdata\\local\\packages\\pythonsoftwarefoundation.python.3.11_qbz5n2kfra8p0\\localcache\\local-packages\\python311\\site-packages (from requests->localtileserver) (3.6)\n",
            "Requirement already satisfied: urllib3<3,>=1.21.1 in c:\\users\\mmejd\\appdata\\local\\packages\\pythonsoftwarefoundation.python.3.11_qbz5n2kfra8p0\\localcache\\local-packages\\python311\\site-packages (from requests->localtileserver) (2.1.0)\n",
            "Requirement already satisfied: affine in c:\\users\\mmejd\\appdata\\local\\packages\\pythonsoftwarefoundation.python.3.11_qbz5n2kfra8p0\\localcache\\local-packages\\python311\\site-packages (from rasterio->segment-geospatial) (2.4.0)\n",
            "Requirement already satisfied: attrs in c:\\users\\mmejd\\appdata\\local\\packages\\pythonsoftwarefoundation.python.3.11_qbz5n2kfra8p0\\localcache\\local-packages\\python311\\site-packages (from rasterio->segment-geospatial) (23.2.0)\n",
            "Requirement already satisfied: cligj>=0.5 in c:\\users\\mmejd\\appdata\\local\\packages\\pythonsoftwarefoundation.python.3.11_qbz5n2kfra8p0\\localcache\\local-packages\\python311\\site-packages (from rasterio->segment-geospatial) (0.7.2)\n",
            "Requirement already satisfied: snuggs>=1.4.1 in c:\\users\\mmejd\\appdata\\local\\packages\\pythonsoftwarefoundation.python.3.11_qbz5n2kfra8p0\\localcache\\local-packages\\python311\\site-packages (from rasterio->segment-geospatial) (1.4.7)\n",
            "Requirement already satisfied: click-plugins in c:\\users\\mmejd\\appdata\\local\\packages\\pythonsoftwarefoundation.python.3.11_qbz5n2kfra8p0\\localcache\\local-packages\\python311\\site-packages (from rasterio->segment-geospatial) (1.1.1)\n",
            "Requirement already satisfied: setuptools in c:\\program files\\windowsapps\\pythonsoftwarefoundation.python.3.11_3.11.2544.0_x64__qbz5n2kfra8p0\\lib\\site-packages (from rasterio->segment-geospatial) (65.5.0)\n",
            "Requirement already satisfied: morecantile<6.0,>=5.0 in c:\\users\\mmejd\\appdata\\local\\packages\\pythonsoftwarefoundation.python.3.11_qbz5n2kfra8p0\\localcache\\local-packages\\python311\\site-packages (from rio-cogeo->localtileserver) (5.3.0)\n",
            "Requirement already satisfied: pydantic~=2.0 in c:\\users\\mmejd\\appdata\\local\\packages\\pythonsoftwarefoundation.python.3.11_qbz5n2kfra8p0\\localcache\\local-packages\\python311\\site-packages (from rio-cogeo->localtileserver) (2.6.3)\n",
            "Requirement already satisfied: cachetools in c:\\users\\mmejd\\appdata\\local\\packages\\pythonsoftwarefoundation.python.3.11_qbz5n2kfra8p0\\localcache\\local-packages\\python311\\site-packages (from rio-tiler->localtileserver) (5.3.3)\n",
            "Requirement already satisfied: color-operations in c:\\users\\mmejd\\appdata\\local\\packages\\pythonsoftwarefoundation.python.3.11_qbz5n2kfra8p0\\localcache\\local-packages\\python311\\site-packages (from rio-tiler->localtileserver) (0.1.1)\n",
            "Requirement already satisfied: httpx in c:\\users\\mmejd\\appdata\\local\\packages\\pythonsoftwarefoundation.python.3.11_qbz5n2kfra8p0\\localcache\\local-packages\\python311\\site-packages (from rio-tiler->localtileserver) (0.27.0)\n",
            "Requirement already satisfied: numexpr in c:\\users\\mmejd\\appdata\\local\\packages\\pythonsoftwarefoundation.python.3.11_qbz5n2kfra8p0\\localcache\\local-packages\\python311\\site-packages (from rio-tiler->localtileserver) (2.9.0)\n",
            "Requirement already satisfied: sympy in c:\\users\\mmejd\\appdata\\local\\packages\\pythonsoftwarefoundation.python.3.11_qbz5n2kfra8p0\\localcache\\local-packages\\python311\\site-packages (from torch->groundingdino-py) (1.12)\n",
            "Requirement already satisfied: networkx in c:\\users\\mmejd\\appdata\\local\\packages\\pythonsoftwarefoundation.python.3.11_qbz5n2kfra8p0\\localcache\\local-packages\\python311\\site-packages (from torch->groundingdino-py) (3.2.1)\n",
            "Requirement already satisfied: uvicorn in c:\\users\\mmejd\\appdata\\local\\packages\\pythonsoftwarefoundation.python.3.11_qbz5n2kfra8p0\\localcache\\local-packages\\python311\\site-packages (from server-thread->localtileserver) (0.27.1)\n",
            "Requirement already satisfied: safetensors in c:\\users\\mmejd\\appdata\\local\\packages\\pythonsoftwarefoundation.python.3.11_qbz5n2kfra8p0\\localcache\\local-packages\\python311\\site-packages (from timm->segment-geospatial) (0.4.2)\n",
            "Collecting huggingface-hub (from segment-geospatial)\n",
            "  Downloading huggingface_hub-0.23.2-py3-none-any.whl.metadata (12 kB)\n",
            "Collecting regex!=2019.12.17 (from transformers->groundingdino-py)\n",
            "  Downloading regex-2024.5.15-cp311-cp311-win_amd64.whl.metadata (41 kB)\n",
            "     ---------------------------------------- 0.0/42.0 kB ? eta -:--:--\n",
            "     ---------------------------------------- 42.0/42.0 kB 2.0 MB/s eta 0:00:00\n",
            "Collecting tokenizers<0.20,>=0.19 (from transformers->groundingdino-py)\n",
            "  Downloading tokenizers-0.19.1-cp311-none-win_amd64.whl.metadata (6.9 kB)\n",
            "Requirement already satisfied: ipytree in c:\\users\\mmejd\\appdata\\local\\packages\\pythonsoftwarefoundation.python.3.11_qbz5n2kfra8p0\\localcache\\local-packages\\python311\\site-packages (from whiteboxgui->leafmap) (0.2.2)\n",
            "Requirement already satisfied: whitebox in c:\\users\\mmejd\\appdata\\local\\packages\\pythonsoftwarefoundation.python.3.11_qbz5n2kfra8p0\\localcache\\local-packages\\python311\\site-packages (from whiteboxgui->leafmap) (2.3.1)\n",
            "Collecting importlib-metadata>=6.6.0 (from yapf->groundingdino-py)\n",
            "  Downloading importlib_metadata-7.1.0-py3-none-any.whl.metadata (4.7 kB)\n",
            "Requirement already satisfied: platformdirs>=3.5.1 in c:\\users\\mmejd\\appdata\\local\\packages\\pythonsoftwarefoundation.python.3.11_qbz5n2kfra8p0\\localcache\\local-packages\\python311\\site-packages (from yapf->groundingdino-py) (3.11.0)\n",
            "Collecting tomli>=2.0.1 (from yapf->groundingdino-py)\n",
            "  Downloading tomli-2.0.1-py3-none-any.whl.metadata (8.9 kB)\n",
            "Requirement already satisfied: six in c:\\users\\mmejd\\appdata\\local\\packages\\pythonsoftwarefoundation.python.3.11_qbz5n2kfra8p0\\localcache\\local-packages\\python311\\site-packages (from fiona>=1.8.21->geopandas->segment-geospatial) (1.16.0)\n",
            "Collecting zipp>=0.5 (from importlib-metadata>=6.6.0->yapf->groundingdino-py)\n",
            "  Downloading zipp-3.19.1-py3-none-any.whl.metadata (3.5 kB)\n",
            "Requirement already satisfied: backcall in c:\\users\\mmejd\\appdata\\local\\packages\\pythonsoftwarefoundation.python.3.11_qbz5n2kfra8p0\\localcache\\local-packages\\python311\\site-packages (from ipython>=6.1.0->ipywidgets->leafmap) (0.2.0)\n",
            "Requirement already satisfied: decorator in c:\\users\\mmejd\\appdata\\local\\packages\\pythonsoftwarefoundation.python.3.11_qbz5n2kfra8p0\\localcache\\local-packages\\python311\\site-packages (from ipython>=6.1.0->ipywidgets->leafmap) (4.4.2)\n",
            "Requirement already satisfied: jedi>=0.16 in c:\\users\\mmejd\\appdata\\local\\packages\\pythonsoftwarefoundation.python.3.11_qbz5n2kfra8p0\\localcache\\local-packages\\python311\\site-packages (from ipython>=6.1.0->ipywidgets->leafmap) (0.19.1)\n",
            "Requirement already satisfied: matplotlib-inline in c:\\users\\mmejd\\appdata\\local\\packages\\pythonsoftwarefoundation.python.3.11_qbz5n2kfra8p0\\localcache\\local-packages\\python311\\site-packages (from ipython>=6.1.0->ipywidgets->leafmap) (0.1.6)\n",
            "Requirement already satisfied: pickleshare in c:\\users\\mmejd\\appdata\\local\\packages\\pythonsoftwarefoundation.python.3.11_qbz5n2kfra8p0\\localcache\\local-packages\\python311\\site-packages (from ipython>=6.1.0->ipywidgets->leafmap) (0.7.5)\n",
            "Requirement already satisfied: prompt-toolkit!=3.0.37,<3.1.0,>=3.0.30 in c:\\users\\mmejd\\appdata\\local\\packages\\pythonsoftwarefoundation.python.3.11_qbz5n2kfra8p0\\localcache\\local-packages\\python311\\site-packages (from ipython>=6.1.0->ipywidgets->leafmap) (3.0.39)\n",
            "Requirement already satisfied: pygments>=2.4.0 in c:\\users\\mmejd\\appdata\\local\\packages\\pythonsoftwarefoundation.python.3.11_qbz5n2kfra8p0\\localcache\\local-packages\\python311\\site-packages (from ipython>=6.1.0->ipywidgets->leafmap) (2.16.1)\n",
            "Requirement already satisfied: stack-data in c:\\users\\mmejd\\appdata\\local\\packages\\pythonsoftwarefoundation.python.3.11_qbz5n2kfra8p0\\localcache\\local-packages\\python311\\site-packages (from ipython>=6.1.0->ipywidgets->leafmap) (0.6.3)\n",
            "Requirement already satisfied: annotated-types>=0.4.0 in c:\\users\\mmejd\\appdata\\local\\packages\\pythonsoftwarefoundation.python.3.11_qbz5n2kfra8p0\\localcache\\local-packages\\python311\\site-packages (from pydantic~=2.0->rio-cogeo->localtileserver) (0.6.0)\n",
            "Requirement already satisfied: pydantic-core==2.16.3 in c:\\users\\mmejd\\appdata\\local\\packages\\pythonsoftwarefoundation.python.3.11_qbz5n2kfra8p0\\localcache\\local-packages\\python311\\site-packages (from pydantic~=2.0->rio-cogeo->localtileserver) (2.16.3)\n",
            "Requirement already satisfied: jsonschema-specifications>=2023.03.6 in c:\\users\\mmejd\\appdata\\local\\packages\\pythonsoftwarefoundation.python.3.11_qbz5n2kfra8p0\\localcache\\local-packages\\python311\\site-packages (from jsonschema->flask-restx>=0.5.0->localtileserver) (2023.12.1)\n",
            "Requirement already satisfied: referencing>=0.28.4 in c:\\users\\mmejd\\appdata\\local\\packages\\pythonsoftwarefoundation.python.3.11_qbz5n2kfra8p0\\localcache\\local-packages\\python311\\site-packages (from jsonschema->flask-restx>=0.5.0->localtileserver) (0.33.0)\n",
            "Requirement already satisfied: rpds-py>=0.7.1 in c:\\users\\mmejd\\appdata\\local\\packages\\pythonsoftwarefoundation.python.3.11_qbz5n2kfra8p0\\localcache\\local-packages\\python311\\site-packages (from jsonschema->flask-restx>=0.5.0->localtileserver) (0.18.0)\n",
            "Requirement already satisfied: soupsieve>1.2 in c:\\users\\mmejd\\appdata\\local\\packages\\pythonsoftwarefoundation.python.3.11_qbz5n2kfra8p0\\localcache\\local-packages\\python311\\site-packages (from beautifulsoup4->gdown->segment-geospatial) (2.5)\n",
            "Requirement already satisfied: anyio in c:\\users\\mmejd\\appdata\\local\\packages\\pythonsoftwarefoundation.python.3.11_qbz5n2kfra8p0\\localcache\\local-packages\\python311\\site-packages (from httpx->rio-tiler->localtileserver) (4.3.0)\n",
            "Requirement already satisfied: httpcore==1.* in c:\\users\\mmejd\\appdata\\local\\packages\\pythonsoftwarefoundation.python.3.11_qbz5n2kfra8p0\\localcache\\local-packages\\python311\\site-packages (from httpx->rio-tiler->localtileserver) (1.0.4)\n",
            "Requirement already satisfied: sniffio in c:\\users\\mmejd\\appdata\\local\\packages\\pythonsoftwarefoundation.python.3.11_qbz5n2kfra8p0\\localcache\\local-packages\\python311\\site-packages (from httpx->rio-tiler->localtileserver) (1.3.1)\n",
            "Requirement already satisfied: h11<0.15,>=0.13 in c:\\users\\mmejd\\appdata\\local\\packages\\pythonsoftwarefoundation.python.3.11_qbz5n2kfra8p0\\localcache\\local-packages\\python311\\site-packages (from httpcore==1.*->httpx->rio-tiler->localtileserver) (0.14.0)\n",
            "Requirement already satisfied: PySocks!=1.5.7,>=1.5.6 in c:\\users\\mmejd\\appdata\\local\\packages\\pythonsoftwarefoundation.python.3.11_qbz5n2kfra8p0\\localcache\\local-packages\\python311\\site-packages (from requests[socks]->gdown->segment-geospatial) (1.7.1)\n",
            "Requirement already satisfied: mpmath>=0.19 in c:\\users\\mmejd\\appdata\\local\\packages\\pythonsoftwarefoundation.python.3.11_qbz5n2kfra8p0\\localcache\\local-packages\\python311\\site-packages (from sympy->torch->groundingdino-py) (1.3.0)\n",
            "Requirement already satisfied: parso<0.9.0,>=0.8.3 in c:\\users\\mmejd\\appdata\\local\\packages\\pythonsoftwarefoundation.python.3.11_qbz5n2kfra8p0\\localcache\\local-packages\\python311\\site-packages (from jedi>=0.16->ipython>=6.1.0->ipywidgets->leafmap) (0.8.3)\n",
            "Requirement already satisfied: wcwidth in c:\\users\\mmejd\\appdata\\local\\packages\\pythonsoftwarefoundation.python.3.11_qbz5n2kfra8p0\\localcache\\local-packages\\python311\\site-packages (from prompt-toolkit!=3.0.37,<3.1.0,>=3.0.30->ipython>=6.1.0->ipywidgets->leafmap) (0.2.8)\n",
            "Requirement already satisfied: executing>=1.2.0 in c:\\users\\mmejd\\appdata\\local\\packages\\pythonsoftwarefoundation.python.3.11_qbz5n2kfra8p0\\localcache\\local-packages\\python311\\site-packages (from stack-data->ipython>=6.1.0->ipywidgets->leafmap) (2.0.0)\n",
            "Requirement already satisfied: asttokens>=2.1.0 in c:\\users\\mmejd\\appdata\\local\\packages\\pythonsoftwarefoundation.python.3.11_qbz5n2kfra8p0\\localcache\\local-packages\\python311\\site-packages (from stack-data->ipython>=6.1.0->ipywidgets->leafmap) (2.4.0)\n",
            "Requirement already satisfied: pure-eval in c:\\users\\mmejd\\appdata\\local\\packages\\pythonsoftwarefoundation.python.3.11_qbz5n2kfra8p0\\localcache\\local-packages\\python311\\site-packages (from stack-data->ipython>=6.1.0->ipywidgets->leafmap) (0.2.2)\n",
            "Downloading supervision-0.6.0-py3-none-any.whl (31 kB)\n",
            "Downloading addict-2.4.0-py3-none-any.whl (3.8 kB)\n",
            "Downloading transformers-4.41.2-py3-none-any.whl (9.1 MB)\n",
            "   ---------------------------------------- 0.0/9.1 MB ? eta -:--:--\n",
            "    --------------------------------------- 0.2/9.1 MB 3.1 MB/s eta 0:00:03\n",
            "   - -------------------------------------- 0.3/9.1 MB 3.8 MB/s eta 0:00:03\n",
            "   -- ------------------------------------- 0.5/9.1 MB 3.3 MB/s eta 0:00:03\n",
            "   -- ------------------------------------- 0.6/9.1 MB 3.4 MB/s eta 0:00:03\n",
            "   --- ------------------------------------ 0.7/9.1 MB 3.6 MB/s eta 0:00:03\n",
            "   --- ------------------------------------ 0.9/9.1 MB 3.5 MB/s eta 0:00:03\n",
            "   ---- ----------------------------------- 1.0/9.1 MB 3.7 MB/s eta 0:00:03\n",
            "   ----- ---------------------------------- 1.3/9.1 MB 3.7 MB/s eta 0:00:03\n",
            "   ------ --------------------------------- 1.4/9.1 MB 3.8 MB/s eta 0:00:03\n",
            "   ------- -------------------------------- 1.6/9.1 MB 3.8 MB/s eta 0:00:02\n",
            "   -------- ------------------------------- 1.8/9.1 MB 3.9 MB/s eta 0:00:02\n",
            "   -------- ------------------------------- 2.0/9.1 MB 3.9 MB/s eta 0:00:02\n",
            "   --------- ------------------------------ 2.2/9.1 MB 3.9 MB/s eta 0:00:02\n",
            "   ---------- ----------------------------- 2.4/9.1 MB 4.0 MB/s eta 0:00:02\n",
            "   ----------- ---------------------------- 2.6/9.1 MB 4.0 MB/s eta 0:00:02\n",
            "   ------------ --------------------------- 2.7/9.1 MB 4.0 MB/s eta 0:00:02\n",
            "   ------------ --------------------------- 2.9/9.1 MB 4.1 MB/s eta 0:00:02\n",
            "   ------------- -------------------------- 3.2/9.1 MB 4.0 MB/s eta 0:00:02\n",
            "   --------------- ------------------------ 3.4/9.1 MB 4.2 MB/s eta 0:00:02\n",
            "   ---------------- ----------------------- 3.7/9.1 MB 4.2 MB/s eta 0:00:02\n",
            "   ---------------- ----------------------- 3.9/9.1 MB 4.2 MB/s eta 0:00:02\n",
            "   ----------------- ---------------------- 4.0/9.1 MB 4.2 MB/s eta 0:00:02\n",
            "   ------------------ --------------------- 4.2/9.1 MB 4.3 MB/s eta 0:00:02\n",
            "   ------------------- -------------------- 4.5/9.1 MB 4.3 MB/s eta 0:00:02\n",
            "   -------------------- ------------------- 4.7/9.1 MB 4.4 MB/s eta 0:00:01\n",
            "   --------------------- ------------------ 4.9/9.1 MB 4.4 MB/s eta 0:00:01\n",
            "   ---------------------- ----------------- 5.2/9.1 MB 4.4 MB/s eta 0:00:01\n",
            "   ----------------------- ---------------- 5.4/9.1 MB 4.4 MB/s eta 0:00:01\n",
            "   ------------------------ --------------- 5.7/9.1 MB 4.5 MB/s eta 0:00:01\n",
            "   -------------------------- ------------- 6.0/9.1 MB 4.5 MB/s eta 0:00:01\n",
            "   --------------------------- ------------ 6.2/9.1 MB 4.5 MB/s eta 0:00:01\n",
            "   ---------------------------- ----------- 6.4/9.1 MB 4.6 MB/s eta 0:00:01\n",
            "   ----------------------------- ---------- 6.7/9.1 MB 4.7 MB/s eta 0:00:01\n",
            "   ------------------------------ --------- 6.9/9.1 MB 4.7 MB/s eta 0:00:01\n",
            "   ------------------------------- -------- 7.2/9.1 MB 4.8 MB/s eta 0:00:01\n",
            "   -------------------------------- ------- 7.4/9.1 MB 4.8 MB/s eta 0:00:01\n",
            "   --------------------------------- ------ 7.7/9.1 MB 4.8 MB/s eta 0:00:01\n",
            "   ---------------------------------- ----- 7.9/9.1 MB 4.8 MB/s eta 0:00:01\n",
            "   ----------------------------------- ---- 8.2/9.1 MB 4.8 MB/s eta 0:00:01\n",
            "   ------------------------------------- -- 8.4/9.1 MB 4.9 MB/s eta 0:00:01\n",
            "   -------------------------------------- - 8.8/9.1 MB 4.9 MB/s eta 0:00:01\n",
            "   ---------------------------------------  9.1/9.1 MB 5.0 MB/s eta 0:00:01\n",
            "   ---------------------------------------- 9.1/9.1 MB 4.9 MB/s eta 0:00:00\n",
            "Downloading huggingface_hub-0.23.2-py3-none-any.whl (401 kB)\n",
            "   ---------------------------------------- 0.0/401.7 kB ? eta -:--:--\n",
            "   ----------------------- ---------------- 235.5/401.7 kB 4.8 MB/s eta 0:00:01\n",
            "   ---------------------------------------- 401.7/401.7 kB 4.2 MB/s eta 0:00:00\n",
            "Downloading yapf-0.40.2-py3-none-any.whl (254 kB)\n",
            "   ---------------------------------------- 0.0/254.7 kB ? eta -:--:--\n",
            "   -------------------------------------- - 245.8/254.7 kB 7.4 MB/s eta 0:00:01\n",
            "   ---------------------------------------- 254.7/254.7 kB 5.2 MB/s eta 0:00:00\n",
            "Downloading importlib_metadata-7.1.0-py3-none-any.whl (24 kB)\n",
            "Downloading regex-2024.5.15-cp311-cp311-win_amd64.whl (268 kB)\n",
            "   ---------------------------------------- 0.0/269.0 kB ? eta -:--:--\n",
            "   --------------------------------- ------ 225.3/269.0 kB 6.9 MB/s eta 0:00:01\n",
            "   ---------------------------------------- 269.0/269.0 kB 5.5 MB/s eta 0:00:00\n",
            "Downloading tokenizers-0.19.1-cp311-none-win_amd64.whl (2.2 MB)\n",
            "   ---------------------------------------- 0.0/2.2 MB ? eta -:--:--\n",
            "   ---- ----------------------------------- 0.2/2.2 MB 6.9 MB/s eta 0:00:01\n",
            "   ---------- ----------------------------- 0.6/2.2 MB 8.9 MB/s eta 0:00:01\n",
            "   -------------- ------------------------- 0.8/2.2 MB 7.2 MB/s eta 0:00:01\n",
            "   ------------------- -------------------- 1.1/2.2 MB 6.8 MB/s eta 0:00:01\n",
            "   ------------------------- -------------- 1.4/2.2 MB 6.9 MB/s eta 0:00:01\n",
            "   ----------------------------- ---------- 1.7/2.2 MB 6.6 MB/s eta 0:00:01\n",
            "   ----------------------------------- ---- 2.0/2.2 MB 6.9 MB/s eta 0:00:01\n",
            "   ---------------------------------------  2.2/2.2 MB 7.1 MB/s eta 0:00:01\n",
            "   ---------------------------------------- 2.2/2.2 MB 6.4 MB/s eta 0:00:00\n",
            "Downloading tomli-2.0.1-py3-none-any.whl (12 kB)\n",
            "Downloading zipp-3.19.1-py3-none-any.whl (9.0 kB)\n",
            "Building wheels for collected packages: groundingdino-py\n",
            "  Building wheel for groundingdino-py (pyproject.toml): started\n",
            "  Building wheel for groundingdino-py (pyproject.toml): finished with status 'done'\n",
            "  Created wheel for groundingdino-py: filename=groundingdino_py-0.4.0-py2.py3-none-any.whl size=88808 sha256=afa0a0703b9ef03cf288bd81d62628c8463443af7e90419f8d244d6b0287005b\n",
            "  Stored in directory: c:\\users\\mmejd\\appdata\\local\\pip\\cache\\wheels\\fb\\d4\\c6\\bdacf5e1dfeb8f104b8ec5968ee61c0f6ef9d9193ba85c0b8d\n",
            "Successfully built groundingdino-py\n",
            "Installing collected packages: addict, zipp, tomli, regex, importlib-metadata, huggingface-hub, yapf, tokenizers, supervision, transformers, groundingdino-py\n",
            "  Attempting uninstall: huggingface-hub\n",
            "    Found existing installation: huggingface-hub 0.21.1\n",
            "    Uninstalling huggingface-hub-0.21.1:\n",
            "      Successfully uninstalled huggingface-hub-0.21.1\n",
            "Successfully installed addict-2.4.0 groundingdino-py-0.4.0 huggingface-hub-0.23.2 importlib-metadata-7.1.0 regex-2024.5.15 supervision-0.6.0 tokenizers-0.19.1 tomli-2.0.1 transformers-4.41.2 yapf-0.40.2 zipp-3.19.1\n",
            "Note: you may need to restart the kernel to use updated packages.\n"
          ]
        },
        {
          "name": "stderr",
          "output_type": "stream",
          "text": [
            "\n",
            "[notice] A new release of pip is available: 23.3.1 -> 24.0\n",
            "[notice] To update, run: C:\\Users\\MMejd\\AppData\\Local\\Microsoft\\WindowsApps\\PythonSoftwareFoundation.Python.3.11_qbz5n2kfra8p0\\python.exe -m pip install --upgrade pip\n"
          ]
        }
      ],
      "source": [
        "%pip install segment-geospatial groundingdino-py leafmap localtileserver"
      ]
    },
    {
      "cell_type": "code",
      "execution_count": 2,
      "metadata": {
        "id": "9JgmeHeEIwsZ"
      },
      "outputs": [],
      "source": [
        "import leafmap\n",
        "from samgeo import tms_to_geotiff\n",
        "from samgeo.text_sam import LangSAM"
      ]
    },
    {
      "cell_type": "markdown",
      "metadata": {
        "id": "AVSLFF8RIwsZ"
      },
      "source": [
        "## Create an interactive map"
      ]
    },
    {
      "cell_type": "code",
      "execution_count": 3,
      "metadata": {
        "colab": {
          "base_uri": "https://localhost:8080/",
          "height": 821,
          "referenced_widgets": [
            "e622a2669b45403db6882740cc8d47da",
            "12fcb5d8627e4484ab38fa5f77f7e555",
            "17d7c0be20a043c4b50e01811e890089",
            "3b947c99c4ac4760babd22e4adc9b4c6",
            "2f73888f0ec945448f627263aa3b9d61",
            "df9edc5801014088a744fe13a0462b05",
            "8830485bc0f7472d81a489daa4de1c5a",
            "8ce852e1772a4e8889c2147c72879e46",
            "48c7d0abd1e240599e9a6da79e19f844",
            "17c4e65e42484ed6886e0a28e4eed185",
            "dbb35bb2e196406ca55adca880d7757a",
            "b18842d0e5f84330aaa705eeef020438",
            "bb32c275244544d98f56e1154875d0da",
            "1945e67cf8914247bfff317cad267c75",
            "2f352d28dcb840cdbd2ffc6555d551a8",
            "e70e8d0bda47489ca9e08eafb4aabcad",
            "97852144e6f74a85bb003599d2bebe0a",
            "bd42ec1d72164400824393d5384a9d9f"
          ]
        },
        "id": "yIhLCBUYIwsZ",
        "outputId": "f3b9b34e-3ea0-462e-cccb-1a348bcf56c5"
      },
      "outputs": [
        {
          "data": {
            "application/vnd.jupyter.widget-view+json": {
              "model_id": "4cb2f970ee5049a3a952d9a2b088431d",
              "version_major": 2,
              "version_minor": 0
            },
            "text/plain": [
              "Map(center=[56.154631, 10.194126], controls=(ZoomControl(options=['position', 'zoom_in_text', 'zoom_in_title',…"
            ]
          },
          "execution_count": 3,
          "metadata": {},
          "output_type": "execute_result"
        }
      ],
      "source": [
        "m = leafmap.Map(center=[56.154631, 10.194126], zoom=18, height=\"800px\")\n",
        "m.add_basemap(\"SATELLITE\")\n",
        "m"
      ]
    },
    {
      "cell_type": "markdown",
      "metadata": {
        "id": "yYjoqzL_Iwsa"
      },
      "source": [
        "## Download a sample image\n",
        "\n",
        "Pan and zoom the map to select the area of interest. Use the draw tools to draw a polygon or rectangle on the map"
      ]
    },
    {
      "cell_type": "code",
      "execution_count": 4,
      "metadata": {
        "id": "z7vuAOebIwsa"
      },
      "outputs": [],
      "source": [
        "min_lat = 56.15460857439466\n",
        "min_lon = 10.192037972762382\n",
        "max_lat = 56.15581114830297\n",
        "max_lon = 10.199668652079422\n",
        "bbox = [ min_lat,min_lon, max_lat,max_lon]"
      ]
    },
    {
      "cell_type": "code",
      "execution_count": 5,
      "metadata": {
        "colab": {
          "base_uri": "https://localhost:8080/",
          "height": 842
        },
        "id": "KtAUgo_AIwsa",
        "outputId": "eef85252-2da3-403c-9bf2-79584a48aa36"
      },
      "outputs": [
        {
          "name": "stdout",
          "output_type": "stream",
          "text": [
            "Downloaded image 01/24\n",
            "Downloaded image 02/24\n",
            "Downloaded image 03/24\n",
            "Downloaded image 04/24\n",
            "Downloaded image 05/24\n",
            "Downloaded image 06/24\n",
            "Downloaded image 07/24\n",
            "Downloaded image 08/24\n",
            "Downloaded image 09/24\n",
            "Downloaded image 10/24\n",
            "Downloaded image 11/24\n",
            "Downloaded image 12/24\n",
            "Downloaded image 13/24\n",
            "Downloaded image 14/24\n",
            "Downloaded image 15/24\n",
            "Downloaded image 16/24\n",
            "Downloaded image 17/24\n",
            "Downloaded image 18/24\n",
            "Downloaded image 19/24\n",
            "Downloaded image 20/24\n",
            "Downloaded image 21/24\n",
            "Downloaded image 22/24\n",
            "Downloaded image 23/24\n",
            "Downloaded image 24/24\n",
            "Saving GeoTIFF. Please wait...\n"
          ]
        },
        {
          "ename": "Exception",
          "evalue": "'NoneType' object has no attribute 'crop'",
          "output_type": "error",
          "traceback": [
            "\u001b[1;31m---------------------------------------------------------------------------\u001b[0m",
            "\u001b[1;31mAttributeError\u001b[0m                            Traceback (most recent call last)",
            "File \u001b[1;32m~\\AppData\\Local\\Packages\\PythonSoftwareFoundation.Python.3.11_qbz5n2kfra8p0\\LocalCache\\local-packages\\Python311\\site-packages\\samgeo\\common.py:645\u001b[0m, in \u001b[0;36mtms_to_geotiff\u001b[1;34m(output, bbox, zoom, resolution, source, crs, to_cog, return_image, overwrite, quiet, **kwargs)\u001b[0m\n\u001b[0;32m    644\u001b[0m \u001b[38;5;28;01mtry\u001b[39;00m:\n\u001b[1;32m--> 645\u001b[0m     image \u001b[38;5;241m=\u001b[39m \u001b[43mdraw_tile\u001b[49m\u001b[43m(\u001b[49m\n\u001b[0;32m    646\u001b[0m \u001b[43m        \u001b[49m\u001b[43msource\u001b[49m\u001b[43m,\u001b[49m\u001b[43m \u001b[49m\u001b[43msouth\u001b[49m\u001b[43m,\u001b[49m\u001b[43m \u001b[49m\u001b[43mwest\u001b[49m\u001b[43m,\u001b[49m\u001b[43m \u001b[49m\u001b[43mnorth\u001b[49m\u001b[43m,\u001b[49m\u001b[43m \u001b[49m\u001b[43meast\u001b[49m\u001b[43m,\u001b[49m\u001b[43m \u001b[49m\u001b[43mzoom\u001b[49m\u001b[43m,\u001b[49m\u001b[43m \u001b[49m\u001b[43moutput\u001b[49m\u001b[43m,\u001b[49m\u001b[43m \u001b[49m\u001b[43mquiet\u001b[49m\u001b[43m,\u001b[49m\u001b[43m \u001b[49m\u001b[38;5;241;43m*\u001b[39;49m\u001b[38;5;241;43m*\u001b[39;49m\u001b[43mkwargs\u001b[49m\n\u001b[0;32m    647\u001b[0m \u001b[43m    \u001b[49m\u001b[43m)\u001b[49m\n\u001b[0;32m    648\u001b[0m     \u001b[38;5;28;01mif\u001b[39;00m return_image:\n",
            "File \u001b[1;32m~\\AppData\\Local\\Packages\\PythonSoftwareFoundation.Python.3.11_qbz5n2kfra8p0\\LocalCache\\local-packages\\Python311\\site-packages\\samgeo\\common.py:607\u001b[0m, in \u001b[0;36mtms_to_geotiff.<locals>.draw_tile\u001b[1;34m(source, lat0, lon0, lat1, lon1, zoom, filename, quiet, **kwargs)\u001b[0m\n\u001b[0;32m    606\u001b[0m     \u001b[38;5;28mprint\u001b[39m(\u001b[38;5;124m\"\u001b[39m\u001b[38;5;124mSaving GeoTIFF. Please wait...\u001b[39m\u001b[38;5;124m\"\u001b[39m)\n\u001b[1;32m--> 607\u001b[0m img \u001b[38;5;241m=\u001b[39m \u001b[43mfinish_picture\u001b[49m\u001b[43m(\u001b[49m\u001b[43mbigim\u001b[49m\u001b[43m,\u001b[49m\u001b[43m \u001b[49m\u001b[43mbase_size\u001b[49m\u001b[43m,\u001b[49m\u001b[43m \u001b[49m\u001b[43mbbox\u001b[49m\u001b[43m,\u001b[49m\u001b[43m \u001b[49m\u001b[43mx0\u001b[49m\u001b[43m,\u001b[49m\u001b[43m \u001b[49m\u001b[43my0\u001b[49m\u001b[43m,\u001b[49m\u001b[43m \u001b[49m\u001b[43mx1\u001b[49m\u001b[43m,\u001b[49m\u001b[43m \u001b[49m\u001b[43my1\u001b[49m\u001b[43m)\u001b[49m\n\u001b[0;32m    608\u001b[0m imgbands \u001b[38;5;241m=\u001b[39m \u001b[38;5;28mlen\u001b[39m(img\u001b[38;5;241m.\u001b[39mgetbands())\n",
            "File \u001b[1;32m~\\AppData\\Local\\Packages\\PythonSoftwareFoundation.Python.3.11_qbz5n2kfra8p0\\LocalCache\\local-packages\\Python311\\site-packages\\samgeo\\common.py:552\u001b[0m, in \u001b[0;36mtms_to_geotiff.<locals>.finish_picture\u001b[1;34m(bigim, base_size, bbox, x0, y0, x1, y1)\u001b[0m\n\u001b[0;32m    551\u001b[0m imgh \u001b[38;5;241m=\u001b[39m \u001b[38;5;28mround\u001b[39m(base_size[\u001b[38;5;241m1\u001b[39m] \u001b[38;5;241m*\u001b[39m (y1 \u001b[38;5;241m-\u001b[39m y0))\n\u001b[1;32m--> 552\u001b[0m retim \u001b[38;5;241m=\u001b[39m \u001b[43mbigim\u001b[49m\u001b[38;5;241;43m.\u001b[39;49m\u001b[43mcrop\u001b[49m((x2, y2, x2 \u001b[38;5;241m+\u001b[39m imgw, y2 \u001b[38;5;241m+\u001b[39m imgh))\n\u001b[0;32m    553\u001b[0m \u001b[38;5;28;01mif\u001b[39;00m retim\u001b[38;5;241m.\u001b[39mmode \u001b[38;5;241m==\u001b[39m \u001b[38;5;124m\"\u001b[39m\u001b[38;5;124mRGBA\u001b[39m\u001b[38;5;124m\"\u001b[39m \u001b[38;5;129;01mand\u001b[39;00m retim\u001b[38;5;241m.\u001b[39mgetextrema()[\u001b[38;5;241m3\u001b[39m] \u001b[38;5;241m==\u001b[39m (\u001b[38;5;241m255\u001b[39m, \u001b[38;5;241m255\u001b[39m):\n",
            "\u001b[1;31mAttributeError\u001b[0m: 'NoneType' object has no attribute 'crop'",
            "\nDuring handling of the above exception, another exception occurred:\n",
            "\u001b[1;31mException\u001b[0m                                 Traceback (most recent call last)",
            "Cell \u001b[1;32mIn[5], line 2\u001b[0m\n\u001b[0;32m      1\u001b[0m image \u001b[38;5;241m=\u001b[39m \u001b[38;5;124m\"\u001b[39m\u001b[38;5;124mImage.tif\u001b[39m\u001b[38;5;124m\"\u001b[39m\n\u001b[1;32m----> 2\u001b[0m \u001b[43mtms_to_geotiff\u001b[49m\u001b[43m(\u001b[49m\u001b[43moutput\u001b[49m\u001b[38;5;241;43m=\u001b[39;49m\u001b[43mimage\u001b[49m\u001b[43m,\u001b[49m\u001b[43m \u001b[49m\u001b[43mbbox\u001b[49m\u001b[38;5;241;43m=\u001b[39;49m\u001b[43mbbox\u001b[49m\u001b[43m,\u001b[49m\u001b[43m \u001b[49m\u001b[43mzoom\u001b[49m\u001b[38;5;241;43m=\u001b[39;49m\u001b[38;5;241;43m19\u001b[39;49m\u001b[43m,\u001b[49m\u001b[43m \u001b[49m\u001b[43msource\u001b[49m\u001b[38;5;241;43m=\u001b[39;49m\u001b[38;5;124;43m\"\u001b[39;49m\u001b[38;5;124;43mSatellite\u001b[39;49m\u001b[38;5;124;43m\"\u001b[39;49m\u001b[43m,\u001b[49m\u001b[43m \u001b[49m\u001b[43moverwrite\u001b[49m\u001b[38;5;241;43m=\u001b[39;49m\u001b[38;5;28;43;01mTrue\u001b[39;49;00m\u001b[43m)\u001b[49m\n",
            "File \u001b[1;32m~\\AppData\\Local\\Packages\\PythonSoftwareFoundation.Python.3.11_qbz5n2kfra8p0\\LocalCache\\local-packages\\Python311\\site-packages\\samgeo\\common.py:655\u001b[0m, in \u001b[0;36mtms_to_geotiff\u001b[1;34m(output, bbox, zoom, resolution, source, crs, to_cog, return_image, overwrite, quiet, **kwargs)\u001b[0m\n\u001b[0;32m    653\u001b[0m         image_to_cog(output, output)\n\u001b[0;32m    654\u001b[0m \u001b[38;5;28;01mexcept\u001b[39;00m \u001b[38;5;167;01mException\u001b[39;00m \u001b[38;5;28;01mas\u001b[39;00m e:\n\u001b[1;32m--> 655\u001b[0m     \u001b[38;5;28;01mraise\u001b[39;00m \u001b[38;5;167;01mException\u001b[39;00m(e)\n",
            "\u001b[1;31mException\u001b[0m: 'NoneType' object has no attribute 'crop'"
          ]
        }
      ],
      "source": [
        "image = \"Image.tif\"\n",
        "tms_to_geotiff(output=image, bbox=bbox, zoom=19, source=\"Satellite\", overwrite=True)"
      ]
    },
    {
      "cell_type": "markdown",
      "metadata": {
        "id": "lzxTLeIMIwsa"
      },
      "source": [
        "You can also use your own image. Uncomment and run the following cell to use your own image."
      ]
    },
    {
      "cell_type": "code",
      "execution_count": null,
      "metadata": {
        "id": "6vATX82qIwsa"
      },
      "outputs": [],
      "source": [
        "# image = '/path/to/your/own/image.tif'"
      ]
    },
    {
      "cell_type": "markdown",
      "metadata": {
        "id": "CoBBJvfJIwsb"
      },
      "source": [
        "Display the downloaded image on the map."
      ]
    },
    {
      "cell_type": "code",
      "execution_count": null,
      "metadata": {
        "id": "f5ShMgB4Iwsb"
      },
      "outputs": [],
      "source": [
        "m.layers[-1].visible = False\n",
        "m.add_raster(image, layer_name=\"Image\")\n",
        "m"
      ]
    },
    {
      "cell_type": "markdown",
      "metadata": {
        "id": "nsNU9gFsIwsb"
      },
      "source": [
        "## Initialize LangSAM class\n",
        "\n",
        "The initialization of the LangSAM class might take a few minutes. The initialization downloads the model weights and sets up the model for inference."
      ]
    },
    {
      "cell_type": "code",
      "execution_count": null,
      "metadata": {
        "id": "59BahtSeIwsb"
      },
      "outputs": [],
      "source": [
        "sam = LangSAM()"
      ]
    },
    {
      "cell_type": "markdown",
      "metadata": {
        "id": "1uJIH4ooIwsb"
      },
      "source": [
        "## Specify text prompts"
      ]
    },
    {
      "cell_type": "code",
      "execution_count": null,
      "metadata": {
        "id": "tewKbGkqIwsb"
      },
      "outputs": [],
      "source": [
        "text_prompt = \"tree\""
      ]
    },
    {
      "cell_type": "markdown",
      "metadata": {
        "id": "HqgZLANbIwsb"
      },
      "source": [
        "## Segment the image\n",
        "\n",
        "Part of the model prediction includes setting appropriate thresholds for object detection and text association with the detected objects. These threshold values range from 0 to 1 and are set while calling the predict method of the LangSAM class.\n",
        "\n",
        "`box_threshold`: This value is used for object detection in the image. A higher value makes the model more selective, identifying only the most confident object instances, leading to fewer overall detections. A lower value, conversely, makes the model more tolerant, leading to increased detections, including potentially less confident ones.\n",
        "\n",
        "`text_threshold`: This value is used to associate the detected objects with the provided text prompt. A higher value requires a stronger association between the object and the text prompt, leading to more precise but potentially fewer associations. A lower value allows for looser associations, which could increase the number of associations but also introduce less precise matches.\n",
        "\n",
        "Remember to test different threshold values on your specific data. The optimal threshold can vary depending on the quality and nature of your images, as well as the specificity of your text prompts. Make sure to choose a balance that suits your requirements, whether that's precision or recall."
      ]
    },
    {
      "cell_type": "code",
      "execution_count": null,
      "metadata": {
        "id": "LRejuMaIIwsb"
      },
      "outputs": [],
      "source": [
        "sam.predict(image, text_prompt, box_threshold=0.24, text_threshold=0.24)"
      ]
    },
    {
      "cell_type": "markdown",
      "metadata": {
        "id": "rXZ_3oflIwsb"
      },
      "source": [
        "## Visualize the results\n",
        "\n",
        "Show the result with bounding boxes on the map."
      ]
    },
    {
      "cell_type": "code",
      "execution_count": null,
      "metadata": {
        "id": "8BNBtnX3Iwsb"
      },
      "outputs": [],
      "source": [
        "sam.show_anns(\n",
        "    cmap=\"Greens\",\n",
        "    box_color=\"red\",\n",
        "    title=\"Automatic Segmentation of Trees\",\n",
        "    blend=True,\n",
        ")"
      ]
    },
    {
      "cell_type": "markdown",
      "metadata": {
        "id": "oPxSCY97Iwsb"
      },
      "source": [
        "![](https://i.imgur.com/ytKMTlA.png)"
      ]
    },
    {
      "cell_type": "markdown",
      "metadata": {
        "id": "RQyXGFFxIwsc"
      },
      "source": [
        "Show the result without bounding boxes on the map."
      ]
    },
    {
      "cell_type": "code",
      "execution_count": null,
      "metadata": {
        "id": "uqFoMU6pIwsc"
      },
      "outputs": [],
      "source": [
        "sam.show_anns(\n",
        "    cmap=\"Greens\",\n",
        "    add_boxes=False,\n",
        "    alpha=0.5,\n",
        "    title=\"Automatic Segmentation of Trees\",\n",
        ")"
      ]
    },
    {
      "cell_type": "markdown",
      "metadata": {
        "id": "i7sm83TcIwsc"
      },
      "source": [
        "![](https://i.imgur.com/3Iq2kt1.png)"
      ]
    },
    {
      "cell_type": "markdown",
      "metadata": {
        "id": "17XoQUo-Iwsc"
      },
      "source": [
        "Show the result as a grayscale image."
      ]
    },
    {
      "cell_type": "code",
      "execution_count": null,
      "metadata": {
        "id": "luttC4nkIwsc"
      },
      "outputs": [],
      "source": [
        "sam.show_anns(\n",
        "    cmap=\"Greys_r\",\n",
        "    add_boxes=False,\n",
        "    alpha=1,\n",
        "    title=\"Automatic Segmentation of Trees\",\n",
        "    blend=False,\n",
        "    output=\"trees.tif\",\n",
        ")"
      ]
    },
    {
      "cell_type": "markdown",
      "metadata": {
        "id": "vKXbhakSIwsc"
      },
      "source": [
        "![](https://i.imgur.com/KtHwFbF.png)"
      ]
    },
    {
      "cell_type": "markdown",
      "metadata": {
        "id": "CbcDOcgyIwsc"
      },
      "source": [
        "Convert the result to a vector format.  "
      ]
    },
    {
      "cell_type": "code",
      "execution_count": null,
      "metadata": {
        "id": "veQ7F01JIwsc"
      },
      "outputs": [],
      "source": [
        "sam.raster_to_vector(\"trees.tif\", \"trees.shp\")"
      ]
    },
    {
      "cell_type": "markdown",
      "metadata": {
        "id": "o2KjWCuhIwsc"
      },
      "source": [
        "Show the results on the interactive map."
      ]
    },
    {
      "cell_type": "code",
      "execution_count": null,
      "metadata": {
        "id": "0NwhrWLbIwsc"
      },
      "outputs": [],
      "source": [
        "m.add_raster(\"trees.tif\", layer_name=\"Trees\", palette=\"Greens\", opacity=0.5, nodata=0)\n",
        "style = {\n",
        "    \"color\": \"#3388ff\",\n",
        "    \"weight\": 2,\n",
        "    \"fillColor\": \"#7c4185\",\n",
        "    \"fillOpacity\": 0.5,\n",
        "}\n",
        "m.add_vector(\"trees.shp\", layer_name=\"Vector\", style=style)\n",
        "m"
      ]
    },
    {
      "cell_type": "markdown",
      "metadata": {
        "id": "FFFeB-uRIwsc"
      },
      "source": [
        "## Interactive segmentation"
      ]
    },
    {
      "cell_type": "code",
      "execution_count": null,
      "metadata": {
        "id": "dyGzFdlNIwsc"
      },
      "outputs": [],
      "source": [
        "sam.show_map()"
      ]
    },
    {
      "cell_type": "markdown",
      "metadata": {
        "id": "puRUBFrvIwsc"
      },
      "source": [
        "![](https://i.imgur.com/wydt5Xt.gif)"
      ]
    }
  ],
  "metadata": {
    "colab": {
      "provenance": []
    },
    "kernelspec": {
      "display_name": "sam",
      "language": "python",
      "name": "python3"
    },
    "language_info": {
      "codemirror_mode": {
        "name": "ipython",
        "version": 3
      },
      "file_extension": ".py",
      "mimetype": "text/x-python",
      "name": "python",
      "nbconvert_exporter": "python",
      "pygments_lexer": "ipython3",
      "version": "3.11.9"
    },
    "widgets": {
      "application/vnd.jupyter.widget-state+json": {
        "12fcb5d8627e4484ab38fa5f77f7e555": {
          "model_module": "jupyter-leaflet",
          "model_module_version": "^0.18",
          "model_name": "LeafletZoomControlModel",
          "state": {
            "_model_module": "jupyter-leaflet",
            "_model_module_version": "^0.18",
            "_model_name": "LeafletZoomControlModel",
            "_view_count": null,
            "_view_module": "jupyter-leaflet",
            "_view_module_version": "^0.18",
            "_view_name": "LeafletZoomControlView",
            "options": [
              "position",
              "zoom_in_text",
              "zoom_in_title",
              "zoom_out_text",
              "zoom_out_title"
            ],
            "position": "topleft",
            "zoom_in_text": "+",
            "zoom_in_title": "Zoom in",
            "zoom_out_text": "-",
            "zoom_out_title": "Zoom out"
          }
        },
        "17c4e65e42484ed6886e0a28e4eed185": {
          "model_module": "jupyter-leaflet",
          "model_module_version": "^0.18",
          "model_name": "LeafletTileLayerModel",
          "state": {
            "_model_module": "jupyter-leaflet",
            "_model_module_version": "^0.18",
            "_model_name": "LeafletTileLayerModel",
            "_view_count": null,
            "_view_module": "jupyter-leaflet",
            "_view_module_version": "^0.18",
            "_view_name": "LeafletTileLayerView",
            "attribution": "&copy; <a href=\"https://www.openstreetmap.org/copyright\">OpenStreetMap</a> contributors",
            "base": true,
            "bottom": true,
            "bounds": null,
            "detect_retina": false,
            "loading": false,
            "max_native_zoom": null,
            "max_zoom": 19,
            "min_native_zoom": null,
            "min_zoom": 1,
            "name": "OpenStreetMap",
            "no_wrap": false,
            "opacity": 1,
            "options": [
              "attribution",
              "bounds",
              "detect_retina",
              "max_native_zoom",
              "max_zoom",
              "min_native_zoom",
              "min_zoom",
              "no_wrap",
              "tile_size",
              "tms",
              "zoom_offset"
            ],
            "pane": "",
            "popup": null,
            "popup_max_height": null,
            "popup_max_width": 300,
            "popup_min_width": 50,
            "show_loading": false,
            "subitems": [],
            "tile_size": 256,
            "tms": false,
            "url": "https://tile.openstreetmap.org/{z}/{x}/{y}.png",
            "visible": true,
            "zoom_offset": 0
          }
        },
        "17d7c0be20a043c4b50e01811e890089": {
          "model_module": "jupyter-leaflet",
          "model_module_version": "^0.18",
          "model_name": "LeafletAttributionControlModel",
          "state": {
            "_model_module": "jupyter-leaflet",
            "_model_module_version": "^0.18",
            "_model_name": "LeafletAttributionControlModel",
            "_view_count": null,
            "_view_module": "jupyter-leaflet",
            "_view_module_version": "^0.18",
            "_view_name": "LeafletAttributionControlView",
            "options": [
              "position",
              "prefix"
            ],
            "position": "bottomright",
            "prefix": "ipyleaflet"
          }
        },
        "1945e67cf8914247bfff317cad267c75": {
          "model_module": "@jupyter-widgets/controls",
          "model_module_version": "1.5.0",
          "model_name": "VBoxModel",
          "state": {
            "_dom_classes": [],
            "_model_module": "@jupyter-widgets/controls",
            "_model_module_version": "1.5.0",
            "_model_name": "VBoxModel",
            "_view_count": null,
            "_view_module": "@jupyter-widgets/controls",
            "_view_module_version": "1.5.0",
            "_view_name": "VBoxView",
            "box_style": "",
            "children": [
              "IPY_MODEL_2f352d28dcb840cdbd2ffc6555d551a8"
            ],
            "layout": "IPY_MODEL_e70e8d0bda47489ca9e08eafb4aabcad"
          }
        },
        "2f352d28dcb840cdbd2ffc6555d551a8": {
          "model_module": "@jupyter-widgets/controls",
          "model_module_version": "1.5.0",
          "model_name": "ToggleButtonModel",
          "state": {
            "_dom_classes": [],
            "_model_module": "@jupyter-widgets/controls",
            "_model_module_version": "1.5.0",
            "_model_name": "ToggleButtonModel",
            "_view_count": null,
            "_view_module": "@jupyter-widgets/controls",
            "_view_module_version": "1.5.0",
            "_view_name": "ToggleButtonView",
            "button_style": "",
            "description": "",
            "description_tooltip": null,
            "disabled": false,
            "icon": "wrench",
            "layout": "IPY_MODEL_97852144e6f74a85bb003599d2bebe0a",
            "style": "IPY_MODEL_bd42ec1d72164400824393d5384a9d9f",
            "tooltip": "Toolbar",
            "value": false
          }
        },
        "2f73888f0ec945448f627263aa3b9d61": {
          "model_module": "jupyter-leaflet",
          "model_module_version": "^0.18",
          "model_name": "LeafletDrawControlModel",
          "state": {
            "_model_module": "jupyter-leaflet",
            "_model_module_version": "^0.18",
            "_model_name": "LeafletDrawControlModel",
            "_view_count": null,
            "_view_module": "jupyter-leaflet",
            "_view_module_version": "^0.18",
            "_view_name": "LeafletDrawControlView",
            "circle": {
              "repeatMode": false,
              "shapeOptions": {
                "color": "#3388ff"
              }
            },
            "circlemarker": {},
            "data": [],
            "edit": true,
            "marker": {
              "repeatMode": false,
              "shapeOptions": {
                "color": "#3388ff"
              }
            },
            "options": [
              "position"
            ],
            "polygon": {
              "repeatMode": false
            },
            "polyline": {
              "repeatMode": false
            },
            "position": "topleft",
            "rectangle": {
              "repeatMode": false,
              "shapeOptions": {
                "color": "#3388ff"
              }
            },
            "remove": true
          }
        },
        "3b947c99c4ac4760babd22e4adc9b4c6": {
          "model_module": "jupyter-leaflet",
          "model_module_version": "^0.18",
          "model_name": "LeafletFullScreenControlModel",
          "state": {
            "_model_module": "jupyter-leaflet",
            "_model_module_version": "^0.18",
            "_model_name": "LeafletFullScreenControlModel",
            "_view_count": null,
            "_view_module": "jupyter-leaflet",
            "_view_module_version": "^0.18",
            "_view_name": "LeafletFullScreenControlView",
            "options": [
              "position"
            ],
            "position": "topleft"
          }
        },
        "48c7d0abd1e240599e9a6da79e19f844": {
          "model_module": "jupyter-leaflet",
          "model_module_version": "^0.18",
          "model_name": "LeafletMapStyleModel",
          "state": {
            "_model_module": "jupyter-leaflet",
            "_model_module_version": "^0.18",
            "_model_name": "LeafletMapStyleModel",
            "_view_count": null,
            "_view_module": "@jupyter-widgets/base",
            "_view_module_version": "1.2.0",
            "_view_name": "StyleView",
            "cursor": "move"
          }
        },
        "8830485bc0f7472d81a489daa4de1c5a": {
          "model_module": "jupyter-leaflet",
          "model_module_version": "^0.18",
          "model_name": "LeafletWidgetControlModel",
          "state": {
            "_model_module": "jupyter-leaflet",
            "_model_module_version": "^0.18",
            "_model_name": "LeafletWidgetControlModel",
            "_view_count": null,
            "_view_module": "jupyter-leaflet",
            "_view_module_version": "^0.18",
            "_view_name": "LeafletWidgetControlView",
            "max_height": null,
            "max_width": null,
            "min_height": null,
            "min_width": null,
            "options": [
              "position",
              "transparent_bg"
            ],
            "position": "topright",
            "transparent_bg": false,
            "widget": "IPY_MODEL_1945e67cf8914247bfff317cad267c75"
          }
        },
        "8ce852e1772a4e8889c2147c72879e46": {
          "model_module": "jupyter-leaflet",
          "model_module_version": "^0.18",
          "model_name": "LeafletMapStyleModel",
          "state": {
            "_model_module": "jupyter-leaflet",
            "_model_module_version": "^0.18",
            "_model_name": "LeafletMapStyleModel",
            "_view_count": null,
            "_view_module": "@jupyter-widgets/base",
            "_view_module_version": "1.2.0",
            "_view_name": "StyleView",
            "cursor": "grab"
          }
        },
        "97852144e6f74a85bb003599d2bebe0a": {
          "model_module": "@jupyter-widgets/base",
          "model_module_version": "1.2.0",
          "model_name": "LayoutModel",
          "state": {
            "_model_module": "@jupyter-widgets/base",
            "_model_module_version": "1.2.0",
            "_model_name": "LayoutModel",
            "_view_count": null,
            "_view_module": "@jupyter-widgets/base",
            "_view_module_version": "1.2.0",
            "_view_name": "LayoutView",
            "align_content": null,
            "align_items": null,
            "align_self": null,
            "border": null,
            "bottom": null,
            "display": null,
            "flex": null,
            "flex_flow": null,
            "grid_area": null,
            "grid_auto_columns": null,
            "grid_auto_flow": null,
            "grid_auto_rows": null,
            "grid_column": null,
            "grid_gap": null,
            "grid_row": null,
            "grid_template_areas": null,
            "grid_template_columns": null,
            "grid_template_rows": null,
            "height": "28px",
            "justify_content": null,
            "justify_items": null,
            "left": null,
            "margin": null,
            "max_height": null,
            "max_width": null,
            "min_height": null,
            "min_width": null,
            "object_fit": null,
            "object_position": null,
            "order": null,
            "overflow": null,
            "overflow_x": null,
            "overflow_y": null,
            "padding": "0px 0px 0px 4px",
            "right": null,
            "top": null,
            "visibility": null,
            "width": "28px"
          }
        },
        "b18842d0e5f84330aaa705eeef020438": {
          "model_module": "@jupyter-widgets/base",
          "model_module_version": "1.2.0",
          "model_name": "LayoutModel",
          "state": {
            "_model_module": "@jupyter-widgets/base",
            "_model_module_version": "1.2.0",
            "_model_name": "LayoutModel",
            "_view_count": null,
            "_view_module": "@jupyter-widgets/base",
            "_view_module_version": "1.2.0",
            "_view_name": "LayoutView",
            "align_content": null,
            "align_items": null,
            "align_self": null,
            "border": null,
            "bottom": null,
            "display": null,
            "flex": null,
            "flex_flow": null,
            "grid_area": null,
            "grid_auto_columns": null,
            "grid_auto_flow": null,
            "grid_auto_rows": null,
            "grid_column": null,
            "grid_gap": null,
            "grid_row": null,
            "grid_template_areas": null,
            "grid_template_columns": null,
            "grid_template_rows": null,
            "height": "800px",
            "justify_content": null,
            "justify_items": null,
            "left": null,
            "margin": null,
            "max_height": null,
            "max_width": null,
            "min_height": null,
            "min_width": null,
            "object_fit": null,
            "object_position": null,
            "order": null,
            "overflow": null,
            "overflow_x": null,
            "overflow_y": null,
            "padding": null,
            "right": null,
            "top": null,
            "visibility": null,
            "width": null
          }
        },
        "bb32c275244544d98f56e1154875d0da": {
          "model_module": "jupyter-leaflet",
          "model_module_version": "^0.18",
          "model_name": "LeafletMapStyleModel",
          "state": {
            "_model_module": "jupyter-leaflet",
            "_model_module_version": "^0.18",
            "_model_name": "LeafletMapStyleModel",
            "_view_count": null,
            "_view_module": "@jupyter-widgets/base",
            "_view_module_version": "1.2.0",
            "_view_name": "StyleView",
            "cursor": "grab"
          }
        },
        "bd42ec1d72164400824393d5384a9d9f": {
          "model_module": "@jupyter-widgets/controls",
          "model_module_version": "1.5.0",
          "model_name": "DescriptionStyleModel",
          "state": {
            "_model_module": "@jupyter-widgets/controls",
            "_model_module_version": "1.5.0",
            "_model_name": "DescriptionStyleModel",
            "_view_count": null,
            "_view_module": "@jupyter-widgets/base",
            "_view_module_version": "1.2.0",
            "_view_name": "StyleView",
            "description_width": ""
          }
        },
        "dbb35bb2e196406ca55adca880d7757a": {
          "model_module": "jupyter-leaflet",
          "model_module_version": "^0.18",
          "model_name": "LeafletTileLayerModel",
          "state": {
            "_model_module": "jupyter-leaflet",
            "_model_module_version": "^0.18",
            "_model_name": "LeafletTileLayerModel",
            "_view_count": null,
            "_view_module": "jupyter-leaflet",
            "_view_module_version": "^0.18",
            "_view_name": "LeafletTileLayerView",
            "attribution": "Google",
            "base": false,
            "bottom": true,
            "bounds": null,
            "detect_retina": false,
            "loading": false,
            "max_native_zoom": null,
            "max_zoom": 24,
            "min_native_zoom": null,
            "min_zoom": 0,
            "name": "Google Satellite",
            "no_wrap": false,
            "opacity": 1,
            "options": [
              "attribution",
              "bounds",
              "detect_retina",
              "max_native_zoom",
              "max_zoom",
              "min_native_zoom",
              "min_zoom",
              "no_wrap",
              "tile_size",
              "tms",
              "zoom_offset"
            ],
            "pane": "",
            "popup": null,
            "popup_max_height": null,
            "popup_max_width": 300,
            "popup_min_width": 50,
            "show_loading": false,
            "subitems": [],
            "tile_size": 256,
            "tms": false,
            "url": "https://mt1.google.com/vt/lyrs=s&x={x}&y={y}&z={z}&key=API-KEY",
            "visible": true,
            "zoom_offset": 0
          }
        },
        "df9edc5801014088a744fe13a0462b05": {
          "model_module": "jupyter-leaflet",
          "model_module_version": "^0.18",
          "model_name": "LeafletScaleControlModel",
          "state": {
            "_model_module": "jupyter-leaflet",
            "_model_module_version": "^0.18",
            "_model_name": "LeafletScaleControlModel",
            "_view_count": null,
            "_view_module": "jupyter-leaflet",
            "_view_module_version": "^0.18",
            "_view_name": "LeafletScaleControlView",
            "imperial": true,
            "max_width": 100,
            "metric": true,
            "options": [
              "imperial",
              "max_width",
              "metric",
              "position",
              "update_when_idle"
            ],
            "position": "bottomleft",
            "update_when_idle": false
          }
        },
        "e622a2669b45403db6882740cc8d47da": {
          "model_module": "jupyter-leaflet",
          "model_module_version": "^0.18",
          "model_name": "LeafletMapModel",
          "state": {
            "_dom_classes": [],
            "_model_module": "jupyter-leaflet",
            "_model_module_version": "^0.18",
            "_model_name": "LeafletMapModel",
            "_view_count": null,
            "_view_module": "jupyter-leaflet",
            "_view_module_version": "^0.18",
            "_view_name": "LeafletMapView",
            "bottom": 166768523,
            "bounce_at_zoom_limits": true,
            "box_zoom": true,
            "center": [
              56.153392227530006,
              10.19295014081505
            ],
            "close_popup_on_click": true,
            "controls": [
              "IPY_MODEL_12fcb5d8627e4484ab38fa5f77f7e555",
              "IPY_MODEL_17d7c0be20a043c4b50e01811e890089",
              "IPY_MODEL_3b947c99c4ac4760babd22e4adc9b4c6",
              "IPY_MODEL_2f73888f0ec945448f627263aa3b9d61",
              "IPY_MODEL_df9edc5801014088a744fe13a0462b05",
              "IPY_MODEL_8830485bc0f7472d81a489daa4de1c5a"
            ],
            "crs": {
              "custom": false,
              "name": "EPSG3857"
            },
            "default_style": "IPY_MODEL_8ce852e1772a4e8889c2147c72879e46",
            "double_click_zoom": true,
            "dragging": true,
            "dragging_style": "IPY_MODEL_48c7d0abd1e240599e9a6da79e19f844",
            "east": 10.193450372796327,
            "fullscreen": false,
            "inertia": true,
            "inertia_deceleration": 3000,
            "inertia_max_speed": 1500,
            "interpolation": "bilinear",
            "keyboard": true,
            "keyboard_pan_offset": 80,
            "keyboard_zoom_offset": 1,
            "layers": [
              "IPY_MODEL_17c4e65e42484ed6886e0a28e4eed185",
              "IPY_MODEL_dbb35bb2e196406ca55adca880d7757a"
            ],
            "layout": "IPY_MODEL_b18842d0e5f84330aaa705eeef020438",
            "left": 283635538.9946386,
            "max_zoom": 24,
            "min_zoom": null,
            "modisdate": "2024-06-01",
            "north": 56.15354161861147,
            "options": [
              "bounce_at_zoom_limits",
              "box_zoom",
              "center",
              "close_popup_on_click",
              "double_click_zoom",
              "dragging",
              "fullscreen",
              "inertia",
              "inertia_deceleration",
              "inertia_max_speed",
              "interpolation",
              "keyboard",
              "keyboard_pan_offset",
              "keyboard_zoom_offset",
              "max_zoom",
              "min_zoom",
              "prefer_canvas",
              "scroll_wheel_zoom",
              "tap",
              "tap_tolerance",
              "touch_zoom",
              "world_copy_jump",
              "zoom",
              "zoom_animation_threshold",
              "zoom_delta",
              "zoom_snap"
            ],
            "panes": {},
            "prefer_canvas": false,
            "right": 283637030.9946386,
            "scroll_wheel_zoom": true,
            "south": 56.15324283586772,
            "style": "IPY_MODEL_8ce852e1772a4e8889c2147c72879e46",
            "tap": true,
            "tap_tolerance": 15,
            "top": 166767723,
            "touch_zoom": true,
            "west": 10.192449908833773,
            "window_url": "https://3k4an3lm2nq-496ff2e9c6d22116-0-colab.googleusercontent.com/outputframe.html?vrz=colab_20240530-060148_RC00_638597350",
            "world_copy_jump": false,
            "zoom": 21,
            "zoom_animation_threshold": 4,
            "zoom_delta": 1,
            "zoom_snap": 1
          }
        },
        "e70e8d0bda47489ca9e08eafb4aabcad": {
          "model_module": "@jupyter-widgets/base",
          "model_module_version": "1.2.0",
          "model_name": "LayoutModel",
          "state": {
            "_model_module": "@jupyter-widgets/base",
            "_model_module_version": "1.2.0",
            "_model_name": "LayoutModel",
            "_view_count": null,
            "_view_module": "@jupyter-widgets/base",
            "_view_module_version": "1.2.0",
            "_view_name": "LayoutView",
            "align_content": null,
            "align_items": null,
            "align_self": null,
            "border": null,
            "bottom": null,
            "display": null,
            "flex": null,
            "flex_flow": null,
            "grid_area": null,
            "grid_auto_columns": null,
            "grid_auto_flow": null,
            "grid_auto_rows": null,
            "grid_column": null,
            "grid_gap": null,
            "grid_row": null,
            "grid_template_areas": null,
            "grid_template_columns": null,
            "grid_template_rows": null,
            "height": null,
            "justify_content": null,
            "justify_items": null,
            "left": null,
            "margin": null,
            "max_height": null,
            "max_width": null,
            "min_height": null,
            "min_width": null,
            "object_fit": null,
            "object_position": null,
            "order": null,
            "overflow": null,
            "overflow_x": null,
            "overflow_y": null,
            "padding": null,
            "right": null,
            "top": null,
            "visibility": null,
            "width": null
          }
        }
      }
    }
  },
  "nbformat": 4,
  "nbformat_minor": 0
}
