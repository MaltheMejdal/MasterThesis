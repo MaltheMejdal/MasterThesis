{
 "cells": [
  {
   "cell_type": "code",
   "execution_count": null,
   "metadata": {},
   "outputs": [],
   "source": [
    "#Source: https://samgeo.gishub.org/examples/satellite/"
   ]
  },
  {
   "cell_type": "code",
   "execution_count": 1,
   "metadata": {},
   "outputs": [],
   "source": [
    "#Dependencies\n",
    "import os\n",
    "import leafmap\n",
    "from samgeo import SamGeo, tms_to_geotiff, get_basemaps"
   ]
  },
  {
   "cell_type": "code",
   "execution_count": 2,
   "metadata": {},
   "outputs": [
    {
     "data": {
      "application/vnd.jupyter.widget-view+json": {
       "model_id": "26e685f0b336423a81433fbb0d23e35c",
       "version_major": 2,
       "version_minor": 0
      },
      "text/plain": [
       "Map(center=[56.154631, 10.194126], controls=(ZoomControl(options=['position', 'zoom_in_text', 'zoom_in_title',…"
      ]
     },
     "execution_count": 2,
     "metadata": {},
     "output_type": "execute_result"
    }
   ],
   "source": [
    "#Displaying satellite image background\n",
    "m = leafmap.Map(center=[56.154631, 10.194126], zoom=20)\n",
    "m.add_basemap(\"SATELLITE\")\n",
    "m"
   ]
  },
  {
   "cell_type": "code",
   "execution_count": 3,
   "metadata": {},
   "outputs": [],
   "source": [
    "#Path to save tile\n",
    "tilePath = \"satellite3.tif\""
   ]
  },
  {
   "cell_type": "code",
   "execution_count": 4,
   "metadata": {},
   "outputs": [],
   "source": [
    "#Area of interest\n",
    "bbox = [ 10.195349,56.154235, 10.193432,56.154877]"
   ]
  },
  {
   "cell_type": "code",
   "execution_count": 5,
   "metadata": {},
   "outputs": [
    {
     "name": "stdout",
     "output_type": "stream",
     "text": [
      "Downloaded image 01/28\n",
      "Downloaded image 02/28\n",
      "Downloaded image 03/28\n",
      "Downloaded image 04/28\n",
      "Downloaded image 05/28\n",
      "Downloaded image 06/28\n",
      "Downloaded image 07/28\n",
      "Downloaded image 08/28\n",
      "Downloaded image 09/28\n",
      "Downloaded image 10/28\n",
      "Downloaded image 11/28\n",
      "Downloaded image 12/28\n",
      "Downloaded image 13/28\n",
      "Downloaded image 14/28\n",
      "Downloaded image 15/28\n",
      "Downloaded image 16/28\n",
      "Downloaded image 17/28\n",
      "Downloaded image 18/28\n",
      "Downloaded image 19/28\n",
      "Downloaded image 20/28\n",
      "Downloaded image 21/28\n",
      "Downloaded image 22/28\n",
      "Downloaded image 23/28\n",
      "Downloaded image 24/28\n",
      "Downloaded image 25/28\n",
      "Downloaded image 26/28\n",
      "Downloaded image 27/28\n",
      "Downloaded image 28/28\n",
      "Saving GeoTIFF. Please wait...\n",
      "Image saved to satellite3.tif\n"
     ]
    }
   ],
   "source": [
    "#Getting tiles and saving as geotiff (Tile with implemented coordinates)\n",
    "tms_to_geotiff(output=tilePath, bbox=bbox, zoom=20, source=\"Satellite\", overwrite=True)\n"
   ]
  },
  {
   "cell_type": "code",
   "execution_count": 6,
   "metadata": {},
   "outputs": [],
   "source": [
    "#Displaying\n",
    "m.layers[-1].visible = False\n",
    "m.add_raster(tilePath, layer_name=\"Image\")"
   ]
  },
  {
   "cell_type": "code",
   "execution_count": 7,
   "metadata": {},
   "outputs": [],
   "source": [
    "#setting up SAM\n",
    "sam = SamGeo(\n",
    "    model_type=\"vit_h\",\n",
    "    checkpoint=\"sam_vit_h_4b8939.pth\",\n",
    "    sam_kwargs=None,\n",
    ")"
   ]
  },
  {
   "cell_type": "code",
   "execution_count": 11,
   "metadata": {},
   "outputs": [
    {
     "name": "stderr",
     "output_type": "stream",
     "text": [
      "  0%|          | 0/8 [00:00<?, ?it/s]"
     ]
    },
    {
     "name": "stderr",
     "output_type": "stream",
     "text": [
      "100%|██████████| 8/8 [13:45<00:00, 103.15s/it]\n"
     ]
    }
   ],
   "source": [
    "#Generating mask\n",
    "mask = \"segment.tif\"\n",
    "sam.generate(\n",
    "    tilePath, mask, batch=True, foreground=True, erosion_kernel=(3, 3), mask_multiplier=255\n",
    ")"
   ]
  },
  {
   "cell_type": "code",
   "execution_count": 12,
   "metadata": {},
   "outputs": [],
   "source": [
    "#Saving as GeoTiff\n",
    "vector = \"segment.gpkg\"\n",
    "sam.tiff_to_gpkg(mask, vector, simplify_tolerance=None)"
   ]
  },
  {
   "cell_type": "code",
   "execution_count": 13,
   "metadata": {},
   "outputs": [
    {
     "data": {
      "application/vnd.jupyter.widget-view+json": {
       "model_id": "26e685f0b336423a81433fbb0d23e35c",
       "version_major": 2,
       "version_minor": 0
      },
      "text/plain": [
       "Map(bottom=20845867.0, center=[56.1547325460847, 10.195439843058459], controls=(ZoomControl(options=['position…"
      ]
     },
     "execution_count": 13,
     "metadata": {},
     "output_type": "execute_result"
    }
   ],
   "source": [
    "#Displaying results\n",
    "style = {\n",
    "    \"color\": \"#3388ff\",\n",
    "    \"weight\": 2,\n",
    "    \"fillColor\": \"#7c4185\",\n",
    "    \"fillOpacity\": 0.5,\n",
    "}\n",
    "m.add_vector(vector, layer_name=\"Vector\", style=style)\n",
    "m"
   ]
  }
 ],
 "metadata": {
  "kernelspec": {
   "display_name": "Python 3",
   "language": "python",
   "name": "python3"
  },
  "language_info": {
   "codemirror_mode": {
    "name": "ipython",
    "version": 3
   },
   "file_extension": ".py",
   "mimetype": "text/x-python",
   "name": "python",
   "nbconvert_exporter": "python",
   "pygments_lexer": "ipython3",
   "version": "3.11.9"
  }
 },
 "nbformat": 4,
 "nbformat_minor": 2
}
