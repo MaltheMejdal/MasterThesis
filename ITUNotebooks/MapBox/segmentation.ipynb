{
 "cells": [
  {
   "cell_type": "markdown",
   "metadata": {},
   "source": [
    "## Segmentation of 1 Aarhus location for comparison\n",
    "\n",
    "Using MapBox tiles and Tile2Net"
   ]
  },
  {
   "cell_type": "code",
   "execution_count": null,
   "metadata": {},
   "outputs": [],
   "source": [
    "from tile2net import Raster"
   ]
  },
  {
   "cell_type": "code",
   "execution_count": null,
   "metadata": {},
   "outputs": [],
   "source": [
    "min_lat = 56.15460857439466\n",
    "min_lon = 10.192037972762382\n",
    "max_lat = 56.15581114830297\n",
    "max_lon = 10.199668652079422\n",
    "\n",
    "location = f\"{min_lat}, {min_lon}, {max_lat}, {max_lon}\""
   ]
  },
  {
   "cell_type": "code",
   "execution_count": null,
   "metadata": {},
   "outputs": [],
   "source": [
    "raster = Raster(\n",
    "    name=\"Aarhus1Mapbox\",\n",
    "    location=location,\n",
    "    input_dir=r'../../ITUData\\MapBox\\Aarhus1\\tiles\\static\\512_19\\x_y.png',\n",
    "    zoom=19,\n",
    "    base_tilesize=512\n",
    ")\n",
    "\n",
    "raster"
   ]
  },
  {
   "cell_type": "code",
   "execution_count": null,
   "metadata": {},
   "outputs": [],
   "source": [
    "raster.project"
   ]
  },
  {
   "cell_type": "code",
   "execution_count": null,
   "metadata": {},
   "outputs": [],
   "source": [
    "raster.inference()"
   ]
  },
  {
   "cell_type": "code",
   "execution_count": null,
   "metadata": {},
   "outputs": [],
   "source": [
    "raster = Raster(\n",
    "    name=\"Aarhus1Mapbox256\",\n",
    "    location=location,\n",
    "    input_dir=r'../../ITUData\\MapBox\\Aarhus1\\tiles\\static\\256_20\\x_y.png',\n",
    "    zoom=20,\n",
    "    base_tilesize=256\n",
    ")\n",
    "\n",
    "raster"
   ]
  },
  {
   "cell_type": "code",
   "execution_count": null,
   "metadata": {},
   "outputs": [],
   "source": [
    "raster.generate(1)"
   ]
  },
  {
   "cell_type": "code",
   "execution_count": null,
   "metadata": {},
   "outputs": [],
   "source": [
    "raster.inference()"
   ]
  }
 ],
 "metadata": {
  "kernelspec": {
   "display_name": "mitTest",
   "language": "python",
   "name": "python3"
  },
  "language_info": {
   "codemirror_mode": {
    "name": "ipython",
    "version": 3
   },
   "file_extension": ".py",
   "mimetype": "text/x-python",
   "name": "python",
   "nbconvert_exporter": "python",
   "pygments_lexer": "ipython3",
   "version": "3.10.9"
  }
 },
 "nbformat": 4,
 "nbformat_minor": 2
}
